{
 "cells": [
  {
   "cell_type": "markdown",
   "id": "9c5cd590-43d3-4d23-89e2-0cb14ea79a00",
   "metadata": {},
   "source": [
    "## Random Forest Model"
   ]
  },
  {
   "cell_type": "markdown",
   "id": "301a6982-15fb-4df9-aa43-18ab10ecdb73",
   "metadata": {},
   "source": [
    "We will use the supervised learning algorithm Random Forest, as it includes a bagging method which should help deal with the imbalanced classes we have for our predicted variable. Bagging is a form of bootstrapping where it aggregates all different bootstrapped sub-samples to make a more accurate prediction compared to that of an individual model. In addition to this, Random Forest models allow us to determine feature importance and aid in feature selection for our future models. There have been studies to test the effectiveness of feature selection, and we will be basing our decision to use the Random Forest for feature selection based on a study by Chen, et. al (2020). They found the Random Forest algorithm to be the best at handling feature selection with a high number of variables in comparison to the Boruta and Recursive Feature Elimination (RFE) methods of feature selection. "
   ]
  },
  {
   "cell_type": "code",
   "execution_count": 38,
   "id": "eef56d17-bb30-4fb1-900c-4f5ed271344f",
   "metadata": {},
   "outputs": [],
   "source": [
    "import pandas as pd\n",
    "import numpy as np\n",
    "import matplotlib.pyplot as plt\n",
    "import seaborn as sns\n",
    "\n",
    "from sklearn.ensemble import RandomForestClassifier, ExtraTreesClassifier\n",
    "from sklearn.model_selection import cross_val_score, train_test_split, GridSearchCV\n",
    "from sklearn.metrics import precision_recall_curve, auc, roc_curve, roc_auc_score\n",
    "from sklearn.preprocessing import StandardScaler\n",
    "from sklearn.dummy import DummyClassifier\n",
    "\n",
    "%matplotlib inline"
   ]
  },
  {
   "cell_type": "code",
   "execution_count": 2,
   "id": "92413880-c648-4959-b2e6-25748d08e624",
   "metadata": {},
   "outputs": [],
   "source": [
    "#Read in dataframe with cleaned loan data\n",
    "df = pd.read_csv('./data/loan_all.csv')"
   ]
  },
  {
   "cell_type": "code",
   "execution_count": 3,
   "id": "a2a6f86e-e4ef-4a7c-b415-fdef5155345c",
   "metadata": {},
   "outputs": [],
   "source": [
    "#Creating lists of numeric and categorical columns\n",
    "drop_categorical = ['emp_length', 'home_ownership', 'purpose']\n",
    "numeric_col = []\n",
    "\n",
    "for c in df.columns:\n",
    "    if c not in drop_categorical:\n",
    "        numeric_col.append(c)\n",
    "        \n",
    "numeric_col.remove('loan_status')\n",
    "numeric_col.remove('term')"
   ]
  },
  {
   "cell_type": "markdown",
   "id": "9c8c1b14-91fd-4a85-bc4e-267217d259b3",
   "metadata": {},
   "source": [
    "#### Setting Up Data"
   ]
  },
  {
   "cell_type": "code",
   "execution_count": 6,
   "id": "e7baa92d-dce5-4596-811e-a2d73ef5068d",
   "metadata": {},
   "outputs": [],
   "source": [
    "X = pd.get_dummies(df.drop(columns = ['loan_status']))\n",
    "y = df['loan_status']"
   ]
  },
  {
   "cell_type": "code",
   "execution_count": 7,
   "id": "ae7d09e7-90f9-48e6-aeb9-e95acc9b8fc8",
   "metadata": {},
   "outputs": [],
   "source": [
    "X_train, X_test, y_train, y_test = train_test_split(X, y,\n",
    "                                                    random_state = 42,\n",
    "                                                    stratify = y,\n",
    "                                                    test_size= 0.2)"
   ]
  },
  {
   "cell_type": "code",
   "execution_count": 8,
   "id": "ab6ae953-3551-4b27-bf30-296bc39c0a73",
   "metadata": {},
   "outputs": [
    {
     "name": "stderr",
     "output_type": "stream",
     "text": [
      "C:\\Users\\eddie\\anaconda3\\lib\\site-packages\\pandas\\core\\frame.py:3673: SettingWithCopyWarning: \n",
      "A value is trying to be set on a copy of a slice from a DataFrame.\n",
      "Try using .loc[row_indexer,col_indexer] = value instead\n",
      "\n",
      "See the caveats in the documentation: https://pandas.pydata.org/pandas-docs/stable/user_guide/indexing.html#returning-a-view-versus-a-copy\n",
      "  self[col] = igetitem(value, i)\n",
      "C:\\Users\\eddie\\anaconda3\\lib\\site-packages\\pandas\\core\\frame.py:3673: SettingWithCopyWarning: \n",
      "A value is trying to be set on a copy of a slice from a DataFrame.\n",
      "Try using .loc[row_indexer,col_indexer] = value instead\n",
      "\n",
      "See the caveats in the documentation: https://pandas.pydata.org/pandas-docs/stable/user_guide/indexing.html#returning-a-view-versus-a-copy\n",
      "  self[col] = igetitem(value, i)\n"
     ]
    }
   ],
   "source": [
    "ss = StandardScaler()\n",
    "X_train[numeric_col] = ss.fit_transform(X_train[numeric_col])\n",
    "X_test[numeric_col] = ss.transform(X_test[numeric_col])"
   ]
  },
  {
   "cell_type": "markdown",
   "id": "15b63fa8-ca46-4bc5-af2c-894440a286a1",
   "metadata": {},
   "source": [
    "### Default Random Forest Model"
   ]
  },
  {
   "cell_type": "code",
   "execution_count": 37,
   "id": "bc6348ee-c9dd-4e70-9d70-017e00f24221",
   "metadata": {},
   "outputs": [],
   "source": [
    "rf = RandomForestClassifier()\n",
    "rf.fit(X_train, y_train)"
   ]
  },
  {
   "cell_type": "code",
   "execution_count": 39,
   "id": "6e7c0f91-d8d9-4b68-a219-301b9ae91d4d",
   "metadata": {},
   "outputs": [
    {
     "data": {
      "text/plain": [
       "0.9064292813806232"
      ]
     },
     "execution_count": 39,
     "metadata": {},
     "output_type": "execute_result"
    }
   ],
   "source": [
    "cross_val_score(rf, X_train, y_train, cv = 5).mean()"
   ]
  },
  {
   "cell_type": "code",
   "execution_count": 40,
   "id": "6ce9cf22-9792-4c4d-a819-e60e8519923b",
   "metadata": {},
   "outputs": [
    {
     "data": {
      "text/plain": [
       "0.905025345601624"
      ]
     },
     "execution_count": 40,
     "metadata": {},
     "output_type": "execute_result"
    }
   ],
   "source": [
    "cross_val_score(rf, X_test, y_test, cv = 5).mean()"
   ]
  },
  {
   "cell_type": "code",
   "execution_count": 62,
   "id": "7540d179-c15b-403d-9c3a-72c269c504f5",
   "metadata": {},
   "outputs": [],
   "source": [
    "y_hat = rf.predict_proba(X_test)\n",
    "rf_model_probs = y_hat[:,1]"
   ]
  },
  {
   "cell_type": "code",
   "execution_count": 15,
   "id": "35c4217f-87c3-4081-a9cb-ab5cc12b409a",
   "metadata": {},
   "outputs": [],
   "source": [
    "def plot_roc_curve(test, model_probs, naive_probs):\n",
    "    fpr, tpr, _ = roc_curve(test, naive_probs)\n",
    "    plt.plot(fpr, tpr, linestyle = '--', label = 'No Skill')\n",
    "    fpr, tpr, _ = roc_curve(test, model_probs)\n",
    "    plt.plot(fpr, tpr, marker = '.', label = 'Random Forest')\n",
    "    plt.xlabel('False Positive Rate')\n",
    "    plt.ylabel('True Positive Rate')\n",
    "    plt.legend()\n",
    "    plt.show()\n",
    "    "
   ]
  },
  {
   "cell_type": "code",
   "execution_count": 16,
   "id": "91849975-aab0-4dea-921e-4f5c24b94b2b",
   "metadata": {},
   "outputs": [],
   "source": [
    "def plot_pr_curve(test, model_probs):\n",
    "    no_skill = len(test[test == 1]) / len(test)\n",
    "    \n",
    "    plt.plot([0,1], [no_skill, no_skill], linestyle = '--', label = 'No Skill')\n",
    "    \n",
    "    precision, recall, _ = precision_recall_curve(list(test), model_probs)\n",
    "    plt.plot(recall, precision, marker = '.', label = 'Random Forest')\n",
    "    plt.xlabel('Recall')\n",
    "    plt.ylabel('Precision')\n",
    "    plt.legend()\n",
    "    plt.show()"
   ]
  },
  {
   "cell_type": "code",
   "execution_count": 18,
   "id": "8f316551-ae7e-4f80-b128-3d230cfcf281",
   "metadata": {},
   "outputs": [
    {
     "name": "stdout",
     "output_type": "stream",
     "text": [
      "Wall time: 0 ns\n"
     ]
    }
   ],
   "source": [
    "%time\n",
    "dummy_model = DummyClassifier(strategy= 'stratified')\n",
    "dummy_model.fit(X_train, y_train)\n",
    "naive_preds = dummy_model.predict(X_test)\n"
   ]
  },
  {
   "cell_type": "code",
   "execution_count": 120,
   "id": "a33664d1-96e3-4735-8ff4-59974b1cffc4",
   "metadata": {},
   "outputs": [
    {
     "data": {
      "image/png": "[encoded data removed]",
      "text/plain": [
       "<Figure size 432x288 with 1 Axes>"
      ]
     },
     "metadata": {
      "needs_background": "light"
     },
     "output_type": "display_data"
    },
    {
     "data": {
      "image/png": "[encoded data removed]",
      "text/plain": [
       "<Figure size 432x288 with 1 Axes>"
      ]
     },
     "metadata": {
      "needs_background": "light"
     },
     "output_type": "display_data"
    },
    {
     "name": "stdout",
     "output_type": "stream",
     "text": [
      "ROC-AUC score no skill: 0.500\n",
      "ROC-AUC score random forest: 0.946\n",
      "PR-AUC score no skill: 0.278\n",
      "PR-AUC score random forest: 0.815\n"
     ]
    }
   ],
   "source": [
    "plot_roc_curve(y_test, rf_model_probs, naive_preds)\n",
    "plot_pr_curve(y_test, rf_model_probs)\n",
    "print(f'ROC-AUC score no skill: {roc_auc_score(y_test, naive_preds):.3f}')\n",
    "print(f'ROC-AUC score random forest: {roc_auc_score(y_test, rf_model_probs):.3f}')\n",
    "precision, recall, _ = precision_recall_curve(y_test, naive_preds)\n",
    "print(f'PR-AUC score no skill: {auc(recall, precision):.3f}')\n",
    "precision, recall, _ = precision_recall_curve(y_test, rf_model_probs)\n",
    "print(f'PR-AUC score random forest: {auc(recall, precision):.3f}')"
   ]
  },
  {
   "cell_type": "code",
   "execution_count": 57,
   "id": "8af0919c-a103-4cfd-b1f7-a7acbef69937",
   "metadata": {},
   "outputs": [],
   "source": [
    "important_features = pd.DataFrame({'importance': rf.feature_importances_}, index = X_train.columns).sort_values(by = 'importance', ascending = False)"
   ]
  },
  {
   "cell_type": "code",
   "execution_count": 124,
   "id": "8ab22219-0149-402e-8e02-447eb9605fe6",
   "metadata": {},
   "outputs": [
    {
     "data": {
      "image/png": "[encoded data removed]",
      "text/plain": [
       "<Figure size 720x720 with 1 Axes>"
      ]
     },
     "metadata": {
      "needs_background": "light"
     },
     "output_type": "display_data"
    }
   ],
   "source": [
    "plt.figure(figsize = (10,10))\n",
    "plt.barh(important_features.index, important_features.importance)\n",
    "plt.title('List of Important Features from Default RF');\n",
    "plt.xlabel('Feature Importance')\n",
    "plt.ylabel('Features');"
   ]
  },
  {
   "cell_type": "markdown",
   "id": "f81cd6c0-b03b-441c-ba1c-ea7751f267bd",
   "metadata": {},
   "source": [
    "With our initial Random Forest model using default parameters, our accuracy score for both the training set and testing set performed better than the accuracy score. When looking at the feature importances, we can see that the top 5 features in importance are FICO, Interest Rate, Debt-to-Income ratio, average current balance, and revolving balance. We also see that a lot of the one-hot encoded variables show very little importance, specifically the values for home ownership that are low ('NONE', 'ANY', 'OTHER'), and the values for loan purpose that are also low. We may consider either removing these observations or grouping them into a category that almagamates them all. We also see that 'delinq_amt' and 'acc_now_delinq' also score very low in feature importance so we may drop these features for the other models. "
   ]
  },
  {
   "cell_type": "markdown",
   "id": "f7d6e791-13e8-4faf-8741-1298caf3e01d",
   "metadata": {},
   "source": [
    "For now, we will utilize GridSearchCV to find the optimal parameters for our random forest model and see if we come out with the same feature importances. We will then run a model with a reduced set of features which we will regard as RF + RF."
   ]
  },
  {
   "cell_type": "markdown",
   "id": "d646d65a-bf21-46af-b469-ea4ebc40d8ca",
   "metadata": {},
   "source": [
    "#### Random Forest with Grid Search for Parameter Tuning"
   ]
  },
  {
   "cell_type": "code",
   "execution_count": 9,
   "id": "d62ef66b-0c43-4cd9-a764-94cb375df3f2",
   "metadata": {},
   "outputs": [
    {
     "name": "stdout",
     "output_type": "stream",
     "text": [
      "Wall time: 0 ns\n",
      "Fitting 3 folds for each of 90 candidates, totalling 270 fits\n",
      "[CV] END bootstrap=True, max_depth=None, max_features=auto, n_estimators=50; total time= 1.6min\n",
      "[CV] END bootstrap=True, max_depth=None, max_features=auto, n_estimators=50; total time= 1.5min\n",
      "[CV] END bootstrap=True, max_depth=None, max_features=auto, n_estimators=50; total time= 1.6min\n",
      "[CV] END bootstrap=True, max_depth=None, max_features=auto, n_estimators=100; total time= 3.1min\n",
      "[CV] END bootstrap=True, max_depth=None, max_features=auto, n_estimators=100; total time= 3.1min\n",
      "[CV] END bootstrap=True, max_depth=None, max_features=auto, n_estimators=100; total time= 3.1min\n",
      "[CV] END bootstrap=True, max_depth=None, max_features=auto, n_estimators=250; total time= 7.8min\n",
      "[CV] END bootstrap=True, max_depth=None, max_features=auto, n_estimators=250; total time= 7.8min\n",
      "[CV] END bootstrap=True, max_depth=None, max_features=auto, n_estimators=250; total time= 8.6min\n",
      "[CV] END bootstrap=True, max_depth=None, max_features=2, n_estimators=50; total time= 1.1min\n",
      "[CV] END bootstrap=True, max_depth=None, max_features=2, n_estimators=50; total time= 1.1min\n",
      "[CV] END bootstrap=True, max_depth=None, max_features=2, n_estimators=50; total time= 1.1min\n",
      "[CV] END bootstrap=True, max_depth=None, max_features=2, n_estimators=100; total time= 2.1min\n",
      "[CV] END bootstrap=True, max_depth=None, max_features=2, n_estimators=100; total time= 2.1min\n",
      "[CV] END bootstrap=True, max_depth=None, max_features=2, n_estimators=100; total time= 2.1min\n",
      "[CV] END bootstrap=True, max_depth=None, max_features=2, n_estimators=250; total time= 5.1min\n",
      "[CV] END bootstrap=True, max_depth=None, max_features=2, n_estimators=250; total time= 4.5min\n",
      "[CV] END bootstrap=True, max_depth=None, max_features=2, n_estimators=250; total time= 4.5min\n",
      "[CV] END bootstrap=True, max_depth=None, max_features=10, n_estimators=50; total time= 2.4min\n",
      "[CV] END bootstrap=True, max_depth=None, max_features=10, n_estimators=50; total time= 2.3min\n",
      "[CV] END bootstrap=True, max_depth=None, max_features=10, n_estimators=50; total time= 2.4min\n",
      "[CV] END bootstrap=True, max_depth=None, max_features=10, n_estimators=100; total time= 4.8min\n",
      "[CV] END bootstrap=True, max_depth=None, max_features=10, n_estimators=100; total time= 4.7min\n",
      "[CV] END bootstrap=True, max_depth=None, max_features=10, n_estimators=100; total time= 4.7min\n",
      "[CV] END bootstrap=True, max_depth=None, max_features=10, n_estimators=250; total time=11.9min\n",
      "[CV] END bootstrap=True, max_depth=None, max_features=10, n_estimators=250; total time=11.8min\n",
      "[CV] END bootstrap=True, max_depth=None, max_features=10, n_estimators=250; total time=11.9min\n",
      "[CV] END bootstrap=True, max_depth=1, max_features=auto, n_estimators=50; total time=   7.9s\n",
      "[CV] END bootstrap=True, max_depth=1, max_features=auto, n_estimators=50; total time=   8.4s\n",
      "[CV] END bootstrap=True, max_depth=1, max_features=auto, n_estimators=50; total time=   8.0s\n",
      "[CV] END bootstrap=True, max_depth=1, max_features=auto, n_estimators=100; total time=  16.3s\n",
      "[CV] END bootstrap=True, max_depth=1, max_features=auto, n_estimators=100; total time=  15.6s\n",
      "[CV] END bootstrap=True, max_depth=1, max_features=auto, n_estimators=100; total time=  15.8s\n",
      "[CV] END bootstrap=True, max_depth=1, max_features=auto, n_estimators=250; total time=  40.5s\n",
      "[CV] END bootstrap=True, max_depth=1, max_features=auto, n_estimators=250; total time=  40.3s\n",
      "[CV] END bootstrap=True, max_depth=1, max_features=auto, n_estimators=250; total time=  39.3s\n",
      "[CV] END bootstrap=True, max_depth=1, max_features=2, n_estimators=50; total time=   5.7s\n",
      "[CV] END bootstrap=True, max_depth=1, max_features=2, n_estimators=50; total time=   5.7s\n",
      "[CV] END bootstrap=True, max_depth=1, max_features=2, n_estimators=50; total time=   5.5s\n",
      "[CV] END bootstrap=True, max_depth=1, max_features=2, n_estimators=100; total time=  11.7s\n",
      "[CV] END bootstrap=True, max_depth=1, max_features=2, n_estimators=100; total time=  11.0s\n",
      "[CV] END bootstrap=True, max_depth=1, max_features=2, n_estimators=100; total time=  11.0s\n",
      "[CV] END bootstrap=True, max_depth=1, max_features=2, n_estimators=250; total time=  27.3s\n",
      "[CV] END bootstrap=True, max_depth=1, max_features=2, n_estimators=250; total time=  27.6s\n",
      "[CV] END bootstrap=True, max_depth=1, max_features=2, n_estimators=250; total time=  26.9s\n",
      "[CV] END bootstrap=True, max_depth=1, max_features=10, n_estimators=50; total time=  10.8s\n",
      "[CV] END bootstrap=True, max_depth=1, max_features=10, n_estimators=50; total time=  11.3s\n",
      "[CV] END bootstrap=True, max_depth=1, max_features=10, n_estimators=50; total time=  10.1s\n",
      "[CV] END bootstrap=True, max_depth=1, max_features=10, n_estimators=100; total time=  21.4s\n",
      "[CV] END bootstrap=True, max_depth=1, max_features=10, n_estimators=100; total time=  20.8s\n",
      "[CV] END bootstrap=True, max_depth=1, max_features=10, n_estimators=100; total time=  20.4s\n",
      "[CV] END bootstrap=True, max_depth=1, max_features=10, n_estimators=250; total time=  51.9s\n",
      "[CV] END bootstrap=True, max_depth=1, max_features=10, n_estimators=250; total time=  52.5s\n",
      "[CV] END bootstrap=True, max_depth=1, max_features=10, n_estimators=250; total time=  52.0s\n",
      "[CV] END bootstrap=True, max_depth=3, max_features=auto, n_estimators=50; total time=  17.9s\n",
      "[CV] END bootstrap=True, max_depth=3, max_features=auto, n_estimators=50; total time=  18.1s\n",
      "[CV] END bootstrap=True, max_depth=3, max_features=auto, n_estimators=50; total time=  17.9s\n",
      "[CV] END bootstrap=True, max_depth=3, max_features=auto, n_estimators=100; total time=  35.2s\n",
      "[CV] END bootstrap=True, max_depth=3, max_features=auto, n_estimators=100; total time=  34.8s\n",
      "[CV] END bootstrap=True, max_depth=3, max_features=auto, n_estimators=100; total time=  35.4s\n",
      "[CV] END bootstrap=True, max_depth=3, max_features=auto, n_estimators=250; total time= 1.5min\n",
      "[CV] END bootstrap=True, max_depth=3, max_features=auto, n_estimators=250; total time= 1.5min\n",
      "[CV] END bootstrap=True, max_depth=3, max_features=auto, n_estimators=250; total time= 1.5min\n",
      "[CV] END bootstrap=True, max_depth=3, max_features=2, n_estimators=50; total time=   9.3s\n",
      "[CV] END bootstrap=True, max_depth=3, max_features=2, n_estimators=50; total time=   9.7s\n",
      "[CV] END bootstrap=True, max_depth=3, max_features=2, n_estimators=50; total time=   9.4s\n",
      "[CV] END bootstrap=True, max_depth=3, max_features=2, n_estimators=100; total time=  18.2s\n",
      "[CV] END bootstrap=True, max_depth=3, max_features=2, n_estimators=100; total time=  18.3s\n",
      "[CV] END bootstrap=True, max_depth=3, max_features=2, n_estimators=100; total time=  18.0s\n",
      "[CV] END bootstrap=True, max_depth=3, max_features=2, n_estimators=250; total time=  46.2s\n",
      "[CV] END bootstrap=True, max_depth=3, max_features=2, n_estimators=250; total time=  47.6s\n",
      "[CV] END bootstrap=True, max_depth=3, max_features=2, n_estimators=250; total time=  45.6s\n",
      "[CV] END bootstrap=True, max_depth=3, max_features=10, n_estimators=50; total time=  25.5s\n",
      "[CV] END bootstrap=True, max_depth=3, max_features=10, n_estimators=50; total time=  25.2s\n",
      "[CV] END bootstrap=True, max_depth=3, max_features=10, n_estimators=50; total time=  25.0s\n",
      "[CV] END bootstrap=True, max_depth=3, max_features=10, n_estimators=100; total time=  50.1s\n",
      "[CV] END bootstrap=True, max_depth=3, max_features=10, n_estimators=100; total time=  51.4s\n",
      "[CV] END bootstrap=True, max_depth=3, max_features=10, n_estimators=100; total time=  50.4s\n",
      "[CV] END bootstrap=True, max_depth=3, max_features=10, n_estimators=250; total time= 2.1min\n",
      "[CV] END bootstrap=True, max_depth=3, max_features=10, n_estimators=250; total time= 2.1min\n",
      "[CV] END bootstrap=True, max_depth=3, max_features=10, n_estimators=250; total time= 2.1min\n",
      "[CV] END bootstrap=True, max_depth=5, max_features=auto, n_estimators=50; total time=  27.2s\n",
      "[CV] END bootstrap=True, max_depth=5, max_features=auto, n_estimators=50; total time=  27.1s\n",
      "[CV] END bootstrap=True, max_depth=5, max_features=auto, n_estimators=50; total time=  27.3s\n",
      "[CV] END bootstrap=True, max_depth=5, max_features=auto, n_estimators=100; total time=  54.9s\n",
      "[CV] END bootstrap=True, max_depth=5, max_features=auto, n_estimators=100; total time=  54.3s\n",
      "[CV] END bootstrap=True, max_depth=5, max_features=auto, n_estimators=100; total time=  54.5s\n",
      "[CV] END bootstrap=True, max_depth=5, max_features=auto, n_estimators=250; total time= 2.3min\n",
      "[CV] END bootstrap=True, max_depth=5, max_features=auto, n_estimators=250; total time= 2.3min\n",
      "[CV] END bootstrap=True, max_depth=5, max_features=auto, n_estimators=250; total time= 2.3min\n",
      "[CV] END bootstrap=True, max_depth=5, max_features=2, n_estimators=50; total time=  13.4s\n",
      "[CV] END bootstrap=True, max_depth=5, max_features=2, n_estimators=50; total time=  14.1s\n",
      "[CV] END bootstrap=True, max_depth=5, max_features=2, n_estimators=50; total time=  13.4s\n",
      "[CV] END bootstrap=True, max_depth=5, max_features=2, n_estimators=100; total time=  27.4s\n",
      "[CV] END bootstrap=True, max_depth=5, max_features=2, n_estimators=100; total time=  27.2s\n",
      "[CV] END bootstrap=True, max_depth=5, max_features=2, n_estimators=100; total time=  25.7s\n",
      "[CV] END bootstrap=True, max_depth=5, max_features=2, n_estimators=250; total time= 1.1min\n",
      "[CV] END bootstrap=True, max_depth=5, max_features=2, n_estimators=250; total time= 1.1min\n",
      "[CV] END bootstrap=True, max_depth=5, max_features=2, n_estimators=250; total time= 1.1min\n",
      "[CV] END bootstrap=True, max_depth=5, max_features=10, n_estimators=50; total time=  39.5s\n",
      "[CV] END bootstrap=True, max_depth=5, max_features=10, n_estimators=50; total time=  40.2s\n",
      "[CV] END bootstrap=True, max_depth=5, max_features=10, n_estimators=50; total time=  40.9s\n",
      "[CV] END bootstrap=True, max_depth=5, max_features=10, n_estimators=100; total time= 1.4min\n",
      "[CV] END bootstrap=True, max_depth=5, max_features=10, n_estimators=100; total time= 1.3min\n",
      "[CV] END bootstrap=True, max_depth=5, max_features=10, n_estimators=100; total time= 1.3min\n",
      "[CV] END bootstrap=True, max_depth=5, max_features=10, n_estimators=250; total time= 3.4min\n",
      "[CV] END bootstrap=True, max_depth=5, max_features=10, n_estimators=250; total time= 3.4min\n",
      "[CV] END bootstrap=True, max_depth=5, max_features=10, n_estimators=250; total time= 3.4min\n",
      "[CV] END bootstrap=True, max_depth=20, max_features=auto, n_estimators=50; total time= 1.4min\n",
      "[CV] END bootstrap=True, max_depth=20, max_features=auto, n_estimators=50; total time= 1.4min\n",
      "[CV] END bootstrap=True, max_depth=20, max_features=auto, n_estimators=50; total time= 1.4min\n",
      "[CV] END bootstrap=True, max_depth=20, max_features=auto, n_estimators=100; total time= 2.8min\n",
      "[CV] END bootstrap=True, max_depth=20, max_features=auto, n_estimators=100; total time= 2.8min\n",
      "[CV] END bootstrap=True, max_depth=20, max_features=auto, n_estimators=100; total time= 2.8min\n",
      "[CV] END bootstrap=True, max_depth=20, max_features=auto, n_estimators=250; total time= 7.0min\n",
      "[CV] END bootstrap=True, max_depth=20, max_features=auto, n_estimators=250; total time= 6.9min\n",
      "[CV] END bootstrap=True, max_depth=20, max_features=auto, n_estimators=250; total time= 6.9min\n",
      "[CV] END bootstrap=True, max_depth=20, max_features=2, n_estimators=50; total time=  40.7s\n",
      "[CV] END bootstrap=True, max_depth=20, max_features=2, n_estimators=50; total time=  40.9s\n",
      "[CV] END bootstrap=True, max_depth=20, max_features=2, n_estimators=50; total time=  40.8s\n",
      "[CV] END bootstrap=True, max_depth=20, max_features=2, n_estimators=100; total time= 1.4min\n",
      "[CV] END bootstrap=True, max_depth=20, max_features=2, n_estimators=100; total time= 1.4min\n",
      "[CV] END bootstrap=True, max_depth=20, max_features=2, n_estimators=100; total time= 1.4min\n",
      "[CV] END bootstrap=True, max_depth=20, max_features=2, n_estimators=250; total time= 3.4min\n",
      "[CV] END bootstrap=True, max_depth=20, max_features=2, n_estimators=250; total time= 3.4min\n",
      "[CV] END bootstrap=True, max_depth=20, max_features=2, n_estimators=250; total time= 3.4min\n",
      "[CV] END bootstrap=True, max_depth=20, max_features=10, n_estimators=50; total time= 2.2min\n",
      "[CV] END bootstrap=True, max_depth=20, max_features=10, n_estimators=50; total time= 2.1min\n",
      "[CV] END bootstrap=True, max_depth=20, max_features=10, n_estimators=50; total time= 2.1min\n",
      "[CV] END bootstrap=True, max_depth=20, max_features=10, n_estimators=100; total time= 4.3min\n",
      "[CV] END bootstrap=True, max_depth=20, max_features=10, n_estimators=100; total time= 4.2min\n",
      "[CV] END bootstrap=True, max_depth=20, max_features=10, n_estimators=100; total time= 4.3min\n",
      "[CV] END bootstrap=True, max_depth=20, max_features=10, n_estimators=250; total time=10.7min\n",
      "[CV] END bootstrap=True, max_depth=20, max_features=10, n_estimators=250; total time=10.6min\n",
      "[CV] END bootstrap=True, max_depth=20, max_features=10, n_estimators=250; total time=10.7min\n",
      "[CV] END bootstrap=False, max_depth=None, max_features=auto, n_estimators=50; total time= 2.4min\n",
      "[CV] END bootstrap=False, max_depth=None, max_features=auto, n_estimators=50; total time= 2.4min\n",
      "[CV] END bootstrap=False, max_depth=None, max_features=auto, n_estimators=50; total time= 2.4min\n",
      "[CV] END bootstrap=False, max_depth=None, max_features=auto, n_estimators=100; total time= 4.9min\n",
      "[CV] END bootstrap=False, max_depth=None, max_features=auto, n_estimators=100; total time= 4.8min\n",
      "[CV] END bootstrap=False, max_depth=None, max_features=auto, n_estimators=100; total time= 4.8min\n",
      "[CV] END bootstrap=False, max_depth=None, max_features=auto, n_estimators=250; total time=12.1min\n",
      "[CV] END bootstrap=False, max_depth=None, max_features=auto, n_estimators=250; total time=11.9min\n",
      "[CV] END bootstrap=False, max_depth=None, max_features=auto, n_estimators=250; total time=12.1min\n",
      "[CV] END bootstrap=False, max_depth=None, max_features=2, n_estimators=50; total time= 1.4min\n",
      "[CV] END bootstrap=False, max_depth=None, max_features=2, n_estimators=50; total time= 1.4min\n",
      "[CV] END bootstrap=False, max_depth=None, max_features=2, n_estimators=50; total time= 1.4min\n",
      "[CV] END bootstrap=False, max_depth=None, max_features=2, n_estimators=100; total time= 2.7min\n",
      "[CV] END bootstrap=False, max_depth=None, max_features=2, n_estimators=100; total time= 3.1min\n",
      "[CV] END bootstrap=False, max_depth=None, max_features=2, n_estimators=100; total time= 3.8min\n",
      "[CV] END bootstrap=False, max_depth=None, max_features=2, n_estimators=250; total time=12.0min\n",
      "[CV] END bootstrap=False, max_depth=None, max_features=2, n_estimators=250; total time= 9.1min\n",
      "[CV] END bootstrap=False, max_depth=None, max_features=2, n_estimators=250; total time= 8.0min\n",
      "[CV] END bootstrap=False, max_depth=None, max_features=10, n_estimators=50; total time= 3.7min\n",
      "[CV] END bootstrap=False, max_depth=None, max_features=10, n_estimators=50; total time= 3.6min\n",
      "[CV] END bootstrap=False, max_depth=None, max_features=10, n_estimators=50; total time= 4.0min\n",
      "[CV] END bootstrap=False, max_depth=None, max_features=10, n_estimators=100; total time= 8.2min\n",
      "[CV] END bootstrap=False, max_depth=None, max_features=10, n_estimators=100; total time= 8.2min\n",
      "[CV] END bootstrap=False, max_depth=None, max_features=10, n_estimators=100; total time= 8.2min\n",
      "[CV] END bootstrap=False, max_depth=None, max_features=10, n_estimators=250; total time=20.6min\n",
      "[CV] END bootstrap=False, max_depth=None, max_features=10, n_estimators=250; total time=21.3min\n",
      "[CV] END bootstrap=False, max_depth=None, max_features=10, n_estimators=250; total time=23.0min\n",
      "[CV] END bootstrap=False, max_depth=1, max_features=auto, n_estimators=50; total time=  10.9s\n",
      "[CV] END bootstrap=False, max_depth=1, max_features=auto, n_estimators=50; total time=  10.1s\n",
      "[CV] END bootstrap=False, max_depth=1, max_features=auto, n_estimators=50; total time=  10.8s\n",
      "[CV] END bootstrap=False, max_depth=1, max_features=auto, n_estimators=100; total time=  21.5s\n",
      "[CV] END bootstrap=False, max_depth=1, max_features=auto, n_estimators=100; total time=  21.5s\n",
      "[CV] END bootstrap=False, max_depth=1, max_features=auto, n_estimators=100; total time=  20.7s\n",
      "[CV] END bootstrap=False, max_depth=1, max_features=auto, n_estimators=250; total time=  51.8s\n",
      "[CV] END bootstrap=False, max_depth=1, max_features=auto, n_estimators=250; total time=  50.7s\n",
      "[CV] END bootstrap=False, max_depth=1, max_features=auto, n_estimators=250; total time=  48.7s\n",
      "[CV] END bootstrap=False, max_depth=1, max_features=2, n_estimators=50; total time=   6.4s\n",
      "[CV] END bootstrap=False, max_depth=1, max_features=2, n_estimators=50; total time=   6.2s\n",
      "[CV] END bootstrap=False, max_depth=1, max_features=2, n_estimators=50; total time=   5.4s\n",
      "[CV] END bootstrap=False, max_depth=1, max_features=2, n_estimators=100; total time=  11.0s\n",
      "[CV] END bootstrap=False, max_depth=1, max_features=2, n_estimators=100; total time=  12.3s\n",
      "[CV] END bootstrap=False, max_depth=1, max_features=2, n_estimators=100; total time=  11.9s\n",
      "[CV] END bootstrap=False, max_depth=1, max_features=2, n_estimators=250; total time=  28.2s\n",
      "[CV] END bootstrap=False, max_depth=1, max_features=2, n_estimators=250; total time=  28.3s\n",
      "[CV] END bootstrap=False, max_depth=1, max_features=2, n_estimators=250; total time=  26.9s\n",
      "[CV] END bootstrap=False, max_depth=1, max_features=10, n_estimators=50; total time=  12.7s\n",
      "[CV] END bootstrap=False, max_depth=1, max_features=10, n_estimators=50; total time=  12.5s\n",
      "[CV] END bootstrap=False, max_depth=1, max_features=10, n_estimators=50; total time=  13.1s\n",
      "[CV] END bootstrap=False, max_depth=1, max_features=10, n_estimators=100; total time=  26.8s\n",
      "[CV] END bootstrap=False, max_depth=1, max_features=10, n_estimators=100; total time=  24.8s\n",
      "[CV] END bootstrap=False, max_depth=1, max_features=10, n_estimators=100; total time=  24.6s\n",
      "[CV] END bootstrap=False, max_depth=1, max_features=10, n_estimators=250; total time= 1.0min\n",
      "[CV] END bootstrap=False, max_depth=1, max_features=10, n_estimators=250; total time= 1.1min\n",
      "[CV] END bootstrap=False, max_depth=1, max_features=10, n_estimators=250; total time= 1.0min\n",
      "[CV] END bootstrap=False, max_depth=3, max_features=auto, n_estimators=50; total time=  22.5s\n",
      "[CV] END bootstrap=False, max_depth=3, max_features=auto, n_estimators=50; total time=  21.4s\n",
      "[CV] END bootstrap=False, max_depth=3, max_features=auto, n_estimators=50; total time=  22.2s\n",
      "[CV] END bootstrap=False, max_depth=3, max_features=auto, n_estimators=100; total time=  43.1s\n",
      "[CV] END bootstrap=False, max_depth=3, max_features=auto, n_estimators=100; total time=  45.0s\n",
      "[CV] END bootstrap=False, max_depth=3, max_features=auto, n_estimators=100; total time=  42.6s\n",
      "[CV] END bootstrap=False, max_depth=3, max_features=auto, n_estimators=250; total time= 1.8min\n",
      "[CV] END bootstrap=False, max_depth=3, max_features=auto, n_estimators=250; total time= 1.8min\n",
      "[CV] END bootstrap=False, max_depth=3, max_features=auto, n_estimators=250; total time= 1.8min\n",
      "[CV] END bootstrap=False, max_depth=3, max_features=2, n_estimators=50; total time=  10.6s\n",
      "[CV] END bootstrap=False, max_depth=3, max_features=2, n_estimators=50; total time=  10.1s\n",
      "[CV] END bootstrap=False, max_depth=3, max_features=2, n_estimators=50; total time=  10.3s\n",
      "[CV] END bootstrap=False, max_depth=3, max_features=2, n_estimators=100; total time=  20.8s\n",
      "[CV] END bootstrap=False, max_depth=3, max_features=2, n_estimators=100; total time=  19.2s\n",
      "[CV] END bootstrap=False, max_depth=3, max_features=2, n_estimators=100; total time=  19.5s\n",
      "[CV] END bootstrap=False, max_depth=3, max_features=2, n_estimators=250; total time=  49.5s\n",
      "[CV] END bootstrap=False, max_depth=3, max_features=2, n_estimators=250; total time=  51.3s\n",
      "[CV] END bootstrap=False, max_depth=3, max_features=2, n_estimators=250; total time=  51.3s\n",
      "[CV] END bootstrap=False, max_depth=3, max_features=10, n_estimators=50; total time=  31.8s\n",
      "[CV] END bootstrap=False, max_depth=3, max_features=10, n_estimators=50; total time=  31.5s\n",
      "[CV] END bootstrap=False, max_depth=3, max_features=10, n_estimators=50; total time=  33.1s\n",
      "[CV] END bootstrap=False, max_depth=3, max_features=10, n_estimators=100; total time= 1.1min\n",
      "[CV] END bootstrap=False, max_depth=3, max_features=10, n_estimators=100; total time= 1.1min\n",
      "[CV] END bootstrap=False, max_depth=3, max_features=10, n_estimators=100; total time= 1.1min\n",
      "[CV] END bootstrap=False, max_depth=3, max_features=10, n_estimators=250; total time= 2.7min\n",
      "[CV] END bootstrap=False, max_depth=3, max_features=10, n_estimators=250; total time= 2.7min\n",
      "[CV] END bootstrap=False, max_depth=3, max_features=10, n_estimators=250; total time= 2.6min\n",
      "[CV] END bootstrap=False, max_depth=5, max_features=auto, n_estimators=50; total time=  35.9s\n",
      "[CV] END bootstrap=False, max_depth=5, max_features=auto, n_estimators=50; total time=  35.2s\n",
      "[CV] END bootstrap=False, max_depth=5, max_features=auto, n_estimators=50; total time=  34.9s\n",
      "[CV] END bootstrap=False, max_depth=5, max_features=auto, n_estimators=100; total time= 1.2min\n",
      "[CV] END bootstrap=False, max_depth=5, max_features=auto, n_estimators=100; total time= 1.2min\n",
      "[CV] END bootstrap=False, max_depth=5, max_features=auto, n_estimators=100; total time= 1.2min\n",
      "[CV] END bootstrap=False, max_depth=5, max_features=auto, n_estimators=250; total time= 2.9min\n",
      "[CV] END bootstrap=False, max_depth=5, max_features=auto, n_estimators=250; total time= 2.9min\n",
      "[CV] END bootstrap=False, max_depth=5, max_features=auto, n_estimators=250; total time= 2.9min\n",
      "[CV] END bootstrap=False, max_depth=5, max_features=2, n_estimators=50; total time=  16.3s\n",
      "[CV] END bootstrap=False, max_depth=5, max_features=2, n_estimators=50; total time=  15.0s\n",
      "[CV] END bootstrap=False, max_depth=5, max_features=2, n_estimators=50; total time=  15.8s\n",
      "[CV] END bootstrap=False, max_depth=5, max_features=2, n_estimators=100; total time=  31.4s\n",
      "[CV] END bootstrap=False, max_depth=5, max_features=2, n_estimators=100; total time=  31.1s\n",
      "[CV] END bootstrap=False, max_depth=5, max_features=2, n_estimators=100; total time=  29.5s\n",
      "[CV] END bootstrap=False, max_depth=5, max_features=2, n_estimators=250; total time= 1.3min\n",
      "[CV] END bootstrap=False, max_depth=5, max_features=2, n_estimators=250; total time= 1.3min\n",
      "[CV] END bootstrap=False, max_depth=5, max_features=2, n_estimators=250; total time= 1.2min\n",
      "[CV] END bootstrap=False, max_depth=5, max_features=10, n_estimators=50; total time=  53.1s\n",
      "[CV] END bootstrap=False, max_depth=5, max_features=10, n_estimators=50; total time=  53.2s\n",
      "[CV] END bootstrap=False, max_depth=5, max_features=10, n_estimators=50; total time=  53.2s\n",
      "[CV] END bootstrap=False, max_depth=5, max_features=10, n_estimators=100; total time= 1.8min\n",
      "[CV] END bootstrap=False, max_depth=5, max_features=10, n_estimators=100; total time= 1.8min\n",
      "[CV] END bootstrap=False, max_depth=5, max_features=10, n_estimators=100; total time= 1.8min\n",
      "[CV] END bootstrap=False, max_depth=5, max_features=10, n_estimators=250; total time= 4.4min\n",
      "[CV] END bootstrap=False, max_depth=5, max_features=10, n_estimators=250; total time= 4.5min\n",
      "[CV] END bootstrap=False, max_depth=5, max_features=10, n_estimators=250; total time= 4.5min\n",
      "[CV] END bootstrap=False, max_depth=20, max_features=auto, n_estimators=50; total time= 2.1min\n",
      "[CV] END bootstrap=False, max_depth=20, max_features=auto, n_estimators=50; total time= 2.0min\n",
      "[CV] END bootstrap=False, max_depth=20, max_features=auto, n_estimators=50; total time= 2.1min\n",
      "[CV] END bootstrap=False, max_depth=20, max_features=auto, n_estimators=100; total time= 4.1min\n",
      "[CV] END bootstrap=False, max_depth=20, max_features=auto, n_estimators=100; total time= 4.1min\n",
      "[CV] END bootstrap=False, max_depth=20, max_features=auto, n_estimators=100; total time= 4.1min\n",
      "[CV] END bootstrap=False, max_depth=20, max_features=auto, n_estimators=250; total time=10.2min\n",
      "[CV] END bootstrap=False, max_depth=20, max_features=auto, n_estimators=250; total time=10.2min\n",
      "[CV] END bootstrap=False, max_depth=20, max_features=auto, n_estimators=250; total time=10.2min\n",
      "[CV] END bootstrap=False, max_depth=20, max_features=2, n_estimators=50; total time=  57.6s\n",
      "[CV] END bootstrap=False, max_depth=20, max_features=2, n_estimators=50; total time=  58.0s\n",
      "[CV] END bootstrap=False, max_depth=20, max_features=2, n_estimators=50; total time=  57.4s\n",
      "[CV] END bootstrap=False, max_depth=20, max_features=2, n_estimators=100; total time= 1.9min\n",
      "[CV] END bootstrap=False, max_depth=20, max_features=2, n_estimators=100; total time= 1.9min\n",
      "[CV] END bootstrap=False, max_depth=20, max_features=2, n_estimators=100; total time= 1.9min\n",
      "[CV] END bootstrap=False, max_depth=20, max_features=2, n_estimators=250; total time= 4.8min\n",
      "[CV] END bootstrap=False, max_depth=20, max_features=2, n_estimators=250; total time= 4.8min\n",
      "[CV] END bootstrap=False, max_depth=20, max_features=2, n_estimators=250; total time= 4.8min\n",
      "[CV] END bootstrap=False, max_depth=20, max_features=10, n_estimators=50; total time= 3.2min\n",
      "[CV] END bootstrap=False, max_depth=20, max_features=10, n_estimators=50; total time= 3.2min\n",
      "[CV] END bootstrap=False, max_depth=20, max_features=10, n_estimators=50; total time= 3.2min\n",
      "[CV] END bootstrap=False, max_depth=20, max_features=10, n_estimators=100; total time= 6.3min\n",
      "[CV] END bootstrap=False, max_depth=20, max_features=10, n_estimators=100; total time= 6.3min\n",
      "[CV] END bootstrap=False, max_depth=20, max_features=10, n_estimators=100; total time= 6.3min\n",
      "[CV] END bootstrap=False, max_depth=20, max_features=10, n_estimators=250; total time=15.8min\n",
      "[CV] END bootstrap=False, max_depth=20, max_features=10, n_estimators=250; total time=15.7min\n",
      "[CV] END bootstrap=False, max_depth=20, max_features=10, n_estimators=250; total time=15.9min\n",
      "0.9072051370171899\n"
     ]
    },
    {
     "ename": "AttributeError",
     "evalue": "'GridSearchCV' object has no attribute 'best_params'",
     "output_type": "error",
     "traceback": [
      "\u001b[1;31m---------------------------------------------------------------------------\u001b[0m",
      "\u001b[1;31mAttributeError\u001b[0m                            Traceback (most recent call last)",
      "\u001b[1;32m<ipython-input-9-41140d9c1972>\u001b[0m in \u001b[0;36m<module>\u001b[1;34m\u001b[0m\n\u001b[0;32m     13\u001b[0m \u001b[0mrf_gs\u001b[0m\u001b[1;33m.\u001b[0m\u001b[0mfit\u001b[0m\u001b[1;33m(\u001b[0m\u001b[0mX_train\u001b[0m\u001b[1;33m,\u001b[0m \u001b[0my_train\u001b[0m\u001b[1;33m)\u001b[0m\u001b[1;33m\u001b[0m\u001b[1;33m\u001b[0m\u001b[0m\n\u001b[0;32m     14\u001b[0m \u001b[0mprint\u001b[0m\u001b[1;33m(\u001b[0m\u001b[0mrf_gs\u001b[0m\u001b[1;33m.\u001b[0m\u001b[0mbest_score_\u001b[0m\u001b[1;33m)\u001b[0m\u001b[1;33m\u001b[0m\u001b[1;33m\u001b[0m\u001b[0m\n\u001b[1;32m---> 15\u001b[1;33m \u001b[0mrf_gs\u001b[0m\u001b[1;33m.\u001b[0m\u001b[0mbest_params\u001b[0m\u001b[1;33m\u001b[0m\u001b[1;33m\u001b[0m\u001b[0m\n\u001b[0m",
      "\u001b[1;31mAttributeError\u001b[0m: 'GridSearchCV' object has no attribute 'best_params'"
     ]
    }
   ],
   "source": [
    "%time\n",
    "rf = RandomForestClassifier()\n",
    "\n",
    "rf_param_grid = {\n",
    "    'n_estimators' : [50, 100, 250],\n",
    "    'max_features' : ['auto', 2, 10],\n",
    "    'max_depth'    : [None, 1, 3, 5, 20],\n",
    "    'bootstrap'    : [True, False]\n",
    "}\n",
    "\n",
    "rf_gs = GridSearchCV(rf, param_grid=rf_param_grid, cv = 3, verbose = 2)\n",
    "\n",
    "rf_gs.fit(X_train, y_train)\n",
    "print(rf_gs.best_score_)\n"
   ]
  },
  {
   "cell_type": "code",
   "execution_count": 11,
   "id": "9ee8e499-3ad7-4216-827d-cf79957ee5cc",
   "metadata": {},
   "outputs": [
    {
     "data": {
      "text/plain": [
       "0.9601850308068904"
      ]
     },
     "execution_count": 11,
     "metadata": {},
     "output_type": "execute_result"
    }
   ],
   "source": [
    "rf_gs.score(X_train, y_train)"
   ]
  },
  {
   "cell_type": "code",
   "execution_count": 10,
   "id": "d6aee52b-71f0-48cd-a09c-63b97d8f7968",
   "metadata": {},
   "outputs": [
    {
     "data": {
      "text/plain": [
       "0.9067949466089685"
      ]
     },
     "execution_count": 10,
     "metadata": {},
     "output_type": "execute_result"
    }
   ],
   "source": [
    "rf_gs.score(X_test, y_test)"
   ]
  },
  {
   "cell_type": "code",
   "execution_count": 20,
   "id": "961bcb31-32d4-4b2a-972f-67c1556dff54",
   "metadata": {},
   "outputs": [],
   "source": [
    "gs_y_hat = rf_gs.predict_proba(X_test)\n",
    "gs_train_preds = rf_gs.predict_proba(X_train)"
   ]
  },
  {
   "cell_type": "code",
   "execution_count": 21,
   "id": "df8c84e4-1a09-4306-8bac-e49bce795793",
   "metadata": {},
   "outputs": [],
   "source": [
    "gs_model_probs = gs_y_hat[:,1]\n",
    "gs_model_train_probs = gs_train_preds[:,1]"
   ]
  },
  {
   "cell_type": "code",
   "execution_count": 22,
   "id": "d105c94a-9883-4729-85f8-49efe36e5293",
   "metadata": {},
   "outputs": [
    {
     "data": {
      "image/png": "[encoded data removed]",
      "text/plain": [
       "<Figure size 432x288 with 1 Axes>"
      ]
     },
     "metadata": {
      "needs_background": "light"
     },
     "output_type": "display_data"
    },
    {
     "data": {
      "image/png": "[encoded data removed]",
      "text/plain": [
       "<Figure size 432x288 with 1 Axes>"
      ]
     },
     "metadata": {
      "needs_background": "light"
     },
     "output_type": "display_data"
    },
    {
     "name": "stdout",
     "output_type": "stream",
     "text": [
      "Training Data ROC-AUC score random forest (GridSearch CV): 0.992\n",
      "Testing Data ROC-AUC score random forest (GridSearch CV): 0.950\n",
      "Training Data PR-AUC score random forest (GridSearch CV): 0.971\n",
      "Testing Data PR-AUC score random forest (GridSearch CV): 0.824\n"
     ]
    }
   ],
   "source": [
    "plot_roc_curve(y_test, gs_model_probs, naive_preds)\n",
    "plot_pr_curve(y_test, gs_model_probs)\n",
    "print(f'Training Data ROC-AUC score random forest (GridSearch CV): {roc_auc_score(y_train, gs_model_train_probs):.3f}')\n",
    "print(f'Testing Data ROC-AUC score random forest (GridSearch CV): {roc_auc_score(y_test, gs_model_probs):.3f}')\n",
    "precision, recall, _ = precision_recall_curve(y_train, gs_model_train_probs)\n",
    "print(f'Training Data PR-AUC score random forest (GridSearch CV): {auc(recall, precision):.3f}')\n",
    "precision, recall, _ = precision_recall_curve(y_test, gs_model_probs)\n",
    "print(f'Testing Data PR-AUC score random forest (GridSearch CV): {auc(recall, precision):.3f}')"
   ]
  },
  {
   "cell_type": "code",
   "execution_count": 23,
   "id": "341f17eb-718d-4849-85e1-3afe62b6d91d",
   "metadata": {},
   "outputs": [
    {
     "data": {
      "text/plain": [
       "{'bootstrap': True, 'max_depth': 20, 'max_features': 10, 'n_estimators': 250}"
      ]
     },
     "execution_count": 23,
     "metadata": {},
     "output_type": "execute_result"
    }
   ],
   "source": [
    "rf_gs.best_params_"
   ]
  },
  {
   "cell_type": "code",
   "execution_count": null,
   "id": "1635587b-5b7a-48ed-b010-7a27ac21a277",
   "metadata": {},
   "outputs": [],
   "source": [
    "#From our default model\n",
    "ROC-AUC score no skill: 0.500\n",
    "ROC-AUC score random forest: 0.946\n",
    "PR-AUC score no skill: 0.278\n",
    "PR-AUC score random forest: 0.815"
   ]
  },
  {
   "cell_type": "markdown",
   "id": "dc8be356-4ae5-4b64-8342-08919d36b5b3",
   "metadata": {},
   "source": [
    "#### Evaluating Grid Search"
   ]
  },
  {
   "cell_type": "markdown",
   "id": "80c5b0d9-fd01-45a5-a2c0-967a268f439d",
   "metadata": {},
   "source": [
    "We can see that with parameters tuned, there is a 0.42% increase in the ROC-AUC score as well as a 1.1% increase in the PR-AUC score. "
   ]
  },
  {
   "cell_type": "code",
   "execution_count": 39,
   "id": "d7b59d35-e471-4603-8b95-7fb9dc79bf09",
   "metadata": {},
   "outputs": [
    {
     "data": {
      "text/html": [
       "<div>\n",
       "<style scoped>\n",
       "    .dataframe tbody tr th:only-of-type {\n",
       "        vertical-align: middle;\n",
       "    }\n",
       "\n",
       "    .dataframe tbody tr th {\n",
       "        vertical-align: top;\n",
       "    }\n",
       "\n",
       "    .dataframe thead th {\n",
       "        text-align: right;\n",
       "    }\n",
       "</style>\n",
       "<table border=\"1\" class=\"dataframe\">\n",
       "  <thead>\n",
       "    <tr style=\"text-align: right;\">\n",
       "      <th></th>\n",
       "      <th>loan_amnt</th>\n",
       "      <th>term</th>\n",
       "      <th>int_rate</th>\n",
       "      <th>installment</th>\n",
       "      <th>emp_length</th>\n",
       "      <th>home_ownership</th>\n",
       "      <th>loan_status</th>\n",
       "      <th>purpose</th>\n",
       "      <th>dti</th>\n",
       "      <th>delinq_2yrs</th>\n",
       "      <th>...</th>\n",
       "      <th>revol_util</th>\n",
       "      <th>acc_now_delinq</th>\n",
       "      <th>avg_cur_bal</th>\n",
       "      <th>delinq_amnt</th>\n",
       "      <th>pub_rec_bankruptcies</th>\n",
       "      <th>tax_liens</th>\n",
       "      <th>mort_acc</th>\n",
       "      <th>credit_file_age</th>\n",
       "      <th>fico</th>\n",
       "      <th>log_annual_inc</th>\n",
       "    </tr>\n",
       "  </thead>\n",
       "  <tbody>\n",
       "    <tr>\n",
       "      <th>0</th>\n",
       "      <td>3600.0</td>\n",
       "      <td>0</td>\n",
       "      <td>13.99</td>\n",
       "      <td>123.03</td>\n",
       "      <td>10+ years</td>\n",
       "      <td>MORTGAGE</td>\n",
       "      <td>0</td>\n",
       "      <td>debt_consolidation</td>\n",
       "      <td>5.91</td>\n",
       "      <td>0.0</td>\n",
       "      <td>...</td>\n",
       "      <td>29.7</td>\n",
       "      <td>0.0</td>\n",
       "      <td>20701.0</td>\n",
       "      <td>0.0</td>\n",
       "      <td>0.0</td>\n",
       "      <td>0.0</td>\n",
       "      <td>1.0</td>\n",
       "      <td>12</td>\n",
       "      <td>562.0</td>\n",
       "      <td>10.915088</td>\n",
       "    </tr>\n",
       "    <tr>\n",
       "      <th>1</th>\n",
       "      <td>24700.0</td>\n",
       "      <td>0</td>\n",
       "      <td>11.99</td>\n",
       "      <td>820.28</td>\n",
       "      <td>10+ years</td>\n",
       "      <td>MORTGAGE</td>\n",
       "      <td>0</td>\n",
       "      <td>small_business</td>\n",
       "      <td>16.06</td>\n",
       "      <td>1.0</td>\n",
       "      <td>...</td>\n",
       "      <td>19.2</td>\n",
       "      <td>0.0</td>\n",
       "      <td>9733.0</td>\n",
       "      <td>0.0</td>\n",
       "      <td>0.0</td>\n",
       "      <td>0.0</td>\n",
       "      <td>4.0</td>\n",
       "      <td>16</td>\n",
       "      <td>697.0</td>\n",
       "      <td>11.082143</td>\n",
       "    </tr>\n",
       "    <tr>\n",
       "      <th>2</th>\n",
       "      <td>10400.0</td>\n",
       "      <td>1</td>\n",
       "      <td>22.45</td>\n",
       "      <td>289.91</td>\n",
       "      <td>1-5 years</td>\n",
       "      <td>MORTGAGE</td>\n",
       "      <td>0</td>\n",
       "      <td>major_purchase</td>\n",
       "      <td>25.37</td>\n",
       "      <td>1.0</td>\n",
       "      <td>...</td>\n",
       "      <td>64.5</td>\n",
       "      <td>0.0</td>\n",
       "      <td>27644.0</td>\n",
       "      <td>0.0</td>\n",
       "      <td>0.0</td>\n",
       "      <td>0.0</td>\n",
       "      <td>6.0</td>\n",
       "      <td>17</td>\n",
       "      <td>702.0</td>\n",
       "      <td>11.556301</td>\n",
       "    </tr>\n",
       "    <tr>\n",
       "      <th>3</th>\n",
       "      <td>11950.0</td>\n",
       "      <td>0</td>\n",
       "      <td>13.44</td>\n",
       "      <td>405.18</td>\n",
       "      <td>1-5 years</td>\n",
       "      <td>RENT</td>\n",
       "      <td>0</td>\n",
       "      <td>debt_consolidation</td>\n",
       "      <td>10.20</td>\n",
       "      <td>0.0</td>\n",
       "      <td>...</td>\n",
       "      <td>68.4</td>\n",
       "      <td>0.0</td>\n",
       "      <td>2560.0</td>\n",
       "      <td>0.0</td>\n",
       "      <td>0.0</td>\n",
       "      <td>0.0</td>\n",
       "      <td>0.0</td>\n",
       "      <td>28</td>\n",
       "      <td>757.0</td>\n",
       "      <td>10.434116</td>\n",
       "    </tr>\n",
       "    <tr>\n",
       "      <th>4</th>\n",
       "      <td>20000.0</td>\n",
       "      <td>0</td>\n",
       "      <td>9.17</td>\n",
       "      <td>637.58</td>\n",
       "      <td>10+ years</td>\n",
       "      <td>MORTGAGE</td>\n",
       "      <td>0</td>\n",
       "      <td>debt_consolidation</td>\n",
       "      <td>14.67</td>\n",
       "      <td>0.0</td>\n",
       "      <td>...</td>\n",
       "      <td>84.5</td>\n",
       "      <td>0.0</td>\n",
       "      <td>30030.0</td>\n",
       "      <td>0.0</td>\n",
       "      <td>0.0</td>\n",
       "      <td>0.0</td>\n",
       "      <td>4.0</td>\n",
       "      <td>25</td>\n",
       "      <td>652.0</td>\n",
       "      <td>12.100712</td>\n",
       "    </tr>\n",
       "  </tbody>\n",
       "</table>\n",
       "<p>5 rows × 25 columns</p>\n",
       "</div>"
      ],
      "text/plain": [
       "   loan_amnt  term  int_rate  installment emp_length home_ownership  \\\n",
       "0     3600.0     0     13.99       123.03  10+ years       MORTGAGE   \n",
       "1    24700.0     0     11.99       820.28  10+ years       MORTGAGE   \n",
       "2    10400.0     1     22.45       289.91  1-5 years       MORTGAGE   \n",
       "3    11950.0     0     13.44       405.18  1-5 years           RENT   \n",
       "4    20000.0     0      9.17       637.58  10+ years       MORTGAGE   \n",
       "\n",
       "   loan_status             purpose    dti  delinq_2yrs  ...  revol_util  \\\n",
       "0            0  debt_consolidation   5.91          0.0  ...        29.7   \n",
       "1            0      small_business  16.06          1.0  ...        19.2   \n",
       "2            0      major_purchase  25.37          1.0  ...        64.5   \n",
       "3            0  debt_consolidation  10.20          0.0  ...        68.4   \n",
       "4            0  debt_consolidation  14.67          0.0  ...        84.5   \n",
       "\n",
       "   acc_now_delinq  avg_cur_bal  delinq_amnt  pub_rec_bankruptcies  tax_liens  \\\n",
       "0             0.0      20701.0          0.0                   0.0        0.0   \n",
       "1             0.0       9733.0          0.0                   0.0        0.0   \n",
       "2             0.0      27644.0          0.0                   0.0        0.0   \n",
       "3             0.0       2560.0          0.0                   0.0        0.0   \n",
       "4             0.0      30030.0          0.0                   0.0        0.0   \n",
       "\n",
       "   mort_acc  credit_file_age   fico  log_annual_inc  \n",
       "0       1.0               12  562.0       10.915088  \n",
       "1       4.0               16  697.0       11.082143  \n",
       "2       6.0               17  702.0       11.556301  \n",
       "3       0.0               28  757.0       10.434116  \n",
       "4       4.0               25  652.0       12.100712  \n",
       "\n",
       "[5 rows x 25 columns]"
      ]
     },
     "execution_count": 39,
     "metadata": {},
     "output_type": "execute_result"
    }
   ],
   "source": [
    "df.head()"
   ]
  },
  {
   "cell_type": "markdown",
   "id": "897f92c9-7b87-4f2e-b6c3-baa611d15018",
   "metadata": {},
   "source": [
    "#### Random Forest with Feature Selection and Best Parameters"
   ]
  },
  {
   "cell_type": "code",
   "execution_count": null,
   "id": "c8f3273a-a920-4af3-a4fb-ec58180628c0",
   "metadata": {},
   "outputs": [],
   "source": [
    "df.drop(columns = ['acc_now_delinq', 'delinq_amnt'], inplace = True)"
   ]
  },
  {
   "cell_type": "code",
   "execution_count": null,
   "id": "382b8c3e-d105-47eb-bf90-79670b5a5502",
   "metadata": {},
   "outputs": [],
   "source": [
    "df.head()"
   ]
  },
  {
   "cell_type": "code",
   "execution_count": null,
   "id": "76c4ee18-c61c-4959-a977-3d6cd4bae101",
   "metadata": {},
   "outputs": [],
   "source": []
  }
 ],
 "metadata": {
  "kernelspec": {
   "display_name": "Python 3",
   "language": "python",
   "name": "python3"
  },
  "language_info": {
   "codemirror_mode": {
    "name": "ipython",
    "version": 3
   },
   "file_extension": ".py",
   "mimetype": "text/x-python",
   "name": "python",
   "nbconvert_exporter": "python",
   "pygments_lexer": "ipython3",
   "version": "3.8.11"
  }
 },
 "nbformat": 4,
 "nbformat_minor": 5
}
