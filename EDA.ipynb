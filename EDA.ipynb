{
 "cells": [
  {
   "cell_type": "markdown",
   "id": "6c2346c7-9489-4cfb-8bc9-a7fb600e4787",
   "metadata": {
    "tags": []
   },
   "source": [
    "## Problem Statement:\n",
    "\n",
    "Loans provide the opportunity to link up lenders with those in need of capital. The investors make profit due to interest tacked onto the loan. However, not all loans see their principal paid until the end, and when the loan is not paid-in-full (PIF) then the loan is charged-off. When this occurs, the lender loses money and due to the chance of charge-off when it comes to personal loans, it is imperative that the platforms providing this link between lenders and borrowers have a risk model to mitigate potential charge-off based on borrower information. This study aims to train several machine learning models to classify if a borrower will repay the loan or potentially charge-off using Lending Tree data from 2007 - 2015. The guiding metric will be the area under the ROC curve (AUC), specifically the precision-recall AUC score. \n",
    "    "
   ]
  },
  {
   "cell_type": "markdown",
   "id": "715b54c9-05b4-4d8f-88b5-550992ebe443",
   "metadata": {},
   "source": [
    "Minimizes costs spent in collection efforts as well as legal fees. Attract investors as they will have peace of mind that their money is not at risk when it is in the hands of a lending platform such as Lending Club. With the ability to discern if a borrower will Lenders can use different methods to assess the level of credit risk of a potential borrower in order to mitigate losses and avoid delayed payments, such as having higher interest loans as a way to mitigate against high risk loans. "
   ]
  },
  {
   "cell_type": "markdown",
   "id": "6ec6377c-671d-49ac-92c6-505ada9bdc7c",
   "metadata": {},
   "source": [
    "Possible Risks and Assumptions:\n",
    "\n",
    "- Data comes from Kaggle and is application data, there can be missing data at random\n",
    "- Both linear and non-linear relationships between variables which we can address in models\n",
    "- Multicollinearity in our dependent variables due to many of them being credit-related (card utilization, accounts present)\n",
    "- Data is coming from Lending Club which may have a certain limitation of scope, mainly personal loans capped at 40_000 which doesn't reflect all types of loans and loan amounts\n",
    "- We would assume our observations/specific loan data are independent (can check to see if there are renewal loans...perhaps shared ID)"
   ]
  },
  {
   "cell_type": "markdown",
   "id": "a22fa6b5-17a2-4d2c-a2f1-c6908e1c02b1",
   "metadata": {},
   "source": [
    "## Data Imports and Cleaning"
   ]
  },
  {
   "cell_type": "code",
   "execution_count": 62,
   "id": "eae41a3b-0480-4c9a-ab63-0891d28fc483",
   "metadata": {},
   "outputs": [],
   "source": [
    "import pandas as pd\n",
    "import numpy as np\n",
    "import matplotlib.pyplot as plt\n",
    "import seaborn as sns\n",
    "import datetime\n",
    "\n",
    "%matplotlib inline"
   ]
  },
  {
   "cell_type": "code",
   "execution_count": 3,
   "id": "79db85b4-124a-45f7-8d02-481c90b39583",
   "metadata": {},
   "outputs": [
    {
     "name": "stderr",
     "output_type": "stream",
     "text": [
      "C:\\Users\\eddie\\anaconda3\\lib\\site-packages\\IPython\\core\\interactiveshell.py:3441: DtypeWarning: Columns (0,19,49,59,118,129,130,131,134,135,136,139,145,146,147) have mixed types.Specify dtype option on import or set low_memory=False.\n",
      "  exec(code_obj, self.user_global_ns, self.user_ns)\n"
     ]
    }
   ],
   "source": [
    "# Reading in our data from Kaggle, all accepted loans from 2007 to 2018 Q4\n",
    "loan = pd.read_csv('./data/accepted_2007_to_2018Q4.csv')"
   ]
  },
  {
   "cell_type": "markdown",
   "id": "337aaa3f-ac40-49c0-8b69-eeb6ccdb8bbc",
   "metadata": {},
   "source": [
    "We are reducing the number of features to those that will be present to an investor when presented with a loan application. This would include information such as the loan amount, term of the loan, interest rate, debt-to-income ratio, FICO score, and basic credit history. There were multiple features in the original data set for secondary applicants as there were loans for joint applications. For this study, we will solely model using individual loans and their associated applicant information. "
   ]
  },
  {
   "cell_type": "code",
   "execution_count": 4,
   "id": "89a1ee5f-5df9-4604-9caf-d7a3c9a683d8",
   "metadata": {},
   "outputs": [],
   "source": [
    "col_list = ['loan_amnt', 'term', 'int_rate', 'installment',\n",
    "       'emp_length', 'home_ownership', 'annual_inc', 'issue_d', 'loan_status',\n",
    "       'purpose', 'dti', 'delinq_2yrs', 'fico_range_low',\n",
    "       'fico_range_high', 'inq_last_6mths', 'open_acc', 'total_acc', 'pub_rec', 'revol_bal', 'earliest_cr_line',\n",
    "       'revol_util', 'last_fico_range_high',\n",
    "       'last_fico_range_low', 'application_type', 'acc_now_delinq',\n",
    "       'avg_cur_bal', 'chargeoff_within_12_mths', 'delinq_amnt',\n",
    "       'pub_rec_bankruptcies', 'tax_liens', 'mort_acc']"
   ]
  },
  {
   "cell_type": "code",
   "execution_count": 5,
   "id": "77f37349-684a-48b9-8e48-95cdbb9ee643",
   "metadata": {},
   "outputs": [],
   "source": [
    "#Dropping all features not listed in code above\n",
    "loan = loan[col_list]"
   ]
  },
  {
   "cell_type": "code",
   "execution_count": 6,
   "id": "835b4d52-8892-4e8a-adf4-437f3e4bf7c0",
   "metadata": {},
   "outputs": [],
   "source": [
    "loan['issue_d'] = pd.to_datetime(loan['issue_d'])"
   ]
  },
  {
   "cell_type": "code",
   "execution_count": 7,
   "id": "4c704db2-b7a2-4722-8117-fb9ca2b1ed13",
   "metadata": {},
   "outputs": [
    {
     "data": {
      "text/html": [
       "<div>\n",
       "<style scoped>\n",
       "    .dataframe tbody tr th:only-of-type {\n",
       "        vertical-align: middle;\n",
       "    }\n",
       "\n",
       "    .dataframe tbody tr th {\n",
       "        vertical-align: top;\n",
       "    }\n",
       "\n",
       "    .dataframe thead th {\n",
       "        text-align: right;\n",
       "    }\n",
       "</style>\n",
       "<table border=\"1\" class=\"dataframe\">\n",
       "  <thead>\n",
       "    <tr style=\"text-align: right;\">\n",
       "      <th></th>\n",
       "      <th>loan_amnt</th>\n",
       "      <th>term</th>\n",
       "      <th>int_rate</th>\n",
       "      <th>installment</th>\n",
       "      <th>emp_length</th>\n",
       "      <th>home_ownership</th>\n",
       "      <th>annual_inc</th>\n",
       "      <th>issue_d</th>\n",
       "      <th>loan_status</th>\n",
       "      <th>purpose</th>\n",
       "      <th>...</th>\n",
       "      <th>last_fico_range_high</th>\n",
       "      <th>last_fico_range_low</th>\n",
       "      <th>application_type</th>\n",
       "      <th>acc_now_delinq</th>\n",
       "      <th>avg_cur_bal</th>\n",
       "      <th>chargeoff_within_12_mths</th>\n",
       "      <th>delinq_amnt</th>\n",
       "      <th>pub_rec_bankruptcies</th>\n",
       "      <th>tax_liens</th>\n",
       "      <th>mort_acc</th>\n",
       "    </tr>\n",
       "  </thead>\n",
       "  <tbody>\n",
       "    <tr>\n",
       "      <th>0</th>\n",
       "      <td>3600.0</td>\n",
       "      <td>36 months</td>\n",
       "      <td>13.99</td>\n",
       "      <td>123.03</td>\n",
       "      <td>10+ years</td>\n",
       "      <td>MORTGAGE</td>\n",
       "      <td>55000.0</td>\n",
       "      <td>2015-12-01</td>\n",
       "      <td>Fully Paid</td>\n",
       "      <td>debt_consolidation</td>\n",
       "      <td>...</td>\n",
       "      <td>564.0</td>\n",
       "      <td>560.0</td>\n",
       "      <td>Individual</td>\n",
       "      <td>0.0</td>\n",
       "      <td>20701.0</td>\n",
       "      <td>0.0</td>\n",
       "      <td>0.0</td>\n",
       "      <td>0.0</td>\n",
       "      <td>0.0</td>\n",
       "      <td>1.0</td>\n",
       "    </tr>\n",
       "    <tr>\n",
       "      <th>1</th>\n",
       "      <td>24700.0</td>\n",
       "      <td>36 months</td>\n",
       "      <td>11.99</td>\n",
       "      <td>820.28</td>\n",
       "      <td>10+ years</td>\n",
       "      <td>MORTGAGE</td>\n",
       "      <td>65000.0</td>\n",
       "      <td>2015-12-01</td>\n",
       "      <td>Fully Paid</td>\n",
       "      <td>small_business</td>\n",
       "      <td>...</td>\n",
       "      <td>699.0</td>\n",
       "      <td>695.0</td>\n",
       "      <td>Individual</td>\n",
       "      <td>0.0</td>\n",
       "      <td>9733.0</td>\n",
       "      <td>0.0</td>\n",
       "      <td>0.0</td>\n",
       "      <td>0.0</td>\n",
       "      <td>0.0</td>\n",
       "      <td>4.0</td>\n",
       "    </tr>\n",
       "    <tr>\n",
       "      <th>2</th>\n",
       "      <td>20000.0</td>\n",
       "      <td>60 months</td>\n",
       "      <td>10.78</td>\n",
       "      <td>432.66</td>\n",
       "      <td>10+ years</td>\n",
       "      <td>MORTGAGE</td>\n",
       "      <td>63000.0</td>\n",
       "      <td>2015-12-01</td>\n",
       "      <td>Fully Paid</td>\n",
       "      <td>home_improvement</td>\n",
       "      <td>...</td>\n",
       "      <td>704.0</td>\n",
       "      <td>700.0</td>\n",
       "      <td>Joint App</td>\n",
       "      <td>0.0</td>\n",
       "      <td>31617.0</td>\n",
       "      <td>0.0</td>\n",
       "      <td>0.0</td>\n",
       "      <td>0.0</td>\n",
       "      <td>0.0</td>\n",
       "      <td>5.0</td>\n",
       "    </tr>\n",
       "    <tr>\n",
       "      <th>3</th>\n",
       "      <td>35000.0</td>\n",
       "      <td>60 months</td>\n",
       "      <td>14.85</td>\n",
       "      <td>829.90</td>\n",
       "      <td>10+ years</td>\n",
       "      <td>MORTGAGE</td>\n",
       "      <td>110000.0</td>\n",
       "      <td>2015-12-01</td>\n",
       "      <td>Current</td>\n",
       "      <td>debt_consolidation</td>\n",
       "      <td>...</td>\n",
       "      <td>679.0</td>\n",
       "      <td>675.0</td>\n",
       "      <td>Individual</td>\n",
       "      <td>0.0</td>\n",
       "      <td>23192.0</td>\n",
       "      <td>0.0</td>\n",
       "      <td>0.0</td>\n",
       "      <td>0.0</td>\n",
       "      <td>0.0</td>\n",
       "      <td>1.0</td>\n",
       "    </tr>\n",
       "    <tr>\n",
       "      <th>4</th>\n",
       "      <td>10400.0</td>\n",
       "      <td>60 months</td>\n",
       "      <td>22.45</td>\n",
       "      <td>289.91</td>\n",
       "      <td>3 years</td>\n",
       "      <td>MORTGAGE</td>\n",
       "      <td>104433.0</td>\n",
       "      <td>2015-12-01</td>\n",
       "      <td>Fully Paid</td>\n",
       "      <td>major_purchase</td>\n",
       "      <td>...</td>\n",
       "      <td>704.0</td>\n",
       "      <td>700.0</td>\n",
       "      <td>Individual</td>\n",
       "      <td>0.0</td>\n",
       "      <td>27644.0</td>\n",
       "      <td>0.0</td>\n",
       "      <td>0.0</td>\n",
       "      <td>0.0</td>\n",
       "      <td>0.0</td>\n",
       "      <td>6.0</td>\n",
       "    </tr>\n",
       "  </tbody>\n",
       "</table>\n",
       "<p>5 rows × 31 columns</p>\n",
       "</div>"
      ],
      "text/plain": [
       "   loan_amnt        term  int_rate  installment emp_length home_ownership  \\\n",
       "0     3600.0   36 months     13.99       123.03  10+ years       MORTGAGE   \n",
       "1    24700.0   36 months     11.99       820.28  10+ years       MORTGAGE   \n",
       "2    20000.0   60 months     10.78       432.66  10+ years       MORTGAGE   \n",
       "3    35000.0   60 months     14.85       829.90  10+ years       MORTGAGE   \n",
       "4    10400.0   60 months     22.45       289.91    3 years       MORTGAGE   \n",
       "\n",
       "   annual_inc    issue_d loan_status             purpose  ...  \\\n",
       "0     55000.0 2015-12-01  Fully Paid  debt_consolidation  ...   \n",
       "1     65000.0 2015-12-01  Fully Paid      small_business  ...   \n",
       "2     63000.0 2015-12-01  Fully Paid    home_improvement  ...   \n",
       "3    110000.0 2015-12-01     Current  debt_consolidation  ...   \n",
       "4    104433.0 2015-12-01  Fully Paid      major_purchase  ...   \n",
       "\n",
       "   last_fico_range_high  last_fico_range_low  application_type  \\\n",
       "0                 564.0                560.0        Individual   \n",
       "1                 699.0                695.0        Individual   \n",
       "2                 704.0                700.0         Joint App   \n",
       "3                 679.0                675.0        Individual   \n",
       "4                 704.0                700.0        Individual   \n",
       "\n",
       "   acc_now_delinq  avg_cur_bal  chargeoff_within_12_mths  delinq_amnt  \\\n",
       "0             0.0      20701.0                       0.0          0.0   \n",
       "1             0.0       9733.0                       0.0          0.0   \n",
       "2             0.0      31617.0                       0.0          0.0   \n",
       "3             0.0      23192.0                       0.0          0.0   \n",
       "4             0.0      27644.0                       0.0          0.0   \n",
       "\n",
       "   pub_rec_bankruptcies  tax_liens mort_acc  \n",
       "0                   0.0        0.0      1.0  \n",
       "1                   0.0        0.0      4.0  \n",
       "2                   0.0        0.0      5.0  \n",
       "3                   0.0        0.0      1.0  \n",
       "4                   0.0        0.0      6.0  \n",
       "\n",
       "[5 rows x 31 columns]"
      ]
     },
     "execution_count": 7,
     "metadata": {},
     "output_type": "execute_result"
    }
   ],
   "source": [
    "loan.head()"
   ]
  },
  {
   "cell_type": "code",
   "execution_count": 8,
   "id": "12a0e41c-1d53-4e77-a695-143f8d7ed9d0",
   "metadata": {},
   "outputs": [
    {
     "data": {
      "text/plain": [
       "(2260701, 31)"
      ]
     },
     "execution_count": 8,
     "metadata": {},
     "output_type": "execute_result"
    }
   ],
   "source": [
    "loan.shape"
   ]
  },
  {
   "cell_type": "markdown",
   "id": "1e61e1e4-d34f-4ede-9011-9cfe451906bf",
   "metadata": {},
   "source": [
    "Here, we see that the raw dataset has '2,260,701' loans, which we've reduced to 32 features, including our predicted value ('loan_status'). "
   ]
  },
  {
   "cell_type": "code",
   "execution_count": 9,
   "id": "42d00df3-eef7-4835-a287-93803f996c83",
   "metadata": {},
   "outputs": [],
   "source": [
    "def data_summary(df):\n",
    "    features = []\n",
    "    dtypes = []\n",
    "    unique = []\n",
    "    null_values = []\n",
    "    for c in df.columns:\n",
    "        features.append(c)\n",
    "        dtypes.append(df[c].dtype)\n",
    "        unique.append(df[c].nunique())\n",
    "        null_values.append(df[c].isna().sum())\n",
    "    dict = {\n",
    "        'feature' : features,\n",
    "        'dtype' : dtypes,\n",
    "        'unique_val' : unique,\n",
    "        'null_values': null_values\n",
    "    }\n",
    "    data = pd.DataFrame(dict)\n",
    "    return data"
   ]
  },
  {
   "cell_type": "code",
   "execution_count": 10,
   "id": "19137b46-1fd4-45ca-92af-68b4c32199bc",
   "metadata": {},
   "outputs": [
    {
     "data": {
      "text/html": [
       "<div>\n",
       "<style scoped>\n",
       "    .dataframe tbody tr th:only-of-type {\n",
       "        vertical-align: middle;\n",
       "    }\n",
       "\n",
       "    .dataframe tbody tr th {\n",
       "        vertical-align: top;\n",
       "    }\n",
       "\n",
       "    .dataframe thead th {\n",
       "        text-align: right;\n",
       "    }\n",
       "</style>\n",
       "<table border=\"1\" class=\"dataframe\">\n",
       "  <thead>\n",
       "    <tr style=\"text-align: right;\">\n",
       "      <th></th>\n",
       "      <th>feature</th>\n",
       "      <th>dtype</th>\n",
       "      <th>unique_val</th>\n",
       "      <th>null_values</th>\n",
       "    </tr>\n",
       "  </thead>\n",
       "  <tbody>\n",
       "    <tr>\n",
       "      <th>9</th>\n",
       "      <td>purpose</td>\n",
       "      <td>object</td>\n",
       "      <td>14</td>\n",
       "      <td>33</td>\n",
       "    </tr>\n",
       "    <tr>\n",
       "      <th>5</th>\n",
       "      <td>home_ownership</td>\n",
       "      <td>object</td>\n",
       "      <td>6</td>\n",
       "      <td>33</td>\n",
       "    </tr>\n",
       "    <tr>\n",
       "      <th>1</th>\n",
       "      <td>term</td>\n",
       "      <td>object</td>\n",
       "      <td>2</td>\n",
       "      <td>33</td>\n",
       "    </tr>\n",
       "    <tr>\n",
       "      <th>23</th>\n",
       "      <td>application_type</td>\n",
       "      <td>object</td>\n",
       "      <td>2</td>\n",
       "      <td>33</td>\n",
       "    </tr>\n",
       "    <tr>\n",
       "      <th>8</th>\n",
       "      <td>loan_status</td>\n",
       "      <td>object</td>\n",
       "      <td>9</td>\n",
       "      <td>33</td>\n",
       "    </tr>\n",
       "    <tr>\n",
       "      <th>19</th>\n",
       "      <td>earliest_cr_line</td>\n",
       "      <td>object</td>\n",
       "      <td>754</td>\n",
       "      <td>62</td>\n",
       "    </tr>\n",
       "    <tr>\n",
       "      <th>4</th>\n",
       "      <td>emp_length</td>\n",
       "      <td>object</td>\n",
       "      <td>11</td>\n",
       "      <td>146940</td>\n",
       "    </tr>\n",
       "    <tr>\n",
       "      <th>27</th>\n",
       "      <td>delinq_amnt</td>\n",
       "      <td>float64</td>\n",
       "      <td>2617</td>\n",
       "      <td>62</td>\n",
       "    </tr>\n",
       "    <tr>\n",
       "      <th>26</th>\n",
       "      <td>chargeoff_within_12_mths</td>\n",
       "      <td>float64</td>\n",
       "      <td>11</td>\n",
       "      <td>178</td>\n",
       "    </tr>\n",
       "    <tr>\n",
       "      <th>18</th>\n",
       "      <td>revol_bal</td>\n",
       "      <td>float64</td>\n",
       "      <td>102251</td>\n",
       "      <td>33</td>\n",
       "    </tr>\n",
       "    <tr>\n",
       "      <th>25</th>\n",
       "      <td>avg_cur_bal</td>\n",
       "      <td>float64</td>\n",
       "      <td>88597</td>\n",
       "      <td>70379</td>\n",
       "    </tr>\n",
       "    <tr>\n",
       "      <th>24</th>\n",
       "      <td>acc_now_delinq</td>\n",
       "      <td>float64</td>\n",
       "      <td>9</td>\n",
       "      <td>62</td>\n",
       "    </tr>\n",
       "    <tr>\n",
       "      <th>28</th>\n",
       "      <td>pub_rec_bankruptcies</td>\n",
       "      <td>float64</td>\n",
       "      <td>12</td>\n",
       "      <td>1398</td>\n",
       "    </tr>\n",
       "    <tr>\n",
       "      <th>22</th>\n",
       "      <td>last_fico_range_low</td>\n",
       "      <td>float64</td>\n",
       "      <td>71</td>\n",
       "      <td>33</td>\n",
       "    </tr>\n",
       "    <tr>\n",
       "      <th>21</th>\n",
       "      <td>last_fico_range_high</td>\n",
       "      <td>float64</td>\n",
       "      <td>72</td>\n",
       "      <td>33</td>\n",
       "    </tr>\n",
       "    <tr>\n",
       "      <th>29</th>\n",
       "      <td>tax_liens</td>\n",
       "      <td>float64</td>\n",
       "      <td>42</td>\n",
       "      <td>138</td>\n",
       "    </tr>\n",
       "    <tr>\n",
       "      <th>20</th>\n",
       "      <td>revol_util</td>\n",
       "      <td>float64</td>\n",
       "      <td>1430</td>\n",
       "      <td>1835</td>\n",
       "    </tr>\n",
       "    <tr>\n",
       "      <th>0</th>\n",
       "      <td>loan_amnt</td>\n",
       "      <td>float64</td>\n",
       "      <td>1572</td>\n",
       "      <td>33</td>\n",
       "    </tr>\n",
       "    <tr>\n",
       "      <th>15</th>\n",
       "      <td>open_acc</td>\n",
       "      <td>float64</td>\n",
       "      <td>91</td>\n",
       "      <td>62</td>\n",
       "    </tr>\n",
       "    <tr>\n",
       "      <th>17</th>\n",
       "      <td>pub_rec</td>\n",
       "      <td>float64</td>\n",
       "      <td>43</td>\n",
       "      <td>62</td>\n",
       "    </tr>\n",
       "    <tr>\n",
       "      <th>16</th>\n",
       "      <td>total_acc</td>\n",
       "      <td>float64</td>\n",
       "      <td>152</td>\n",
       "      <td>62</td>\n",
       "    </tr>\n",
       "    <tr>\n",
       "      <th>14</th>\n",
       "      <td>inq_last_6mths</td>\n",
       "      <td>float64</td>\n",
       "      <td>28</td>\n",
       "      <td>63</td>\n",
       "    </tr>\n",
       "    <tr>\n",
       "      <th>13</th>\n",
       "      <td>fico_range_high</td>\n",
       "      <td>float64</td>\n",
       "      <td>48</td>\n",
       "      <td>33</td>\n",
       "    </tr>\n",
       "    <tr>\n",
       "      <th>12</th>\n",
       "      <td>fico_range_low</td>\n",
       "      <td>float64</td>\n",
       "      <td>48</td>\n",
       "      <td>33</td>\n",
       "    </tr>\n",
       "    <tr>\n",
       "      <th>11</th>\n",
       "      <td>delinq_2yrs</td>\n",
       "      <td>float64</td>\n",
       "      <td>37</td>\n",
       "      <td>62</td>\n",
       "    </tr>\n",
       "    <tr>\n",
       "      <th>10</th>\n",
       "      <td>dti</td>\n",
       "      <td>float64</td>\n",
       "      <td>10845</td>\n",
       "      <td>1744</td>\n",
       "    </tr>\n",
       "    <tr>\n",
       "      <th>7</th>\n",
       "      <td>issue_d</td>\n",
       "      <td>datetime64[ns]</td>\n",
       "      <td>139</td>\n",
       "      <td>33</td>\n",
       "    </tr>\n",
       "    <tr>\n",
       "      <th>6</th>\n",
       "      <td>annual_inc</td>\n",
       "      <td>float64</td>\n",
       "      <td>89368</td>\n",
       "      <td>37</td>\n",
       "    </tr>\n",
       "    <tr>\n",
       "      <th>3</th>\n",
       "      <td>installment</td>\n",
       "      <td>float64</td>\n",
       "      <td>93301</td>\n",
       "      <td>33</td>\n",
       "    </tr>\n",
       "    <tr>\n",
       "      <th>2</th>\n",
       "      <td>int_rate</td>\n",
       "      <td>float64</td>\n",
       "      <td>673</td>\n",
       "      <td>33</td>\n",
       "    </tr>\n",
       "    <tr>\n",
       "      <th>30</th>\n",
       "      <td>mort_acc</td>\n",
       "      <td>float64</td>\n",
       "      <td>47</td>\n",
       "      <td>50063</td>\n",
       "    </tr>\n",
       "  </tbody>\n",
       "</table>\n",
       "</div>"
      ],
      "text/plain": [
       "                     feature           dtype  unique_val  null_values\n",
       "9                    purpose          object          14           33\n",
       "5             home_ownership          object           6           33\n",
       "1                       term          object           2           33\n",
       "23          application_type          object           2           33\n",
       "8                loan_status          object           9           33\n",
       "19          earliest_cr_line          object         754           62\n",
       "4                 emp_length          object          11       146940\n",
       "27               delinq_amnt         float64        2617           62\n",
       "26  chargeoff_within_12_mths         float64          11          178\n",
       "18                 revol_bal         float64      102251           33\n",
       "25               avg_cur_bal         float64       88597        70379\n",
       "24            acc_now_delinq         float64           9           62\n",
       "28      pub_rec_bankruptcies         float64          12         1398\n",
       "22       last_fico_range_low         float64          71           33\n",
       "21      last_fico_range_high         float64          72           33\n",
       "29                 tax_liens         float64          42          138\n",
       "20                revol_util         float64        1430         1835\n",
       "0                  loan_amnt         float64        1572           33\n",
       "15                  open_acc         float64          91           62\n",
       "17                   pub_rec         float64          43           62\n",
       "16                 total_acc         float64         152           62\n",
       "14            inq_last_6mths         float64          28           63\n",
       "13           fico_range_high         float64          48           33\n",
       "12            fico_range_low         float64          48           33\n",
       "11               delinq_2yrs         float64          37           62\n",
       "10                       dti         float64       10845         1744\n",
       "7                    issue_d  datetime64[ns]         139           33\n",
       "6                 annual_inc         float64       89368           37\n",
       "3                installment         float64       93301           33\n",
       "2                   int_rate         float64         673           33\n",
       "30                  mort_acc         float64          47        50063"
      ]
     },
     "execution_count": 10,
     "metadata": {},
     "output_type": "execute_result"
    }
   ],
   "source": [
    "data_summary(loan).sort_values('dtype', ascending = False)"
   ]
  },
  {
   "cell_type": "markdown",
   "id": "e8aa5e7a-6e59-4680-92b0-2cf82b4fb064",
   "metadata": {},
   "source": [
    "#### Setting Up Our Predicted Value"
   ]
  },
  {
   "cell_type": "code",
   "execution_count": 11,
   "id": "2bcaddce-245b-4221-9e3e-7f5a0c13333e",
   "metadata": {},
   "outputs": [
    {
     "data": {
      "text/plain": [
       "0    1076751\n",
       "1     268559\n",
       "Name: loan_status, dtype: int64"
      ]
     },
     "execution_count": 11,
     "metadata": {},
     "output_type": "execute_result"
    }
   ],
   "source": [
    "#Slicing our dataframe so that it only contains loans which are fully paid off or charged-off\n",
    "loan = loan.loc[loan['loan_status'].isin(['Fully Paid', 'Charged Off'])]\n",
    "\n",
    "loan['loan_status'] = loan['loan_status'].map({\n",
    "    'Fully Paid': 0,\n",
    "    'Charged Off': 1\n",
    "})\n",
    "\n",
    "loan.loan_status.value_counts(dropna = False)"
   ]
  },
  {
   "cell_type": "code",
   "execution_count": 12,
   "id": "70be1abd-a808-43c8-856e-eef7c14b858c",
   "metadata": {},
   "outputs": [
    {
     "data": {
      "text/plain": [
       "(1345310, 31)"
      ]
     },
     "execution_count": 12,
     "metadata": {},
     "output_type": "execute_result"
    }
   ],
   "source": [
    "loan.shape"
   ]
  },
  {
   "cell_type": "markdown",
   "id": "7106068d-0221-47f4-97f1-949cd5711c9f",
   "metadata": {},
   "source": [
    "This has reduced the number of samples we have for our model as we originally started with 2,260,701 loans. This amounts to about ~60% of our original dataset but we are not too concerned as our sample size is still significant. "
   ]
  },
  {
   "cell_type": "markdown",
   "id": "47fa4abe-6d1a-4fe9-b863-629f1564462f",
   "metadata": {},
   "source": [
    "#### Cleaning Categorical Columns"
   ]
  },
  {
   "cell_type": "code",
   "execution_count": 13,
   "id": "ebe7d6f2-a4a4-4c28-a5cd-44a1cf1bd06d",
   "metadata": {},
   "outputs": [
    {
     "name": "stdout",
     "output_type": "stream",
     "text": [
      "Feature: term\n",
      "% of Null Values:0.0\n",
      "Value Counts:\n",
      " 36 months    1020743\n",
      " 60 months     324567\n",
      "Name: term, dtype: int64\n",
      "---------\n",
      "Feature: emp_length\n",
      "% of Null Values:0.058359039923883714\n",
      "Value Counts:\n",
      "10+ years    442199\n",
      "2 years      121743\n",
      "< 1 year     108061\n",
      "3 years      107597\n",
      "1 year        88494\n",
      "5 years       84154\n",
      "4 years       80556\n",
      "NaN           78511\n",
      "6 years       62733\n",
      "8 years       60701\n",
      "7 years       59624\n",
      "9 years       50937\n",
      "Name: emp_length, dtype: int64\n",
      "---------\n",
      "Feature: home_ownership\n",
      "% of Null Values:0.0\n",
      "Value Counts:\n",
      "MORTGAGE    665579\n",
      "RENT        534421\n",
      "OWN         144832\n",
      "ANY            286\n",
      "OTHER          144\n",
      "NONE            48\n",
      "Name: home_ownership, dtype: int64\n",
      "---------\n",
      "Feature: purpose\n",
      "% of Null Values:0.0\n",
      "Value Counts:\n",
      "debt_consolidation    780321\n",
      "credit_card           295279\n",
      "home_improvement       87504\n",
      "other                  77875\n",
      "major_purchase         29425\n",
      "medical                15554\n",
      "small_business         15416\n",
      "car                    14585\n",
      "moving                  9480\n",
      "vacation                9065\n",
      "house                   7253\n",
      "wedding                 2294\n",
      "renewable_energy         933\n",
      "educational              326\n",
      "Name: purpose, dtype: int64\n",
      "---------\n",
      "Feature: earliest_cr_line\n",
      "% of Null Values:0.0\n",
      "Value Counts:\n",
      "Aug-2001    9391\n",
      "Aug-2002    9083\n",
      "Sep-2003    9029\n",
      "Oct-2001    8855\n",
      "Sep-2004    8848\n",
      "            ... \n",
      "Aug-1955       1\n",
      "Jun-1955       1\n",
      "Sep-1953       1\n",
      "Apr-1958       1\n",
      "Dec-1951       1\n",
      "Name: earliest_cr_line, Length: 739, dtype: int64\n",
      "---------\n",
      "Feature: application_type\n",
      "% of Null Values:0.0\n",
      "Value Counts:\n",
      "Individual    1319510\n",
      "Joint App       25800\n",
      "Name: application_type, dtype: int64\n",
      "---------\n"
     ]
    }
   ],
   "source": [
    "for c in loan.columns:\n",
    "    if loan[c].dtype == 'object':\n",
    "        print(f'Feature: {c}')\n",
    "        print(f'% of Null Values:{loan[c].isna().sum() / len(loan[c])}')\n",
    "        print('Value Counts:')\n",
    "        print(loan[c].value_counts(dropna = False))\n",
    "        print('---------')"
   ]
  },
  {
   "cell_type": "code",
   "execution_count": 14,
   "id": "abca49c0-5ded-43e1-8b0f-aa649a118ab4",
   "metadata": {},
   "outputs": [
    {
     "data": {
      "text/plain": [
       "Individual    0.980822\n",
       "Joint App     0.019178\n",
       "Name: application_type, dtype: float64"
      ]
     },
     "execution_count": 14,
     "metadata": {},
     "output_type": "execute_result"
    }
   ],
   "source": [
    "loan.application_type.value_counts(normalize = True)"
   ]
  },
  {
   "cell_type": "markdown",
   "id": "f7e9ca46-76ec-47d4-9c42-b77b8177eafe",
   "metadata": {},
   "source": [
    "To start, let's remove the joint applications from our data set which we can see is a very miniscule subset of our loans. It comes out to be around 2% of all loan applications and with this severe imbalance, it would benefit to remove this feature. In addition to this, in terms of our initial goal, we will build a model using only individual information to predict loan repayment.|"
   ]
  },
  {
   "cell_type": "code",
   "execution_count": 16,
   "id": "a4ca9067-ab7e-441d-99ac-ac76d29389e0",
   "metadata": {},
   "outputs": [],
   "source": [
    "loan = loan[loan.application_type == 'Individual']"
   ]
  },
  {
   "cell_type": "code",
   "execution_count": 16,
   "id": "425b6260-09c8-45ae-8584-03d7ffaccfbe",
   "metadata": {},
   "outputs": [
    {
     "data": {
      "text/plain": [
       " 36 months    1004477\n",
       " 60 months     315033\n",
       "Name: term, dtype: int64"
      ]
     },
     "execution_count": 16,
     "metadata": {},
     "output_type": "execute_result"
    }
   ],
   "source": [
    "loan.term.value_counts()"
   ]
  },
  {
   "cell_type": "code",
   "execution_count": 17,
   "id": "83da8f7a-2f1b-4b96-973a-914e6f4074a1",
   "metadata": {},
   "outputs": [
    {
     "data": {
      "text/plain": [
       "Individual    1319510\n",
       "Name: application_type, dtype: int64"
      ]
     },
     "execution_count": 17,
     "metadata": {},
     "output_type": "execute_result"
    }
   ],
   "source": [
    "loan.application_type.value_counts()"
   ]
  },
  {
   "cell_type": "code",
   "execution_count": 15,
   "id": "d4762b39-86b0-4524-82a0-4a0c58de6f2a",
   "metadata": {},
   "outputs": [
    {
     "data": {
      "text/plain": [
       "Individual    1319510\n",
       "Name: application_type, dtype: int64"
      ]
     },
     "execution_count": 15,
     "metadata": {},
     "output_type": "execute_result"
    }
   ],
   "source": [
    "loan = loan[loan.application_type == 'Individual']\n",
    "loan['application_type'].value_counts(dropna = False)"
   ]
  },
  {
   "cell_type": "code",
   "execution_count": 20,
   "id": "0c0ad88f-4442-4e18-ae8a-da85819ef958",
   "metadata": {},
   "outputs": [
    {
     "data": {
      "text/plain": [
       "MORTGAGE    648107\n",
       "RENT        528509\n",
       "OWN         142418\n",
       "ANY            286\n",
       "OTHER          144\n",
       "NONE            46\n",
       "Name: home_ownership, dtype: int64"
      ]
     },
     "execution_count": 20,
     "metadata": {},
     "output_type": "execute_result"
    }
   ],
   "source": [
    "loan.home_ownership.value_counts(dropna = False)"
   ]
  },
  {
   "cell_type": "code",
   "execution_count": 36,
   "id": "6ea0c117-b2d3-4535-bfec-236cce3724b1",
   "metadata": {},
   "outputs": [
    {
     "data": {
      "image/png": "[encoded data removed]",
      "text/plain": [
       "<Figure size 432x288 with 1 Axes>"
      ]
     },
     "metadata": {
      "needs_background": "light"
     },
     "output_type": "display_data"
    },
    {
     "data": {
      "text/plain": [
       "<Figure size 720x648 with 0 Axes>"
      ]
     },
     "metadata": {},
     "output_type": "display_data"
    }
   ],
   "source": [
    "loan['home_ownership'].value_counts().plot(kind = 'bar')\n",
    "plt.xlabel('Type of Home Ownership')\n",
    "plt.ylabel('Count')\n",
    "plt.xticks(rotation = 45)\n",
    "plt.title('Distribution of Home Ownership')\n",
    "plt.figure(figsize = (10,9));"
   ]
  },
  {
   "cell_type": "code",
   "execution_count": 55,
   "id": "566bdc8b-25c7-464f-ae79-e196a1f462c0",
   "metadata": {},
   "outputs": [
    {
     "data": {
      "image/png": "[encoded data removed]",
      "text/plain": [
       "<Figure size 432x288 with 1 Axes>"
      ]
     },
     "metadata": {
      "needs_background": "light"
     },
     "output_type": "display_data"
    }
   ],
   "source": [
    "plt.barh(loan['purpose'].unique(), loan['purpose'].value_counts())\n",
    "plt.xlabel('Number of Loans', size = 10)\n",
    "plt.ylabel('Loan Purpose', size = 10)\n",
    "plt.xticks(rotation = 45);"
   ]
  },
  {
   "cell_type": "code",
   "execution_count": 58,
   "id": "7e8cda68-88fa-4690-9361-94f8ff21d4db",
   "metadata": {},
   "outputs": [],
   "source": [
    "loan['earliest_cr_line'] = pd.to_datetime(loan['earliest_cr_line'])\n",
    "loan['earliest_cr_line_year'] = loan['earliest_cr_line'].dt.year\n",
    "loan['year'] = loan['issue_d'].dt.year\n",
    "loan['credit_file_age'] = loan['year'] - loan['earliest_cr_line_year']"
   ]
  },
  {
   "cell_type": "code",
   "execution_count": 75,
   "id": "d6b61016-805b-4c51-a2f0-6f78a822c6cb",
   "metadata": {},
   "outputs": [
    {
     "data": {
      "text/plain": [
       "(array([  1813.,   4716.,  11536.,  21721.,  53367., 134804., 223102.,\n",
       "        375144., 287809., 205498.]),\n",
       " array([2007. , 2008.1, 2009.2, 2010.3, 2011.4, 2012.5, 2013.6, 2014.7,\n",
       "        2015.8, 2016.9, 2018. ]),\n",
       " <BarContainer object of 10 artists>)"
      ]
     },
     "execution_count": 75,
     "metadata": {},
     "output_type": "execute_result"
    },
    {
     "data": {
      "image/png": "[encoded data removed]",
      "text/plain": [
       "<Figure size 432x288 with 1 Axes>"
      ]
     },
     "metadata": {
      "needs_background": "light"
     },
     "output_type": "display_data"
    }
   ],
   "source": [
    "plt.hist(loan['year'])"
   ]
  },
  {
   "cell_type": "code",
   "execution_count": 78,
   "id": "6ae337b8-d2d2-4059-98c1-fe97bf253a24",
   "metadata": {},
   "outputs": [
    {
     "data": {
      "text/plain": [
       "(array([2.67906e+05, 6.43340e+05, 2.75076e+05, 9.88500e+04, 2.66590e+04,\n",
       "        6.64900e+03, 9.42000e+02, 7.90000e+01, 8.00000e+00, 1.00000e+00]),\n",
       " array([ 3., 11., 19., 27., 35., 43., 51., 59., 67., 75., 83.]),\n",
       " <BarContainer object of 10 artists>)"
      ]
     },
     "execution_count": 78,
     "metadata": {},
     "output_type": "execute_result"
    },
    {
     "data": {
      "image/png": "[encoded data removed]",
      "text/plain": [
       "<Figure size 432x288 with 1 Axes>"
      ]
     },
     "metadata": {
      "needs_background": "light"
     },
     "output_type": "display_data"
    }
   ],
   "source": [
    "plt.hist(loan['credit_file_age'])"
   ]
  },
  {
   "cell_type": "code",
   "execution_count": 81,
   "id": "5d3225b1-2454-41cd-a9b7-4ba91ecddd8a",
   "metadata": {},
   "outputs": [],
   "source": [
    "loan.drop(columns = ['earliest_cr_line', 'application_type', 'year', 'earliest_cr_line_year'], inplace = True)"
   ]
  },
  {
   "cell_type": "code",
   "execution_count": 82,
   "id": "1bab540f-d955-4180-a6ce-168091059ea3",
   "metadata": {},
   "outputs": [
    {
     "name": "stdout",
     "output_type": "stream",
     "text": [
      "<class 'pandas.core.frame.DataFrame'>\n",
      "Int64Index: 1319510 entries, 0 to 2260697\n",
      "Data columns (total 30 columns):\n",
      " #   Column                    Non-Null Count    Dtype         \n",
      "---  ------                    --------------    -----         \n",
      " 0   loan_amnt                 1319510 non-null  float64       \n",
      " 1   term                      1319510 non-null  int64         \n",
      " 2   int_rate                  1319510 non-null  float64       \n",
      " 3   installment               1319510 non-null  float64       \n",
      " 4   emp_length                1319510 non-null  object        \n",
      " 5   home_ownership            1319510 non-null  object        \n",
      " 6   annual_inc                1319510 non-null  float64       \n",
      " 7   issue_d                   1319510 non-null  datetime64[ns]\n",
      " 8   loan_status               1319510 non-null  int64         \n",
      " 9   purpose                   1319510 non-null  object        \n",
      " 10  dti                       1319510 non-null  float64       \n",
      " 11  delinq_2yrs               1319510 non-null  float64       \n",
      " 12  fico_range_low            1319510 non-null  float64       \n",
      " 13  fico_range_high           1319510 non-null  float64       \n",
      " 14  inq_last_6mths            1319509 non-null  float64       \n",
      " 15  open_acc                  1319510 non-null  float64       \n",
      " 16  total_acc                 1319510 non-null  float64       \n",
      " 17  pub_rec                   1319510 non-null  float64       \n",
      " 18  revol_bal                 1319510 non-null  float64       \n",
      " 19  revol_util                1318698 non-null  float64       \n",
      " 20  last_fico_range_high      1319510 non-null  float64       \n",
      " 21  last_fico_range_low       1319510 non-null  float64       \n",
      " 22  acc_now_delinq            1319510 non-null  float64       \n",
      " 23  avg_cur_bal               1251964 non-null  float64       \n",
      " 24  chargeoff_within_12_mths  1319454 non-null  float64       \n",
      " 25  delinq_amnt               1319510 non-null  float64       \n",
      " 26  pub_rec_bankruptcies      1318813 non-null  float64       \n",
      " 27  tax_liens                 1319471 non-null  float64       \n",
      " 28  mort_acc                  1272229 non-null  float64       \n",
      " 29  credit_file_age           1319510 non-null  int64         \n",
      "dtypes: datetime64[ns](1), float64(23), int64(3), object(3)\n",
      "memory usage: 344.3+ MB\n"
     ]
    }
   ],
   "source": [
    "loan.info()"
   ]
  },
  {
   "cell_type": "code",
   "execution_count": 18,
   "id": "3eb3ce73-472e-45c7-aa5a-c3c4251d89ed",
   "metadata": {},
   "outputs": [],
   "source": [
    "emp_length_dict = {\n",
    "    '< 1 year' : '<1 year',\n",
    "    '1 year'   : '1-5 years',\n",
    "    '2 years'  : '1-5 years',\n",
    "    '3 years'  : '1-5 years',\n",
    "    '4 years'  : '1-5 years',\n",
    "    '5 years'  : '1-5 years',\n",
    "    '6 years'  : '5-10 years',\n",
    "    '7 years'  : '5-10 years',\n",
    "    '8 years'  : '5-10 years',\n",
    "    '9 years'  : '5-10 years',\n",
    "    '10+ years': '10+ years',\n",
    "    np.nan     : 'N/A'\n",
    "}\n",
    "\n",
    "loan.emp_length = loan.emp_length.map(emp_length_dict)"
   ]
  },
  {
   "cell_type": "code",
   "execution_count": null,
   "id": "d273a00e-f560-4d12-9958-0adc9fe71774",
   "metadata": {},
   "outputs": [],
   "source": [
    "loan.purpose.value_counts(dropna = False)"
   ]
  },
  {
   "cell_type": "code",
   "execution_count": 85,
   "id": "07428d34-14c7-4c24-814e-d8336d987e04",
   "metadata": {},
   "outputs": [
    {
     "data": {
      "text/html": [
       "<div>\n",
       "<style scoped>\n",
       "    .dataframe tbody tr th:only-of-type {\n",
       "        vertical-align: middle;\n",
       "    }\n",
       "\n",
       "    .dataframe tbody tr th {\n",
       "        vertical-align: top;\n",
       "    }\n",
       "\n",
       "    .dataframe thead th {\n",
       "        text-align: right;\n",
       "    }\n",
       "</style>\n",
       "<table border=\"1\" class=\"dataframe\">\n",
       "  <thead>\n",
       "    <tr style=\"text-align: right;\">\n",
       "      <th></th>\n",
       "      <th>last_fico_range_high</th>\n",
       "      <th>last_fico_range_low</th>\n",
       "    </tr>\n",
       "  </thead>\n",
       "  <tbody>\n",
       "    <tr>\n",
       "      <th>0</th>\n",
       "      <td>564.0</td>\n",
       "      <td>560.0</td>\n",
       "    </tr>\n",
       "    <tr>\n",
       "      <th>1</th>\n",
       "      <td>699.0</td>\n",
       "      <td>695.0</td>\n",
       "    </tr>\n",
       "    <tr>\n",
       "      <th>4</th>\n",
       "      <td>704.0</td>\n",
       "      <td>700.0</td>\n",
       "    </tr>\n",
       "    <tr>\n",
       "      <th>5</th>\n",
       "      <td>759.0</td>\n",
       "      <td>755.0</td>\n",
       "    </tr>\n",
       "    <tr>\n",
       "      <th>6</th>\n",
       "      <td>654.0</td>\n",
       "      <td>650.0</td>\n",
       "    </tr>\n",
       "    <tr>\n",
       "      <th>...</th>\n",
       "      <td>...</td>\n",
       "      <td>...</td>\n",
       "    </tr>\n",
       "    <tr>\n",
       "      <th>2260688</th>\n",
       "      <td>709.0</td>\n",
       "      <td>705.0</td>\n",
       "    </tr>\n",
       "    <tr>\n",
       "      <th>2260690</th>\n",
       "      <td>719.0</td>\n",
       "      <td>715.0</td>\n",
       "    </tr>\n",
       "    <tr>\n",
       "      <th>2260691</th>\n",
       "      <td>499.0</td>\n",
       "      <td>0.0</td>\n",
       "    </tr>\n",
       "    <tr>\n",
       "      <th>2260692</th>\n",
       "      <td>684.0</td>\n",
       "      <td>680.0</td>\n",
       "    </tr>\n",
       "    <tr>\n",
       "      <th>2260697</th>\n",
       "      <td>594.0</td>\n",
       "      <td>590.0</td>\n",
       "    </tr>\n",
       "  </tbody>\n",
       "</table>\n",
       "<p>1319510 rows × 2 columns</p>\n",
       "</div>"
      ],
      "text/plain": [
       "         last_fico_range_high  last_fico_range_low\n",
       "0                       564.0                560.0\n",
       "1                       699.0                695.0\n",
       "4                       704.0                700.0\n",
       "5                       759.0                755.0\n",
       "6                       654.0                650.0\n",
       "...                       ...                  ...\n",
       "2260688                 709.0                705.0\n",
       "2260690                 719.0                715.0\n",
       "2260691                 499.0                  0.0\n",
       "2260692                 684.0                680.0\n",
       "2260697                 594.0                590.0\n",
       "\n",
       "[1319510 rows x 2 columns]"
      ]
     },
     "execution_count": 85,
     "metadata": {},
     "output_type": "execute_result"
    }
   ],
   "source": [
    "loan[['last_fico_range_high', 'last_fico_range_low']]"
   ]
  },
  {
   "cell_type": "code",
   "execution_count": 87,
   "id": "59eb0533-2d11-412d-8899-4768e1eb9c49",
   "metadata": {},
   "outputs": [],
   "source": [
    "loan['fico'] = loan[['last_fico_range_high', 'last_fico_range_low']].mean(axis = 1)"
   ]
  },
  {
   "cell_type": "code",
   "execution_count": 89,
   "id": "3a7a9cc6-f2d0-44fa-8f2e-4f17ed57e60a",
   "metadata": {},
   "outputs": [
    {
     "data": {
      "text/html": [
       "<div>\n",
       "<style scoped>\n",
       "    .dataframe tbody tr th:only-of-type {\n",
       "        vertical-align: middle;\n",
       "    }\n",
       "\n",
       "    .dataframe tbody tr th {\n",
       "        vertical-align: top;\n",
       "    }\n",
       "\n",
       "    .dataframe thead th {\n",
       "        text-align: right;\n",
       "    }\n",
       "</style>\n",
       "<table border=\"1\" class=\"dataframe\">\n",
       "  <thead>\n",
       "    <tr style=\"text-align: right;\">\n",
       "      <th></th>\n",
       "      <th>fico</th>\n",
       "      <th>last_fico_range_high</th>\n",
       "      <th>last_fico_range_low</th>\n",
       "    </tr>\n",
       "  </thead>\n",
       "  <tbody>\n",
       "    <tr>\n",
       "      <th>0</th>\n",
       "      <td>562.0</td>\n",
       "      <td>564.0</td>\n",
       "      <td>560.0</td>\n",
       "    </tr>\n",
       "    <tr>\n",
       "      <th>1</th>\n",
       "      <td>697.0</td>\n",
       "      <td>699.0</td>\n",
       "      <td>695.0</td>\n",
       "    </tr>\n",
       "    <tr>\n",
       "      <th>4</th>\n",
       "      <td>702.0</td>\n",
       "      <td>704.0</td>\n",
       "      <td>700.0</td>\n",
       "    </tr>\n",
       "    <tr>\n",
       "      <th>5</th>\n",
       "      <td>757.0</td>\n",
       "      <td>759.0</td>\n",
       "      <td>755.0</td>\n",
       "    </tr>\n",
       "    <tr>\n",
       "      <th>6</th>\n",
       "      <td>652.0</td>\n",
       "      <td>654.0</td>\n",
       "      <td>650.0</td>\n",
       "    </tr>\n",
       "    <tr>\n",
       "      <th>...</th>\n",
       "      <td>...</td>\n",
       "      <td>...</td>\n",
       "      <td>...</td>\n",
       "    </tr>\n",
       "    <tr>\n",
       "      <th>2260688</th>\n",
       "      <td>707.0</td>\n",
       "      <td>709.0</td>\n",
       "      <td>705.0</td>\n",
       "    </tr>\n",
       "    <tr>\n",
       "      <th>2260690</th>\n",
       "      <td>717.0</td>\n",
       "      <td>719.0</td>\n",
       "      <td>715.0</td>\n",
       "    </tr>\n",
       "    <tr>\n",
       "      <th>2260691</th>\n",
       "      <td>249.5</td>\n",
       "      <td>499.0</td>\n",
       "      <td>0.0</td>\n",
       "    </tr>\n",
       "    <tr>\n",
       "      <th>2260692</th>\n",
       "      <td>682.0</td>\n",
       "      <td>684.0</td>\n",
       "      <td>680.0</td>\n",
       "    </tr>\n",
       "    <tr>\n",
       "      <th>2260697</th>\n",
       "      <td>592.0</td>\n",
       "      <td>594.0</td>\n",
       "      <td>590.0</td>\n",
       "    </tr>\n",
       "  </tbody>\n",
       "</table>\n",
       "<p>1319510 rows × 3 columns</p>\n",
       "</div>"
      ],
      "text/plain": [
       "          fico  last_fico_range_high  last_fico_range_low\n",
       "0        562.0                 564.0                560.0\n",
       "1        697.0                 699.0                695.0\n",
       "4        702.0                 704.0                700.0\n",
       "5        757.0                 759.0                755.0\n",
       "6        652.0                 654.0                650.0\n",
       "...        ...                   ...                  ...\n",
       "2260688  707.0                 709.0                705.0\n",
       "2260690  717.0                 719.0                715.0\n",
       "2260691  249.5                 499.0                  0.0\n",
       "2260692  682.0                 684.0                680.0\n",
       "2260697  592.0                 594.0                590.0\n",
       "\n",
       "[1319510 rows x 3 columns]"
      ]
     },
     "execution_count": 89,
     "metadata": {},
     "output_type": "execute_result"
    }
   ],
   "source": [
    "loan[['fico', 'last_fico_range_high', 'last_fico_range_low']]"
   ]
  },
  {
   "cell_type": "markdown",
   "id": "6dbc9710-ea94-4956-8420-9a26aa5cbab5",
   "metadata": {},
   "source": [
    "#### Missing Values"
   ]
  },
  {
   "cell_type": "code",
   "execution_count": 91,
   "id": "837a76db-2822-42a6-9d86-0db9e82cc7ec",
   "metadata": {},
   "outputs": [
    {
     "name": "stdout",
     "output_type": "stream",
     "text": [
      "FEATURE NAME:\n",
      "inq_last_6mths\n",
      "NULL VALUE COUNT:\n",
      "1\n",
      "PERCENT OF ALL VALUES:\n",
      "7.578570833112292e-07\n",
      "~~~~~~~~~~~~~~~~~~~\n",
      "FEATURE NAME:\n",
      "revol_util\n",
      "NULL VALUE COUNT:\n",
      "812\n",
      "PERCENT OF ALL VALUES:\n",
      "0.000615379951648718\n",
      "~~~~~~~~~~~~~~~~~~~\n",
      "FEATURE NAME:\n",
      "avg_cur_bal\n",
      "NULL VALUE COUNT:\n",
      "67546\n",
      "PERCENT OF ALL VALUES:\n",
      "0.051190214549340286\n",
      "~~~~~~~~~~~~~~~~~~~\n",
      "FEATURE NAME:\n",
      "chargeoff_within_12_mths\n",
      "NULL VALUE COUNT:\n",
      "56\n",
      "PERCENT OF ALL VALUES:\n",
      "4.2439996665428835e-05\n",
      "~~~~~~~~~~~~~~~~~~~\n",
      "FEATURE NAME:\n",
      "pub_rec_bankruptcies\n",
      "NULL VALUE COUNT:\n",
      "697\n",
      "PERCENT OF ALL VALUES:\n",
      "0.0005282263870679268\n",
      "~~~~~~~~~~~~~~~~~~~\n",
      "FEATURE NAME:\n",
      "tax_liens\n",
      "NULL VALUE COUNT:\n",
      "39\n",
      "PERCENT OF ALL VALUES:\n",
      "2.9556426249137938e-05\n",
      "~~~~~~~~~~~~~~~~~~~\n",
      "FEATURE NAME:\n",
      "mort_acc\n",
      "NULL VALUE COUNT:\n",
      "47281\n",
      "PERCENT OF ALL VALUES:\n",
      "0.035832240756038226\n",
      "~~~~~~~~~~~~~~~~~~~\n"
     ]
    }
   ],
   "source": [
    "null_count = []\n",
    "for columns in loan.columns[0:100]:\n",
    "    if loan[columns].isna().sum() != 0:\n",
    "        print('FEATURE NAME:')\n",
    "        print(columns)\n",
    "        print('NULL VALUE COUNT:')\n",
    "        print(loan[columns].isna().sum())\n",
    "        print('PERCENT OF ALL VALUES:')\n",
    "        print(loan[columns].isna().sum() / len(loan[columns]))\n",
    "        print('~~~~~~~~~~~~~~~~~~~')\n",
    "        null_count.append([columns, loan[columns].isna().sum(), loan[columns].isnull().mean()])\n",
    "null_values = pd.DataFrame(null_count, columns = ['Feature', 'Null Value Count', 'Percentage of Data'])"
   ]
  },
  {
   "cell_type": "code",
   "execution_count": 95,
   "id": "26c42d6d-5740-48f5-8969-a444e85cfd18",
   "metadata": {},
   "outputs": [
    {
     "data": {
      "text/plain": [
       "0.0    753705\n",
       "1.0    360217\n",
       "2.0    134758\n",
       "3.0     51150\n",
       "4.0     13796\n",
       "5.0      4872\n",
       "6.0       941\n",
       "7.0        48\n",
       "8.0        22\n",
       "NaN         1\n",
       "Name: inq_last_6mths, dtype: int64"
      ]
     },
     "execution_count": 95,
     "metadata": {},
     "output_type": "execute_result"
    }
   ],
   "source": [
    "loan['inq_last_6mths'].value_counts(dropna = False)"
   ]
  },
  {
   "cell_type": "code",
   "execution_count": 96,
   "id": "6497c7eb-2871-45ab-aa9b-d3717ca0d5e9",
   "metadata": {},
   "outputs": [
    {
     "data": {
      "text/html": [
       "<div>\n",
       "<style scoped>\n",
       "    .dataframe tbody tr th:only-of-type {\n",
       "        vertical-align: middle;\n",
       "    }\n",
       "\n",
       "    .dataframe tbody tr th {\n",
       "        vertical-align: top;\n",
       "    }\n",
       "\n",
       "    .dataframe thead th {\n",
       "        text-align: right;\n",
       "    }\n",
       "</style>\n",
       "<table border=\"1\" class=\"dataframe\">\n",
       "  <thead>\n",
       "    <tr style=\"text-align: right;\">\n",
       "      <th></th>\n",
       "      <th>loan_amnt</th>\n",
       "      <th>term</th>\n",
       "      <th>int_rate</th>\n",
       "      <th>installment</th>\n",
       "      <th>emp_length</th>\n",
       "      <th>home_ownership</th>\n",
       "      <th>annual_inc</th>\n",
       "      <th>issue_d</th>\n",
       "      <th>loan_status</th>\n",
       "      <th>purpose</th>\n",
       "      <th>...</th>\n",
       "      <th>last_fico_range_low</th>\n",
       "      <th>acc_now_delinq</th>\n",
       "      <th>avg_cur_bal</th>\n",
       "      <th>chargeoff_within_12_mths</th>\n",
       "      <th>delinq_amnt</th>\n",
       "      <th>pub_rec_bankruptcies</th>\n",
       "      <th>tax_liens</th>\n",
       "      <th>mort_acc</th>\n",
       "      <th>credit_file_age</th>\n",
       "      <th>fico</th>\n",
       "    </tr>\n",
       "  </thead>\n",
       "  <tbody>\n",
       "    <tr>\n",
       "      <th>1099335</th>\n",
       "      <td>35000.0</td>\n",
       "      <td>1</td>\n",
       "      <td>9.8</td>\n",
       "      <td>740.21</td>\n",
       "      <td>10+ years</td>\n",
       "      <td>MORTGAGE</td>\n",
       "      <td>110000.0</td>\n",
       "      <td>2016-01-01</td>\n",
       "      <td>0</td>\n",
       "      <td>debt_consolidation</td>\n",
       "      <td>...</td>\n",
       "      <td>805.0</td>\n",
       "      <td>0.0</td>\n",
       "      <td>23547.0</td>\n",
       "      <td>0.0</td>\n",
       "      <td>0.0</td>\n",
       "      <td>0.0</td>\n",
       "      <td>0.0</td>\n",
       "      <td>4.0</td>\n",
       "      <td>22</td>\n",
       "      <td>807.0</td>\n",
       "    </tr>\n",
       "  </tbody>\n",
       "</table>\n",
       "<p>1 rows × 31 columns</p>\n",
       "</div>"
      ],
      "text/plain": [
       "         loan_amnt  term  int_rate  installment emp_length home_ownership  \\\n",
       "1099335    35000.0     1       9.8       740.21  10+ years       MORTGAGE   \n",
       "\n",
       "         annual_inc    issue_d  loan_status             purpose  ...  \\\n",
       "1099335    110000.0 2016-01-01            0  debt_consolidation  ...   \n",
       "\n",
       "         last_fico_range_low  acc_now_delinq  avg_cur_bal  \\\n",
       "1099335                805.0             0.0      23547.0   \n",
       "\n",
       "         chargeoff_within_12_mths  delinq_amnt  pub_rec_bankruptcies  \\\n",
       "1099335                       0.0          0.0                   0.0   \n",
       "\n",
       "         tax_liens  mort_acc  credit_file_age   fico  \n",
       "1099335        0.0       4.0               22  807.0  \n",
       "\n",
       "[1 rows x 31 columns]"
      ]
     },
     "execution_count": 96,
     "metadata": {},
     "output_type": "execute_result"
    }
   ],
   "source": [
    "loan[loan['inq_last_6mths'].isnull()]"
   ]
  },
  {
   "cell_type": "code",
   "execution_count": null,
   "id": "8493c55b-b02a-4b4f-9999-280a1e5befc0",
   "metadata": {},
   "outputs": [],
   "source": [
    "#null_values.sort_values('Null Value Count', ascending = False).head(50)"
   ]
  },
  {
   "cell_type": "code",
   "execution_count": null,
   "id": "c3fef05e-03f3-4ccc-8ecb-9d742dabde70",
   "metadata": {},
   "outputs": [],
   "source": [
    "#null_values.sort_values('Null Value Count', ascending = False).tail(26)"
   ]
  },
  {
   "cell_type": "code",
   "execution_count": null,
   "id": "55e70537-d2dc-4c9f-8276-a384a886320d",
   "metadata": {},
   "outputs": [],
   "source": [
    "#bad_cols = loan.columns[loan.isnull().mean() > 0.5]"
   ]
  },
  {
   "cell_type": "code",
   "execution_count": null,
   "id": "473105d8-8a6e-4ac1-859c-e89e699ea267",
   "metadata": {},
   "outputs": [],
   "source": [
    "#loan.drop(columns = bad_cols, inplace = True)"
   ]
  },
  {
   "cell_type": "markdown",
   "id": "ae64bc87-4d84-4716-84d8-5cc9729a5bfe",
   "metadata": {},
   "source": [
    "Dealing with null values:\n",
    "- Possibly remove missing values (not recommended)\n",
    "- Impute null with median\n",
    "- Longer: Find relationship between features that share similar number of null values to see if there is a pattern and determine what can be imputed to reflect accurate info from participant (we can see this for number of accounts so it does not appear to be completely at random..just a guess)\n",
    "- Checking correlation between features to drop ones that are experiencing severe multicollinearity"
   ]
  },
  {
   "cell_type": "code",
   "execution_count": null,
   "id": "62e1863b-46d8-4430-91e2-730bd886213f",
   "metadata": {},
   "outputs": [],
   "source": [
    "loan.reset_index(drop = True)"
   ]
  },
  {
   "cell_type": "code",
   "execution_count": null,
   "id": "3b6493fe-43dc-4655-921e-ab98957af2ec",
   "metadata": {},
   "outputs": [],
   "source": [
    "loan['application_type'].value_counts(dropna = False)"
   ]
  },
  {
   "cell_type": "code",
   "execution_count": null,
   "id": "8bbfee88-2e31-46b8-bf53-46c595cf2d8d",
   "metadata": {},
   "outputs": [],
   "source": [
    "for c in loan.columns:\n",
    "    if loan[c].dtype == 'object':\n",
    "        print(c)\n",
    "        print(loan[c].isna().sum())"
   ]
  },
  {
   "cell_type": "code",
   "execution_count": null,
   "id": "f4b986dd-0aac-44a7-9d49-bc77d9f1fc41",
   "metadata": {},
   "outputs": [],
   "source": [
    "loan"
   ]
  },
  {
   "cell_type": "code",
   "execution_count": null,
   "id": "c48ea23d-c314-4030-bd21-0166228deb63",
   "metadata": {},
   "outputs": [],
   "source": [
    "loan['loan_status'].mean()"
   ]
  },
  {
   "cell_type": "markdown",
   "id": "0623b8ae-cb9a-4015-9b94-bd684bfa5004",
   "metadata": {},
   "source": [
    "Loan grade is the specific grade assigned by Lending Club. We would want to remove this from our model since it does not meet our requirements for the feature. We want to build a model that takes in information that is known when the borrower applies and including Lending Club's rating of a loan application would only hurt our model. It would include Lending Club's own rating of a loan based on the loan information. For now we can leave it out and possibly compare it to our own model. "
   ]
  },
  {
   "cell_type": "code",
   "execution_count": null,
   "id": "d703beba-e56a-418b-a39d-f4ef4afc0925",
   "metadata": {},
   "outputs": [],
   "source": [
    "loan.term.value_counts(dropna = False)"
   ]
  },
  {
   "cell_type": "code",
   "execution_count": null,
   "id": "e884a4d7-deed-4648-a4e5-056ec04fd8ff",
   "metadata": {},
   "outputs": [],
   "source": [
    "#loan.drop(columns = ['emp_title'], inplace = True)"
   ]
  },
  {
   "cell_type": "code",
   "execution_count": null,
   "id": "ac534ec2-5adb-447b-a0dc-64e0591ddb6e",
   "metadata": {},
   "outputs": [],
   "source": [
    "for c in loan.columns:\n",
    "    if loan[c].dtype == 'object':\n",
    "        print(c)"
   ]
  },
  {
   "cell_type": "code",
   "execution_count": null,
   "id": "2337a767-8a19-4e12-9fad-f43d2617ace6",
   "metadata": {
    "tags": []
   },
   "outputs": [],
   "source": [
    "loan.emp_length.value_counts(dropna = False, normalize = True)"
   ]
  },
  {
   "cell_type": "markdown",
   "id": "fa2174cd-6981-4c29-97d1-8b8a8982b50a",
   "metadata": {},
   "source": [
    "To "
   ]
  },
  {
   "cell_type": "code",
   "execution_count": null,
   "id": "74837e82-7514-49ce-8683-5aece62b8ec3",
   "metadata": {},
   "outputs": [],
   "source": [
    "emp_length_dict = {\n",
    "    '< 1 year' : '<1 year',\n",
    "    '1 year'   : '1-5 years',\n",
    "    '2 years'  : '1-5 years',\n",
    "    '3 years'  : '1-5 years',\n",
    "    '4 years'  : '1-5 years',\n",
    "    '5 years'  : '1-5 years',\n",
    "    '6 years'  : '5-10 years',\n",
    "    '7 years'  : '5-10 years',\n",
    "    '8 years'  : '5-10 years',\n",
    "    '9 years'  : '5-10 years',\n",
    "    '10+ years': '10+ years',\n",
    "}"
   ]
  },
  {
   "cell_type": "code",
   "execution_count": null,
   "id": "5b6e891f-f61f-489c-b64d-48d727a0ba03",
   "metadata": {},
   "outputs": [],
   "source": [
    "loan.emp_length = loan.emp_length.map(emp_length_dict)"
   ]
  },
  {
   "cell_type": "code",
   "execution_count": null,
   "id": "981653b3-5b91-4deb-bfa1-c31e1f2f05c6",
   "metadata": {},
   "outputs": [],
   "source": [
    "loan.emp_length.value_counts(dropna = False, normalize = True)"
   ]
  },
  {
   "cell_type": "code",
   "execution_count": null,
   "id": "9b9fd159-9516-4920-882e-00c4b7f708a2",
   "metadata": {},
   "outputs": [],
   "source": [
    "not_employed = len(loan[loan.emp_title.isnull()])"
   ]
  },
  {
   "cell_type": "code",
   "execution_count": null,
   "id": "fa49808c-5c77-46a7-bc59-0d928c984fc4",
   "metadata": {},
   "outputs": [],
   "source": [
    "not_employed"
   ]
  },
  {
   "cell_type": "code",
   "execution_count": null,
   "id": "3ecf3bdc-d0d6-41f7-83eb-c20af738e593",
   "metadata": {},
   "outputs": [],
   "source": [
    "loan[loan.emp_title.isnull()].groupby('emp_length')['emp_length'].count().sort_values() / not_employed"
   ]
  },
  {
   "cell_type": "markdown",
   "id": "139a7469-9eef-4dd9-9486-fc26cfb0cbee",
   "metadata": {},
   "source": [
    "We can see that for those that have no employment title provided also happen to be ~90% of those that reported no employment length. This may show that those with no employment length are never employed, self-employed, students or possibly retired. Due to this, we will keep these values of 'n/a' in employment length as their own category. We will be dropping the emp_title column due to the high number of unique titles (371,436)."
   ]
  },
  {
   "cell_type": "code",
   "execution_count": null,
   "id": "9b6d9cda-3c57-4b77-aac9-595db978412b",
   "metadata": {},
   "outputs": [],
   "source": [
    "len(loan.emp_title.unique())"
   ]
  },
  {
   "cell_type": "code",
   "execution_count": null,
   "id": "2c3e1008-3a4f-45c2-8327-e890da7b5fac",
   "metadata": {},
   "outputs": [],
   "source": [
    "loan.info()"
   ]
  },
  {
   "cell_type": "code",
   "execution_count": null,
   "id": "53ccfe1f-ad4b-4846-8699-86ffe5414697",
   "metadata": {},
   "outputs": [],
   "source": [
    "loan[['fico_range_high', 'fico_range_low']]"
   ]
  },
  {
   "cell_type": "code",
   "execution_count": null,
   "id": "f36b75af-6231-45c6-a711-35b103b276ea",
   "metadata": {},
   "outputs": [],
   "source": [
    "loan['emp_length'].sort_values()"
   ]
  },
  {
   "cell_type": "code",
   "execution_count": null,
   "id": "fd8be839-8293-4631-87b7-91432909daa1",
   "metadata": {},
   "outputs": [],
   "source": [
    "loan.home_ownership.value_counts(dropna = False)"
   ]
  },
  {
   "cell_type": "code",
   "execution_count": null,
   "id": "ed28638f-03b7-419e-8206-2ae7bb352865",
   "metadata": {},
   "outputs": [],
   "source": [
    "for c in loan.columns:\n",
    "    if loan[c].dtype == 'object':\n",
    "        print(c)"
   ]
  },
  {
   "cell_type": "code",
   "execution_count": null,
   "id": "55fb5156-8894-4412-928e-1013194bda1c",
   "metadata": {},
   "outputs": [],
   "source": [
    "plt.hist(loan.loan_amnt, bins = 10)\n",
    "plt.axvline(np.mean(loan.loan_amnt), color = 'red')\n",
    "plt.xlabel('Loan Amount in USD')\n",
    "plt.ylabel('Values')\n",
    "plt.title('Distribution of Loan Amount');"
   ]
  },
  {
   "cell_type": "code",
   "execution_count": null,
   "id": "906bb4ff-5c75-4d2a-b2c9-1422698104fd",
   "metadata": {},
   "outputs": [],
   "source": [
    "plt.hist(loan.int_rate, bins = 15)\n",
    "plt.axvline(np.mean(loan.int_rate), color = 'red')\n",
    "plt.xlabel('Interest Rate')\n",
    "plt.ylabel('Values')\n",
    "plt.title('Distribution of Interest Rate');"
   ]
  },
  {
   "cell_type": "code",
   "execution_count": null,
   "id": "52c724dd-e391-471a-8234-1432e40a4e35",
   "metadata": {},
   "outputs": [],
   "source": [
    "plt.hist(loan.installment, bins = 15)\n",
    "plt.axvline(np.mean(loan.installment), color = 'red')\n",
    "plt.xlabel('Payment Installment Size')\n",
    "plt.title('Distribution of Installment Size');"
   ]
  },
  {
   "cell_type": "code",
   "execution_count": null,
   "id": "2c7998e5-72a3-4ae0-9d06-f42c383d0798",
   "metadata": {},
   "outputs": [],
   "source": [
    "plt.hist(loan.annual_inc, bins = 2000)\n",
    "plt.axvline(np.mean(loan.annual_inc), color = 'red')\n",
    "plt.ticklabel_format(style='plain', axis='x',useOffset=False)\n",
    "plt.xlabel('Annual Income in USD')\n",
    "plt.ylabel('Values')\n",
    "plt.title('Distribution of Annual Income');"
   ]
  },
  {
   "cell_type": "code",
   "execution_count": null,
   "id": "9afaaf5e-2455-4499-9090-86f874d71ac9",
   "metadata": {},
   "outputs": [],
   "source": [
    "log_annual = np.log(loan.annual_inc)"
   ]
  },
  {
   "cell_type": "code",
   "execution_count": null,
   "id": "dc086a8d-b86b-486c-a4d9-63e515fa8f07",
   "metadata": {},
   "outputs": [],
   "source": [
    "loan[loan.annual_inc == 0.0]["
   ]
  },
  {
   "cell_type": "code",
   "execution_count": null,
   "id": "650700fd-aa08-4606-a850-307346a4a5b4",
   "metadata": {},
   "outputs": [],
   "source": [
    "plt.hist(log_annual)\n",
    "plt.axvline(np.log(np.mean(loan.annual_inc)), color = 'red')\n",
    "plt.ticklabel_format(style='plain', axis='x',useOffset=False)\n",
    "plt.xlabel('Annual Income in USD')\n",
    "plt.ylabel('Values')\n",
    "plt.title('Distribution of Annual Income');"
   ]
  },
  {
   "cell_type": "code",
   "execution_count": null,
   "id": "57d97dd5-76f6-47fe-a94c-dc9477afddf5",
   "metadata": {},
   "outputs": [],
   "source": [
    "sns.catplot(x = 'loan_status', kind = 'count', data = loan)\n",
    "plt.ticklabel_format(style='plain', axis='y',useOffset=False)\n",
    "plt.title('Loan Status Breakdown')\n",
    "plt.xlabel('Loan Status');"
   ]
  },
  {
   "cell_type": "markdown",
   "id": "2a041e32-0a5b-4fc3-9645-c84f038ea970",
   "metadata": {},
   "source": [
    "Large class imbalance we can see with our dependent variable. Loans that charged-off amount to 261,655 and loans that were fully paid amount to 1,041,952. In simple terms, there are ~4 times as many examples of loans that were fully paid off. Due to the class imbalance, we probably would not use our accuracy score considering if we guessed for all the loans to be fully paid off, we would be accurate at 79.93%. With that, we will use the precision-recall AUC score as it evaluates the faction of true positives among positive predictions."
   ]
  },
  {
   "cell_type": "code",
   "execution_count": null,
   "id": "40473255-5794-46db-8892-01a90cf2e651",
   "metadata": {},
   "outputs": [],
   "source": [
    "1041952/261655"
   ]
  },
  {
   "cell_type": "code",
   "execution_count": null,
   "id": "38b5bd71-d687-43d7-9d34-eba4092b6ef9",
   "metadata": {},
   "outputs": [],
   "source": [
    "loan.describe().T.head(30)"
   ]
  },
  {
   "cell_type": "markdown",
   "id": "f3daff31-6167-487b-9f70-03a29c0fe433",
   "metadata": {},
   "source": [
    "### Models:\n",
    "- Log Reg, tune for regularization\n",
    "- Random Forest Classifier, bagging, diverse set of potential trees to be built\n",
    "- KNN\n",
    "- Naive Bayes(?) - independence of features, need to deal with multicoll.\n",
    "- SVM\n",
    "- Deep Neural Network"
   ]
  },
  {
   "cell_type": "code",
   "execution_count": null,
   "id": "5ace91b4-da90-4229-9be0-4ecf6fa49dc2",
   "metadata": {},
   "outputs": [],
   "source": []
  }
 ],
 "metadata": {
  "kernelspec": {
   "display_name": "Python 3",
   "language": "python",
   "name": "python3"
  },
  "language_info": {
   "codemirror_mode": {
    "name": "ipython",
    "version": 3
   },
   "file_extension": ".py",
   "mimetype": "text/x-python",
   "name": "python",
   "nbconvert_exporter": "python",
   "pygments_lexer": "ipython3",
   "version": "3.8.11"
  }
 },
 "nbformat": 4,
 "nbformat_minor": 5
}
