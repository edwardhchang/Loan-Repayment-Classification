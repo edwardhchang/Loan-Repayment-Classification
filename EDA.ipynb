{
 "cells": [
  {
   "cell_type": "markdown",
   "id": "6c2346c7-9489-4cfb-8bc9-a7fb600e4787",
   "metadata": {
    "tags": []
   },
   "source": [
    "## Problem Statement:\n",
    "\n",
    "Loans provide the opportunity to link up lenders with those in need of capital. The investors make profit due to interest tacked onto the loan. However, not all loans see their principal paid until the end, and when the loan is not paid-in-full (PIF) then the loan is charged-off. When this occurs, the lender loses money and due to the chance of charge-off when it comes to personal loans, it is imperative that the platforms providing this link between lenders and borrowers have a risk model to mitigate potential charge-off based on borrower information. This study aims to train several machine learning models to classify if a borrower will repay the loan or potentially charge-off using Lending Tree data from 2007 - 2015. The guiding metric will be the area under the ROC curve (AUC), specifically the precision-recall AUC score. \n",
    "    "
   ]
  },
  {
   "cell_type": "markdown",
   "id": "715b54c9-05b4-4d8f-88b5-550992ebe443",
   "metadata": {},
   "source": [
    "Minimizes costs spent in collection efforts as well as legal fees. Attract investors as they will have peace of mind that their money is not at risk when it is in the hands of a lending platform such as Lending Club. With the ability to discern if a borrower will Lenders can use different methods to assess the level of credit risk of a potential borrower in order to mitigate losses and avoid delayed payments, such as having higher interest loans as a way to mitigate against high risk loans. "
   ]
  },
  {
   "cell_type": "markdown",
   "id": "6ec6377c-671d-49ac-92c6-505ada9bdc7c",
   "metadata": {},
   "source": [
    "Possible Risks and Assumptions:\n",
    "\n",
    "- Data comes from Kaggle and is application data, there can be missing data at random\n",
    "- Both linear and non-linear relationships between variables which we can address in models\n",
    "- Multicollinearity in our dependent variables due to many of them being credit-related (card utilization, accounts present)\n",
    "- Data is coming from Lending Club which may have a certain limitation of scope, mainly personal loans capped at 40_000 which doesn't reflect all types of loans and loan amounts\n",
    "- We would assume our observations/specific loan data are independent (can check to see if there are renewal loans...perhaps shared ID)"
   ]
  },
  {
   "cell_type": "markdown",
   "id": "a22fa6b5-17a2-4d2c-a2f1-c6908e1c02b1",
   "metadata": {},
   "source": [
    "## Data Imports and Cleaning"
   ]
  },
  {
   "cell_type": "code",
   "execution_count": 115,
   "id": "eae41a3b-0480-4c9a-ab63-0891d28fc483",
   "metadata": {},
   "outputs": [],
   "source": [
    "import pandas as pd\n",
    "import numpy as np\n",
    "import matplotlib.pyplot as plt\n",
    "import seaborn as sns\n",
    "\n",
    "%matplotlib inline"
   ]
  },
  {
   "cell_type": "code",
   "execution_count": 134,
   "id": "79db85b4-124a-45f7-8d02-481c90b39583",
   "metadata": {},
   "outputs": [
    {
     "name": "stderr",
     "output_type": "stream",
     "text": [
      "C:\\Users\\eddie\\anaconda3\\lib\\site-packages\\IPython\\core\\interactiveshell.py:3441: DtypeWarning: Columns (0,19,49,59,118,129,130,131,134,135,136,139,145,146,147) have mixed types.Specify dtype option on import or set low_memory=False.\n",
      "  exec(code_obj, self.user_global_ns, self.user_ns)\n"
     ]
    }
   ],
   "source": [
    "# Reading in our data from Kaggle, all accepted loans from 2007 to 2018 Q4\n",
    "loan = pd.read_csv('./data/accepted_2007_to_2018Q4.csv')"
   ]
  },
  {
   "cell_type": "markdown",
   "id": "337aaa3f-ac40-49c0-8b69-eeb6ccdb8bbc",
   "metadata": {},
   "source": [
    "We are reducing the number of features to those that will be present to an investor when presented with a loan application. This would include information such as the loan amount, term of the loan, interest rate, debt-to-income ratio, FICO score, and basic credit history. There were multiple features in the original data set for secondary applicants as there were loans for joint applications. For this study, we will solely model using individual loans "
   ]
  },
  {
   "cell_type": "code",
   "execution_count": 135,
   "id": "89a1ee5f-5df9-4604-9caf-d7a3c9a683d8",
   "metadata": {},
   "outputs": [],
   "source": [
    "\n",
    "col_list = ['loan_amnt', 'term', 'int_rate', 'installment',\n",
    "       'emp_length', 'home_ownership', 'annual_inc', 'issue_d', 'loan_status',\n",
    "       'purpose', 'addr_state', 'dti', 'delinq_2yrs', 'fico_range_low',\n",
    "       'fico_range_high', 'inq_last_6mths', 'open_acc', 'total_acc', 'pub_rec', 'revol_bal', 'earliest_cr_line',\n",
    "       'revol_util', 'last_fico_range_high',\n",
    "       'last_fico_range_low', 'application_type', 'acc_now_delinq',\n",
    "       'avg_cur_bal', 'chargeoff_within_12_mths', 'delinq_amnt',\n",
    "       'pub_rec_bankruptcies', 'tax_liens', 'mort_acc']"
   ]
  },
  {
   "cell_type": "code",
   "execution_count": 136,
   "id": "77f37349-684a-48b9-8e48-95cdbb9ee643",
   "metadata": {},
   "outputs": [],
   "source": [
    "loan = loan[col_list]"
   ]
  },
  {
   "cell_type": "code",
   "execution_count": 137,
   "id": "4c704db2-b7a2-4722-8117-fb9ca2b1ed13",
   "metadata": {},
   "outputs": [
    {
     "data": {
      "text/html": [
       "<div>\n",
       "<style scoped>\n",
       "    .dataframe tbody tr th:only-of-type {\n",
       "        vertical-align: middle;\n",
       "    }\n",
       "\n",
       "    .dataframe tbody tr th {\n",
       "        vertical-align: top;\n",
       "    }\n",
       "\n",
       "    .dataframe thead th {\n",
       "        text-align: right;\n",
       "    }\n",
       "</style>\n",
       "<table border=\"1\" class=\"dataframe\">\n",
       "  <thead>\n",
       "    <tr style=\"text-align: right;\">\n",
       "      <th></th>\n",
       "      <th>loan_amnt</th>\n",
       "      <th>term</th>\n",
       "      <th>int_rate</th>\n",
       "      <th>installment</th>\n",
       "      <th>grade</th>\n",
       "      <th>emp_title</th>\n",
       "      <th>emp_length</th>\n",
       "      <th>home_ownership</th>\n",
       "      <th>annual_inc</th>\n",
       "      <th>issue_d</th>\n",
       "      <th>...</th>\n",
       "      <th>last_fico_range_high</th>\n",
       "      <th>last_fico_range_low</th>\n",
       "      <th>application_type</th>\n",
       "      <th>acc_now_delinq</th>\n",
       "      <th>avg_cur_bal</th>\n",
       "      <th>chargeoff_within_12_mths</th>\n",
       "      <th>delinq_amnt</th>\n",
       "      <th>pub_rec_bankruptcies</th>\n",
       "      <th>tax_liens</th>\n",
       "      <th>mort_acc</th>\n",
       "    </tr>\n",
       "  </thead>\n",
       "  <tbody>\n",
       "    <tr>\n",
       "      <th>0</th>\n",
       "      <td>3600.0</td>\n",
       "      <td>36 months</td>\n",
       "      <td>13.99</td>\n",
       "      <td>123.03</td>\n",
       "      <td>C</td>\n",
       "      <td>leadman</td>\n",
       "      <td>10+ years</td>\n",
       "      <td>MORTGAGE</td>\n",
       "      <td>55000.0</td>\n",
       "      <td>Dec-2015</td>\n",
       "      <td>...</td>\n",
       "      <td>564.0</td>\n",
       "      <td>560.0</td>\n",
       "      <td>Individual</td>\n",
       "      <td>0.0</td>\n",
       "      <td>20701.0</td>\n",
       "      <td>0.0</td>\n",
       "      <td>0.0</td>\n",
       "      <td>0.0</td>\n",
       "      <td>0.0</td>\n",
       "      <td>1.0</td>\n",
       "    </tr>\n",
       "    <tr>\n",
       "      <th>1</th>\n",
       "      <td>24700.0</td>\n",
       "      <td>36 months</td>\n",
       "      <td>11.99</td>\n",
       "      <td>820.28</td>\n",
       "      <td>C</td>\n",
       "      <td>Engineer</td>\n",
       "      <td>10+ years</td>\n",
       "      <td>MORTGAGE</td>\n",
       "      <td>65000.0</td>\n",
       "      <td>Dec-2015</td>\n",
       "      <td>...</td>\n",
       "      <td>699.0</td>\n",
       "      <td>695.0</td>\n",
       "      <td>Individual</td>\n",
       "      <td>0.0</td>\n",
       "      <td>9733.0</td>\n",
       "      <td>0.0</td>\n",
       "      <td>0.0</td>\n",
       "      <td>0.0</td>\n",
       "      <td>0.0</td>\n",
       "      <td>4.0</td>\n",
       "    </tr>\n",
       "    <tr>\n",
       "      <th>2</th>\n",
       "      <td>20000.0</td>\n",
       "      <td>60 months</td>\n",
       "      <td>10.78</td>\n",
       "      <td>432.66</td>\n",
       "      <td>B</td>\n",
       "      <td>truck driver</td>\n",
       "      <td>10+ years</td>\n",
       "      <td>MORTGAGE</td>\n",
       "      <td>63000.0</td>\n",
       "      <td>Dec-2015</td>\n",
       "      <td>...</td>\n",
       "      <td>704.0</td>\n",
       "      <td>700.0</td>\n",
       "      <td>Joint App</td>\n",
       "      <td>0.0</td>\n",
       "      <td>31617.0</td>\n",
       "      <td>0.0</td>\n",
       "      <td>0.0</td>\n",
       "      <td>0.0</td>\n",
       "      <td>0.0</td>\n",
       "      <td>5.0</td>\n",
       "    </tr>\n",
       "    <tr>\n",
       "      <th>3</th>\n",
       "      <td>35000.0</td>\n",
       "      <td>60 months</td>\n",
       "      <td>14.85</td>\n",
       "      <td>829.90</td>\n",
       "      <td>C</td>\n",
       "      <td>Information Systems Officer</td>\n",
       "      <td>10+ years</td>\n",
       "      <td>MORTGAGE</td>\n",
       "      <td>110000.0</td>\n",
       "      <td>Dec-2015</td>\n",
       "      <td>...</td>\n",
       "      <td>679.0</td>\n",
       "      <td>675.0</td>\n",
       "      <td>Individual</td>\n",
       "      <td>0.0</td>\n",
       "      <td>23192.0</td>\n",
       "      <td>0.0</td>\n",
       "      <td>0.0</td>\n",
       "      <td>0.0</td>\n",
       "      <td>0.0</td>\n",
       "      <td>1.0</td>\n",
       "    </tr>\n",
       "    <tr>\n",
       "      <th>4</th>\n",
       "      <td>10400.0</td>\n",
       "      <td>60 months</td>\n",
       "      <td>22.45</td>\n",
       "      <td>289.91</td>\n",
       "      <td>F</td>\n",
       "      <td>Contract Specialist</td>\n",
       "      <td>3 years</td>\n",
       "      <td>MORTGAGE</td>\n",
       "      <td>104433.0</td>\n",
       "      <td>Dec-2015</td>\n",
       "      <td>...</td>\n",
       "      <td>704.0</td>\n",
       "      <td>700.0</td>\n",
       "      <td>Individual</td>\n",
       "      <td>0.0</td>\n",
       "      <td>27644.0</td>\n",
       "      <td>0.0</td>\n",
       "      <td>0.0</td>\n",
       "      <td>0.0</td>\n",
       "      <td>0.0</td>\n",
       "      <td>6.0</td>\n",
       "    </tr>\n",
       "  </tbody>\n",
       "</table>\n",
       "<p>5 rows × 34 columns</p>\n",
       "</div>"
      ],
      "text/plain": [
       "   loan_amnt        term  int_rate  installment grade  \\\n",
       "0     3600.0   36 months     13.99       123.03     C   \n",
       "1    24700.0   36 months     11.99       820.28     C   \n",
       "2    20000.0   60 months     10.78       432.66     B   \n",
       "3    35000.0   60 months     14.85       829.90     C   \n",
       "4    10400.0   60 months     22.45       289.91     F   \n",
       "\n",
       "                     emp_title emp_length home_ownership  annual_inc  \\\n",
       "0                      leadman  10+ years       MORTGAGE     55000.0   \n",
       "1                     Engineer  10+ years       MORTGAGE     65000.0   \n",
       "2                 truck driver  10+ years       MORTGAGE     63000.0   \n",
       "3  Information Systems Officer  10+ years       MORTGAGE    110000.0   \n",
       "4          Contract Specialist    3 years       MORTGAGE    104433.0   \n",
       "\n",
       "    issue_d  ... last_fico_range_high last_fico_range_low application_type  \\\n",
       "0  Dec-2015  ...                564.0               560.0       Individual   \n",
       "1  Dec-2015  ...                699.0               695.0       Individual   \n",
       "2  Dec-2015  ...                704.0               700.0        Joint App   \n",
       "3  Dec-2015  ...                679.0               675.0       Individual   \n",
       "4  Dec-2015  ...                704.0               700.0       Individual   \n",
       "\n",
       "   acc_now_delinq  avg_cur_bal  chargeoff_within_12_mths  delinq_amnt  \\\n",
       "0             0.0      20701.0                       0.0          0.0   \n",
       "1             0.0       9733.0                       0.0          0.0   \n",
       "2             0.0      31617.0                       0.0          0.0   \n",
       "3             0.0      23192.0                       0.0          0.0   \n",
       "4             0.0      27644.0                       0.0          0.0   \n",
       "\n",
       "   pub_rec_bankruptcies  tax_liens  mort_acc  \n",
       "0                   0.0        0.0       1.0  \n",
       "1                   0.0        0.0       4.0  \n",
       "2                   0.0        0.0       5.0  \n",
       "3                   0.0        0.0       1.0  \n",
       "4                   0.0        0.0       6.0  \n",
       "\n",
       "[5 rows x 34 columns]"
      ]
     },
     "execution_count": 137,
     "metadata": {},
     "output_type": "execute_result"
    }
   ],
   "source": [
    "loan.head()"
   ]
  },
  {
   "cell_type": "code",
   "execution_count": 138,
   "id": "12a0e41c-1d53-4e77-a695-143f8d7ed9d0",
   "metadata": {},
   "outputs": [
    {
     "data": {
      "text/plain": [
       "(2260701, 34)"
      ]
     },
     "execution_count": 138,
     "metadata": {},
     "output_type": "execute_result"
    }
   ],
   "source": [
    "loan.shape"
   ]
  },
  {
   "cell_type": "code",
   "execution_count": 139,
   "id": "70be1abd-a808-43c8-856e-eef7c14b858c",
   "metadata": {},
   "outputs": [
    {
     "name": "stdout",
     "output_type": "stream",
     "text": [
      "<class 'pandas.core.frame.DataFrame'>\n",
      "RangeIndex: 2260701 entries, 0 to 2260700\n",
      "Data columns (total 34 columns):\n",
      " #   Column                    Dtype  \n",
      "---  ------                    -----  \n",
      " 0   loan_amnt                 float64\n",
      " 1   term                      object \n",
      " 2   int_rate                  float64\n",
      " 3   installment               float64\n",
      " 4   grade                     object \n",
      " 5   emp_title                 object \n",
      " 6   emp_length                object \n",
      " 7   home_ownership            object \n",
      " 8   annual_inc                float64\n",
      " 9   issue_d                   object \n",
      " 10  loan_status               object \n",
      " 11  purpose                   object \n",
      " 12  addr_state                object \n",
      " 13  dti                       float64\n",
      " 14  delinq_2yrs               float64\n",
      " 15  fico_range_low            float64\n",
      " 16  fico_range_high           float64\n",
      " 17  inq_last_6mths            float64\n",
      " 18  open_acc                  float64\n",
      " 19  total_acc                 float64\n",
      " 20  pub_rec                   float64\n",
      " 21  revol_bal                 float64\n",
      " 22  earliest_cr_line          object \n",
      " 23  revol_util                float64\n",
      " 24  last_fico_range_high      float64\n",
      " 25  last_fico_range_low       float64\n",
      " 26  application_type          object \n",
      " 27  acc_now_delinq            float64\n",
      " 28  avg_cur_bal               float64\n",
      " 29  chargeoff_within_12_mths  float64\n",
      " 30  delinq_amnt               float64\n",
      " 31  pub_rec_bankruptcies      float64\n",
      " 32  tax_liens                 float64\n",
      " 33  mort_acc                  float64\n",
      "dtypes: float64(23), object(11)\n",
      "memory usage: 586.4+ MB\n"
     ]
    }
   ],
   "source": [
    "loan.info()"
   ]
  },
  {
   "cell_type": "code",
   "execution_count": 163,
   "id": "b999c12e-66dc-4d66-b33c-38abab4b8aa0",
   "metadata": {},
   "outputs": [
    {
     "data": {
      "text/plain": [
       "loan_amnt                       0\n",
       "term                            0\n",
       "int_rate                        0\n",
       "installment                     0\n",
       "grade                           0\n",
       "emp_title                   81957\n",
       "emp_length                  74764\n",
       "home_ownership                  0\n",
       "annual_inc                      0\n",
       "issue_d                         0\n",
       "loan_status                     0\n",
       "purpose                         0\n",
       "addr_state                      0\n",
       "dti                             0\n",
       "delinq_2yrs                     0\n",
       "fico_range_low                  0\n",
       "fico_range_high                 0\n",
       "inq_last_6mths                  1\n",
       "open_acc                        0\n",
       "total_acc                       0\n",
       "pub_rec                         0\n",
       "revol_bal                       0\n",
       "earliest_cr_line                0\n",
       "revol_util                    812\n",
       "last_fico_range_high            0\n",
       "last_fico_range_low             0\n",
       "application_type                0\n",
       "acc_now_delinq                  0\n",
       "avg_cur_bal                 67546\n",
       "chargeoff_within_12_mths       56\n",
       "delinq_amnt                     0\n",
       "pub_rec_bankruptcies          697\n",
       "tax_liens                      39\n",
       "mort_acc                    47281\n",
       "dtype: int64"
      ]
     },
     "execution_count": 163,
     "metadata": {},
     "output_type": "execute_result"
    }
   ],
   "source": [
    "loan.isna().sum()"
   ]
  },
  {
   "cell_type": "code",
   "execution_count": 158,
   "id": "ebe7d6f2-a4a4-4c28-a5cd-44a1cf1bd06d",
   "metadata": {},
   "outputs": [
    {
     "name": "stdout",
     "output_type": "stream",
     "text": [
      "term\n",
      "grade\n",
      "emp_title\n",
      "emp_length\n",
      "home_ownership\n",
      "issue_d\n",
      "purpose\n",
      "addr_state\n",
      "earliest_cr_line\n",
      "application_type\n"
     ]
    }
   ],
   "source": [
    "for c in loan.columns:\n",
    "    if loan[c].dtype == 'object':\n",
    "        print(c)\n",
    "        "
   ]
  },
  {
   "cell_type": "markdown",
   "id": "f7e9ca46-76ec-47d4-9c42-b77b8177eafe",
   "metadata": {},
   "source": [
    "Target Variable"
   ]
  },
  {
   "cell_type": "code",
   "execution_count": 141,
   "id": "3725a1e3-fc0b-4b6c-bffc-25f967532c60",
   "metadata": {},
   "outputs": [],
   "source": [
    "#Slicing our dataframe so that it only contains loans which are fully paid off or charged-off\n",
    "loan = loan.loc[loan['loan_status'].isin(['Fully Paid', 'Charged Off'])]"
   ]
  },
  {
   "cell_type": "code",
   "execution_count": 142,
   "id": "85efbc56-0ec0-4424-bb10-958b647c1c1f",
   "metadata": {},
   "outputs": [
    {
     "data": {
      "text/plain": [
       "Fully Paid     1076751\n",
       "Charged Off     268559\n",
       "Name: loan_status, dtype: int64"
      ]
     },
     "execution_count": 142,
     "metadata": {},
     "output_type": "execute_result"
    }
   ],
   "source": [
    "loan.loan_status.value_counts(dropna = False)"
   ]
  },
  {
   "cell_type": "code",
   "execution_count": 154,
   "id": "37eb95bc-c836-4d86-b00a-fcfa271db24d",
   "metadata": {},
   "outputs": [],
   "source": [
    "loan['loan_status'] = loan['loan_status'].map({\n",
    "    'Fully Paid': 0,\n",
    "    'Charged Off': 1\n",
    "})"
   ]
  },
  {
   "cell_type": "code",
   "execution_count": 144,
   "id": "abca49c0-5ded-43e1-8b0f-aa649a118ab4",
   "metadata": {},
   "outputs": [
    {
     "data": {
      "text/plain": [
       "Individual    1319510\n",
       "Joint App       25800\n",
       "Name: application_type, dtype: int64"
      ]
     },
     "execution_count": 144,
     "metadata": {},
     "output_type": "execute_result"
    }
   ],
   "source": [
    "loan.application_type.value_counts()"
   ]
  },
  {
   "cell_type": "code",
   "execution_count": 150,
   "id": "40b6900a-edcd-4d63-b8e2-d152cf42cf9f",
   "metadata": {},
   "outputs": [],
   "source": [
    "loan = loan[loan['application_type'] == 'Individual']"
   ]
  },
  {
   "cell_type": "code",
   "execution_count": 156,
   "id": "a89a0e1b-d3e6-4f95-b1e2-7da4723f6b81",
   "metadata": {},
   "outputs": [
    {
     "data": {
      "text/plain": [
       "Individual    1319510\n",
       "Name: application_type, dtype: int64"
      ]
     },
     "execution_count": 156,
     "metadata": {},
     "output_type": "execute_result"
    }
   ],
   "source": [
    "loan['application_type'].value_counts(dropna = False)"
   ]
  },
  {
   "cell_type": "code",
   "execution_count": 159,
   "id": "9648fe54-8bbf-4e30-a941-3aa9bd963bf4",
   "metadata": {},
   "outputs": [],
   "source": [
    "loan['term'] = loan['term'].map({\n",
    "    ' 36 months' : 0,\n",
    "    ' 60 months' : 1\n",
    "})"
   ]
  },
  {
   "cell_type": "code",
   "execution_count": 151,
   "id": "3eb3ce73-472e-45c7-aa5a-c3c4251d89ed",
   "metadata": {},
   "outputs": [
    {
     "data": {
      "text/plain": [
       "(1319510, 34)"
      ]
     },
     "execution_count": 151,
     "metadata": {},
     "output_type": "execute_result"
    }
   ],
   "source": [
    "loan.shape"
   ]
  },
  {
   "cell_type": "code",
   "execution_count": 153,
   "id": "d273a00e-f560-4d12-9958-0adc9fe71774",
   "metadata": {},
   "outputs": [
    {
     "data": {
      "text/plain": [
       "debt_consolidation    764351\n",
       "credit_card           290840\n",
       "home_improvement       85456\n",
       "other                  76429\n",
       "major_purchase         28931\n",
       "small_business         15180\n",
       "medical                15097\n",
       "car                    14380\n",
       "moving                  9289\n",
       "vacation                8934\n",
       "house                   7085\n",
       "wedding                 2294\n",
       "renewable_energy         918\n",
       "educational              326\n",
       "Name: purpose, dtype: int64"
      ]
     },
     "execution_count": 153,
     "metadata": {},
     "output_type": "execute_result"
    }
   ],
   "source": [
    "loan.purpose.value_counts(dropna = False)"
   ]
  },
  {
   "cell_type": "code",
   "execution_count": 155,
   "id": "590fef06-05f7-4497-81c9-7567a19e3aa3",
   "metadata": {},
   "outputs": [
    {
     "data": {
      "text/plain": [
       "0    0.801279\n",
       "1    0.198721\n",
       "Name: loan_status, dtype: float64"
      ]
     },
     "execution_count": 155,
     "metadata": {},
     "output_type": "execute_result"
    }
   ],
   "source": [
    "loan.loan_status.value_counts(dropna = False, normalize = True)"
   ]
  },
  {
   "cell_type": "code",
   "execution_count": 73,
   "id": "8dd8c85a-6c2a-4904-92ea-60512e9b5256",
   "metadata": {},
   "outputs": [
    {
     "data": {
      "text/plain": [
       "0    0.801279\n",
       "1    0.198721\n",
       "Name: loan_status, dtype: float64"
      ]
     },
     "execution_count": 73,
     "metadata": {},
     "output_type": "execute_result"
    }
   ],
   "source": [
    "loan.loan_status.value_counts(dropna = False, normalize = True)"
   ]
  },
  {
   "cell_type": "code",
   "execution_count": 74,
   "id": "07428d34-14c7-4c24-814e-d8336d987e04",
   "metadata": {},
   "outputs": [
    {
     "data": {
      "text/plain": [
       "(1319510, 64)"
      ]
     },
     "execution_count": 74,
     "metadata": {},
     "output_type": "execute_result"
    }
   ],
   "source": [
    "loan.shape"
   ]
  },
  {
   "cell_type": "code",
   "execution_count": 160,
   "id": "837a76db-2822-42a6-9d86-0db9e82cc7ec",
   "metadata": {},
   "outputs": [
    {
     "ename": "IndentationError",
     "evalue": "unexpected indent (<ipython-input-160-7579c901a644>, line 3)",
     "output_type": "error",
     "traceback": [
      "\u001b[1;36m  File \u001b[1;32m\"<ipython-input-160-7579c901a644>\"\u001b[1;36m, line \u001b[1;32m3\u001b[0m\n\u001b[1;33m    if loan[columns].isna().sum() != 0:\u001b[0m\n\u001b[1;37m    ^\u001b[0m\n\u001b[1;31mIndentationError\u001b[0m\u001b[1;31m:\u001b[0m unexpected indent\n"
     ]
    }
   ],
   "source": [
    "null_count = []\n",
    "#for columns in loan.columns[0:100]:\n",
    "    if loan[columns].isna().sum() != 0:\n",
    "        print('FEATURE NAME:')\n",
    "        print(columns)\n",
    "        print('NULL VALUE COUNT:')\n",
    "        print(loan[columns].isna().sum())\n",
    "        print('PERCENT OF ALL VALUES:')\n",
    "        print(loan[columns].isna().sum() / len(loan[columns]))\n",
    "        print('~~~~~~~~~~~~~~~~~~~')\n",
    "        null_count.append([columns, loan[columns].isna().sum(), loan[columns].isnull().mean()])\n",
    "null_values = pd.DataFrame(null_count, columns = ['Feature', 'Null Value Count', 'Percentage of Data'])"
   ]
  },
  {
   "cell_type": "code",
   "execution_count": 161,
   "id": "8493c55b-b02a-4b4f-9999-280a1e5befc0",
   "metadata": {},
   "outputs": [],
   "source": [
    "#null_values.sort_values('Null Value Count', ascending = False).head(50)"
   ]
  },
  {
   "cell_type": "code",
   "execution_count": 162,
   "id": "c3fef05e-03f3-4ccc-8ecb-9d742dabde70",
   "metadata": {},
   "outputs": [],
   "source": [
    "#null_values.sort_values('Null Value Count', ascending = False).tail(26)"
   ]
  },
  {
   "cell_type": "code",
   "execution_count": 78,
   "id": "55e70537-d2dc-4c9f-8276-a384a886320d",
   "metadata": {},
   "outputs": [],
   "source": [
    "#bad_cols = loan.columns[loan.isnull().mean() > 0.5]"
   ]
  },
  {
   "cell_type": "code",
   "execution_count": 79,
   "id": "473105d8-8a6e-4ac1-859c-e89e699ea267",
   "metadata": {},
   "outputs": [],
   "source": [
    "#loan.drop(columns = bad_cols, inplace = True)"
   ]
  },
  {
   "cell_type": "markdown",
   "id": "ae64bc87-4d84-4716-84d8-5cc9729a5bfe",
   "metadata": {},
   "source": [
    "Dealing with null values:\n",
    "- Possibly remove missing values (not recommended)\n",
    "- Impute null with median\n",
    "- Longer: Find relationship between features that share similar number of null values to see if there is a pattern and determine what can be imputed to reflect accurate info from participant (we can see this for number of accounts so it does not appear to be completely at random..just a guess)\n",
    "- Checking correlation between features to drop ones that are experiencing severe multicollinearity"
   ]
  },
  {
   "cell_type": "code",
   "execution_count": 30,
   "id": "62e1863b-46d8-4430-91e2-730bd886213f",
   "metadata": {},
   "outputs": [
    {
     "data": {
      "text/html": [
       "<div>\n",
       "<style scoped>\n",
       "    .dataframe tbody tr th:only-of-type {\n",
       "        vertical-align: middle;\n",
       "    }\n",
       "\n",
       "    .dataframe tbody tr th {\n",
       "        vertical-align: top;\n",
       "    }\n",
       "\n",
       "    .dataframe thead th {\n",
       "        text-align: right;\n",
       "    }\n",
       "</style>\n",
       "<table border=\"1\" class=\"dataframe\">\n",
       "  <thead>\n",
       "    <tr style=\"text-align: right;\">\n",
       "      <th></th>\n",
       "      <th>loan_amnt</th>\n",
       "      <th>term</th>\n",
       "      <th>int_rate</th>\n",
       "      <th>installment</th>\n",
       "      <th>grade</th>\n",
       "      <th>emp_title</th>\n",
       "      <th>emp_length</th>\n",
       "      <th>home_ownership</th>\n",
       "      <th>annual_inc</th>\n",
       "      <th>verification_status</th>\n",
       "      <th>...</th>\n",
       "      <th>num_tl_90g_dpd_24m</th>\n",
       "      <th>num_tl_op_past_12m</th>\n",
       "      <th>pct_tl_nvr_dlq</th>\n",
       "      <th>percent_bc_gt_75</th>\n",
       "      <th>pub_rec_bankruptcies</th>\n",
       "      <th>tax_liens</th>\n",
       "      <th>tot_hi_cred_lim</th>\n",
       "      <th>total_bal_ex_mort</th>\n",
       "      <th>total_bc_limit</th>\n",
       "      <th>total_il_high_credit_limit</th>\n",
       "    </tr>\n",
       "  </thead>\n",
       "  <tbody>\n",
       "    <tr>\n",
       "      <th>0</th>\n",
       "      <td>3600.0</td>\n",
       "      <td>36 months</td>\n",
       "      <td>13.99</td>\n",
       "      <td>123.03</td>\n",
       "      <td>C</td>\n",
       "      <td>leadman</td>\n",
       "      <td>10+ years</td>\n",
       "      <td>MORTGAGE</td>\n",
       "      <td>55000.0</td>\n",
       "      <td>Not Verified</td>\n",
       "      <td>...</td>\n",
       "      <td>0.0</td>\n",
       "      <td>3.0</td>\n",
       "      <td>76.9</td>\n",
       "      <td>0.0</td>\n",
       "      <td>0.0</td>\n",
       "      <td>0.0</td>\n",
       "      <td>178050.0</td>\n",
       "      <td>7746.0</td>\n",
       "      <td>2400.0</td>\n",
       "      <td>13734.0</td>\n",
       "    </tr>\n",
       "    <tr>\n",
       "      <th>1</th>\n",
       "      <td>24700.0</td>\n",
       "      <td>36 months</td>\n",
       "      <td>11.99</td>\n",
       "      <td>820.28</td>\n",
       "      <td>C</td>\n",
       "      <td>Engineer</td>\n",
       "      <td>10+ years</td>\n",
       "      <td>MORTGAGE</td>\n",
       "      <td>65000.0</td>\n",
       "      <td>Not Verified</td>\n",
       "      <td>...</td>\n",
       "      <td>0.0</td>\n",
       "      <td>2.0</td>\n",
       "      <td>97.4</td>\n",
       "      <td>7.7</td>\n",
       "      <td>0.0</td>\n",
       "      <td>0.0</td>\n",
       "      <td>314017.0</td>\n",
       "      <td>39475.0</td>\n",
       "      <td>79300.0</td>\n",
       "      <td>24667.0</td>\n",
       "    </tr>\n",
       "    <tr>\n",
       "      <th>2</th>\n",
       "      <td>20000.0</td>\n",
       "      <td>60 months</td>\n",
       "      <td>10.78</td>\n",
       "      <td>432.66</td>\n",
       "      <td>B</td>\n",
       "      <td>truck driver</td>\n",
       "      <td>10+ years</td>\n",
       "      <td>MORTGAGE</td>\n",
       "      <td>63000.0</td>\n",
       "      <td>Not Verified</td>\n",
       "      <td>...</td>\n",
       "      <td>0.0</td>\n",
       "      <td>0.0</td>\n",
       "      <td>100.0</td>\n",
       "      <td>50.0</td>\n",
       "      <td>0.0</td>\n",
       "      <td>0.0</td>\n",
       "      <td>218418.0</td>\n",
       "      <td>18696.0</td>\n",
       "      <td>6200.0</td>\n",
       "      <td>14877.0</td>\n",
       "    </tr>\n",
       "    <tr>\n",
       "      <th>3</th>\n",
       "      <td>10400.0</td>\n",
       "      <td>60 months</td>\n",
       "      <td>22.45</td>\n",
       "      <td>289.91</td>\n",
       "      <td>F</td>\n",
       "      <td>Contract Specialist</td>\n",
       "      <td>3 years</td>\n",
       "      <td>MORTGAGE</td>\n",
       "      <td>104433.0</td>\n",
       "      <td>Source Verified</td>\n",
       "      <td>...</td>\n",
       "      <td>0.0</td>\n",
       "      <td>4.0</td>\n",
       "      <td>96.6</td>\n",
       "      <td>60.0</td>\n",
       "      <td>0.0</td>\n",
       "      <td>0.0</td>\n",
       "      <td>439570.0</td>\n",
       "      <td>95768.0</td>\n",
       "      <td>20300.0</td>\n",
       "      <td>88097.0</td>\n",
       "    </tr>\n",
       "    <tr>\n",
       "      <th>4</th>\n",
       "      <td>11950.0</td>\n",
       "      <td>36 months</td>\n",
       "      <td>13.44</td>\n",
       "      <td>405.18</td>\n",
       "      <td>C</td>\n",
       "      <td>Veterinary Tecnician</td>\n",
       "      <td>4 years</td>\n",
       "      <td>RENT</td>\n",
       "      <td>34000.0</td>\n",
       "      <td>Source Verified</td>\n",
       "      <td>...</td>\n",
       "      <td>0.0</td>\n",
       "      <td>0.0</td>\n",
       "      <td>100.0</td>\n",
       "      <td>100.0</td>\n",
       "      <td>0.0</td>\n",
       "      <td>0.0</td>\n",
       "      <td>16900.0</td>\n",
       "      <td>12798.0</td>\n",
       "      <td>9400.0</td>\n",
       "      <td>4000.0</td>\n",
       "    </tr>\n",
       "    <tr>\n",
       "      <th>...</th>\n",
       "      <td>...</td>\n",
       "      <td>...</td>\n",
       "      <td>...</td>\n",
       "      <td>...</td>\n",
       "      <td>...</td>\n",
       "      <td>...</td>\n",
       "      <td>...</td>\n",
       "      <td>...</td>\n",
       "      <td>...</td>\n",
       "      <td>...</td>\n",
       "      <td>...</td>\n",
       "      <td>...</td>\n",
       "      <td>...</td>\n",
       "      <td>...</td>\n",
       "      <td>...</td>\n",
       "      <td>...</td>\n",
       "      <td>...</td>\n",
       "      <td>...</td>\n",
       "      <td>...</td>\n",
       "      <td>...</td>\n",
       "      <td>...</td>\n",
       "    </tr>\n",
       "    <tr>\n",
       "      <th>1345305</th>\n",
       "      <td>18000.0</td>\n",
       "      <td>60 months</td>\n",
       "      <td>9.49</td>\n",
       "      <td>377.95</td>\n",
       "      <td>B</td>\n",
       "      <td>NaN</td>\n",
       "      <td>5 years</td>\n",
       "      <td>OWN</td>\n",
       "      <td>130000.0</td>\n",
       "      <td>Not Verified</td>\n",
       "      <td>...</td>\n",
       "      <td>0.0</td>\n",
       "      <td>0.0</td>\n",
       "      <td>100.0</td>\n",
       "      <td>33.3</td>\n",
       "      <td>0.0</td>\n",
       "      <td>0.0</td>\n",
       "      <td>275356.0</td>\n",
       "      <td>54349.0</td>\n",
       "      <td>13100.0</td>\n",
       "      <td>77756.0</td>\n",
       "    </tr>\n",
       "    <tr>\n",
       "      <th>1345306</th>\n",
       "      <td>29400.0</td>\n",
       "      <td>60 months</td>\n",
       "      <td>13.99</td>\n",
       "      <td>683.94</td>\n",
       "      <td>C</td>\n",
       "      <td>Chief Operating Officer</td>\n",
       "      <td>9 years</td>\n",
       "      <td>MORTGAGE</td>\n",
       "      <td>180792.0</td>\n",
       "      <td>Not Verified</td>\n",
       "      <td>...</td>\n",
       "      <td>0.0</td>\n",
       "      <td>2.0</td>\n",
       "      <td>100.0</td>\n",
       "      <td>42.9</td>\n",
       "      <td>0.0</td>\n",
       "      <td>0.0</td>\n",
       "      <td>719056.0</td>\n",
       "      <td>148305.0</td>\n",
       "      <td>56500.0</td>\n",
       "      <td>95702.0</td>\n",
       "    </tr>\n",
       "    <tr>\n",
       "      <th>1345307</th>\n",
       "      <td>32000.0</td>\n",
       "      <td>60 months</td>\n",
       "      <td>14.49</td>\n",
       "      <td>752.74</td>\n",
       "      <td>C</td>\n",
       "      <td>Sales Manager</td>\n",
       "      <td>3 years</td>\n",
       "      <td>MORTGAGE</td>\n",
       "      <td>157000.0</td>\n",
       "      <td>Source Verified</td>\n",
       "      <td>...</td>\n",
       "      <td>0.0</td>\n",
       "      <td>2.0</td>\n",
       "      <td>100.0</td>\n",
       "      <td>0.0</td>\n",
       "      <td>0.0</td>\n",
       "      <td>0.0</td>\n",
       "      <td>524379.0</td>\n",
       "      <td>122872.0</td>\n",
       "      <td>15800.0</td>\n",
       "      <td>23879.0</td>\n",
       "    </tr>\n",
       "    <tr>\n",
       "      <th>1345308</th>\n",
       "      <td>16000.0</td>\n",
       "      <td>60 months</td>\n",
       "      <td>12.79</td>\n",
       "      <td>362.34</td>\n",
       "      <td>C</td>\n",
       "      <td>Manager</td>\n",
       "      <td>10+ years</td>\n",
       "      <td>RENT</td>\n",
       "      <td>150000.0</td>\n",
       "      <td>Not Verified</td>\n",
       "      <td>...</td>\n",
       "      <td>0.0</td>\n",
       "      <td>2.0</td>\n",
       "      <td>92.0</td>\n",
       "      <td>50.0</td>\n",
       "      <td>3.0</td>\n",
       "      <td>0.0</td>\n",
       "      <td>87473.0</td>\n",
       "      <td>65797.0</td>\n",
       "      <td>10100.0</td>\n",
       "      <td>73473.0</td>\n",
       "    </tr>\n",
       "    <tr>\n",
       "      <th>1345309</th>\n",
       "      <td>24000.0</td>\n",
       "      <td>60 months</td>\n",
       "      <td>14.49</td>\n",
       "      <td>564.56</td>\n",
       "      <td>C</td>\n",
       "      <td>Program Manager</td>\n",
       "      <td>6 years</td>\n",
       "      <td>RENT</td>\n",
       "      <td>110000.0</td>\n",
       "      <td>Not Verified</td>\n",
       "      <td>...</td>\n",
       "      <td>0.0</td>\n",
       "      <td>1.0</td>\n",
       "      <td>96.2</td>\n",
       "      <td>40.0</td>\n",
       "      <td>1.0</td>\n",
       "      <td>0.0</td>\n",
       "      <td>84664.0</td>\n",
       "      <td>62426.0</td>\n",
       "      <td>20700.0</td>\n",
       "      <td>58764.0</td>\n",
       "    </tr>\n",
       "  </tbody>\n",
       "</table>\n",
       "<p>1345310 rows × 64 columns</p>\n",
       "</div>"
      ],
      "text/plain": [
       "         loan_amnt        term  int_rate  installment grade  \\\n",
       "0           3600.0   36 months     13.99       123.03     C   \n",
       "1          24700.0   36 months     11.99       820.28     C   \n",
       "2          20000.0   60 months     10.78       432.66     B   \n",
       "3          10400.0   60 months     22.45       289.91     F   \n",
       "4          11950.0   36 months     13.44       405.18     C   \n",
       "...            ...         ...       ...          ...   ...   \n",
       "1345305    18000.0   60 months      9.49       377.95     B   \n",
       "1345306    29400.0   60 months     13.99       683.94     C   \n",
       "1345307    32000.0   60 months     14.49       752.74     C   \n",
       "1345308    16000.0   60 months     12.79       362.34     C   \n",
       "1345309    24000.0   60 months     14.49       564.56     C   \n",
       "\n",
       "                       emp_title emp_length home_ownership  annual_inc  \\\n",
       "0                        leadman  10+ years       MORTGAGE     55000.0   \n",
       "1                       Engineer  10+ years       MORTGAGE     65000.0   \n",
       "2                   truck driver  10+ years       MORTGAGE     63000.0   \n",
       "3            Contract Specialist    3 years       MORTGAGE    104433.0   \n",
       "4           Veterinary Tecnician    4 years           RENT     34000.0   \n",
       "...                          ...        ...            ...         ...   \n",
       "1345305                      NaN    5 years            OWN    130000.0   \n",
       "1345306  Chief Operating Officer    9 years       MORTGAGE    180792.0   \n",
       "1345307            Sales Manager    3 years       MORTGAGE    157000.0   \n",
       "1345308                  Manager  10+ years           RENT    150000.0   \n",
       "1345309          Program Manager    6 years           RENT    110000.0   \n",
       "\n",
       "        verification_status  ... num_tl_90g_dpd_24m  num_tl_op_past_12m  \\\n",
       "0              Not Verified  ...                0.0                 3.0   \n",
       "1              Not Verified  ...                0.0                 2.0   \n",
       "2              Not Verified  ...                0.0                 0.0   \n",
       "3           Source Verified  ...                0.0                 4.0   \n",
       "4           Source Verified  ...                0.0                 0.0   \n",
       "...                     ...  ...                ...                 ...   \n",
       "1345305        Not Verified  ...                0.0                 0.0   \n",
       "1345306        Not Verified  ...                0.0                 2.0   \n",
       "1345307     Source Verified  ...                0.0                 2.0   \n",
       "1345308        Not Verified  ...                0.0                 2.0   \n",
       "1345309        Not Verified  ...                0.0                 1.0   \n",
       "\n",
       "        pct_tl_nvr_dlq percent_bc_gt_75  pub_rec_bankruptcies  tax_liens  \\\n",
       "0                 76.9              0.0                   0.0        0.0   \n",
       "1                 97.4              7.7                   0.0        0.0   \n",
       "2                100.0             50.0                   0.0        0.0   \n",
       "3                 96.6             60.0                   0.0        0.0   \n",
       "4                100.0            100.0                   0.0        0.0   \n",
       "...                ...              ...                   ...        ...   \n",
       "1345305          100.0             33.3                   0.0        0.0   \n",
       "1345306          100.0             42.9                   0.0        0.0   \n",
       "1345307          100.0              0.0                   0.0        0.0   \n",
       "1345308           92.0             50.0                   3.0        0.0   \n",
       "1345309           96.2             40.0                   1.0        0.0   \n",
       "\n",
       "         tot_hi_cred_lim  total_bal_ex_mort  total_bc_limit  \\\n",
       "0               178050.0             7746.0          2400.0   \n",
       "1               314017.0            39475.0         79300.0   \n",
       "2               218418.0            18696.0          6200.0   \n",
       "3               439570.0            95768.0         20300.0   \n",
       "4                16900.0            12798.0          9400.0   \n",
       "...                  ...                ...             ...   \n",
       "1345305         275356.0            54349.0         13100.0   \n",
       "1345306         719056.0           148305.0         56500.0   \n",
       "1345307         524379.0           122872.0         15800.0   \n",
       "1345308          87473.0            65797.0         10100.0   \n",
       "1345309          84664.0            62426.0         20700.0   \n",
       "\n",
       "         total_il_high_credit_limit  \n",
       "0                           13734.0  \n",
       "1                           24667.0  \n",
       "2                           14877.0  \n",
       "3                           88097.0  \n",
       "4                            4000.0  \n",
       "...                             ...  \n",
       "1345305                     77756.0  \n",
       "1345306                     95702.0  \n",
       "1345307                     23879.0  \n",
       "1345308                     73473.0  \n",
       "1345309                     58764.0  \n",
       "\n",
       "[1345310 rows x 64 columns]"
      ]
     },
     "execution_count": 30,
     "metadata": {},
     "output_type": "execute_result"
    }
   ],
   "source": [
    "loan.reset_index(drop = True)"
   ]
  },
  {
   "cell_type": "code",
   "execution_count": 31,
   "id": "3b6493fe-43dc-4655-921e-ab98957af2ec",
   "metadata": {},
   "outputs": [
    {
     "data": {
      "text/plain": [
       "Individual    1319510\n",
       "Joint App       25800\n",
       "Name: application_type, dtype: int64"
      ]
     },
     "execution_count": 31,
     "metadata": {},
     "output_type": "execute_result"
    }
   ],
   "source": [
    "loan['application_type'].value_counts(dropna = False)"
   ]
  },
  {
   "cell_type": "code",
   "execution_count": 32,
   "id": "8bbfee88-2e31-46b8-bf53-46c595cf2d8d",
   "metadata": {},
   "outputs": [
    {
     "name": "stdout",
     "output_type": "stream",
     "text": [
      "term\n",
      "0\n",
      "grade\n",
      "0\n",
      "emp_title\n",
      "85785\n",
      "emp_length\n",
      "78511\n",
      "home_ownership\n",
      "0\n",
      "verification_status\n",
      "0\n",
      "issue_d\n",
      "0\n",
      "purpose\n",
      "0\n",
      "addr_state\n",
      "0\n",
      "last_credit_pull_d\n",
      "55\n",
      "application_type\n",
      "0\n"
     ]
    }
   ],
   "source": [
    "for c in loan.columns:\n",
    "    if loan[c].dtype == 'object':\n",
    "        print(c)\n",
    "        print(loan[c].isna().sum())"
   ]
  },
  {
   "cell_type": "code",
   "execution_count": 33,
   "id": "f4b986dd-0aac-44a7-9d49-bc77d9f1fc41",
   "metadata": {},
   "outputs": [
    {
     "data": {
      "text/html": [
       "<div>\n",
       "<style scoped>\n",
       "    .dataframe tbody tr th:only-of-type {\n",
       "        vertical-align: middle;\n",
       "    }\n",
       "\n",
       "    .dataframe tbody tr th {\n",
       "        vertical-align: top;\n",
       "    }\n",
       "\n",
       "    .dataframe thead th {\n",
       "        text-align: right;\n",
       "    }\n",
       "</style>\n",
       "<table border=\"1\" class=\"dataframe\">\n",
       "  <thead>\n",
       "    <tr style=\"text-align: right;\">\n",
       "      <th></th>\n",
       "      <th>loan_amnt</th>\n",
       "      <th>term</th>\n",
       "      <th>int_rate</th>\n",
       "      <th>installment</th>\n",
       "      <th>grade</th>\n",
       "      <th>emp_title</th>\n",
       "      <th>emp_length</th>\n",
       "      <th>home_ownership</th>\n",
       "      <th>annual_inc</th>\n",
       "      <th>verification_status</th>\n",
       "      <th>...</th>\n",
       "      <th>num_tl_90g_dpd_24m</th>\n",
       "      <th>num_tl_op_past_12m</th>\n",
       "      <th>pct_tl_nvr_dlq</th>\n",
       "      <th>percent_bc_gt_75</th>\n",
       "      <th>pub_rec_bankruptcies</th>\n",
       "      <th>tax_liens</th>\n",
       "      <th>tot_hi_cred_lim</th>\n",
       "      <th>total_bal_ex_mort</th>\n",
       "      <th>total_bc_limit</th>\n",
       "      <th>total_il_high_credit_limit</th>\n",
       "    </tr>\n",
       "  </thead>\n",
       "  <tbody>\n",
       "    <tr>\n",
       "      <th>0</th>\n",
       "      <td>3600.0</td>\n",
       "      <td>36 months</td>\n",
       "      <td>13.99</td>\n",
       "      <td>123.03</td>\n",
       "      <td>C</td>\n",
       "      <td>leadman</td>\n",
       "      <td>10+ years</td>\n",
       "      <td>MORTGAGE</td>\n",
       "      <td>55000.0</td>\n",
       "      <td>Not Verified</td>\n",
       "      <td>...</td>\n",
       "      <td>0.0</td>\n",
       "      <td>3.0</td>\n",
       "      <td>76.9</td>\n",
       "      <td>0.0</td>\n",
       "      <td>0.0</td>\n",
       "      <td>0.0</td>\n",
       "      <td>178050.0</td>\n",
       "      <td>7746.0</td>\n",
       "      <td>2400.0</td>\n",
       "      <td>13734.0</td>\n",
       "    </tr>\n",
       "    <tr>\n",
       "      <th>1</th>\n",
       "      <td>24700.0</td>\n",
       "      <td>36 months</td>\n",
       "      <td>11.99</td>\n",
       "      <td>820.28</td>\n",
       "      <td>C</td>\n",
       "      <td>Engineer</td>\n",
       "      <td>10+ years</td>\n",
       "      <td>MORTGAGE</td>\n",
       "      <td>65000.0</td>\n",
       "      <td>Not Verified</td>\n",
       "      <td>...</td>\n",
       "      <td>0.0</td>\n",
       "      <td>2.0</td>\n",
       "      <td>97.4</td>\n",
       "      <td>7.7</td>\n",
       "      <td>0.0</td>\n",
       "      <td>0.0</td>\n",
       "      <td>314017.0</td>\n",
       "      <td>39475.0</td>\n",
       "      <td>79300.0</td>\n",
       "      <td>24667.0</td>\n",
       "    </tr>\n",
       "    <tr>\n",
       "      <th>2</th>\n",
       "      <td>20000.0</td>\n",
       "      <td>60 months</td>\n",
       "      <td>10.78</td>\n",
       "      <td>432.66</td>\n",
       "      <td>B</td>\n",
       "      <td>truck driver</td>\n",
       "      <td>10+ years</td>\n",
       "      <td>MORTGAGE</td>\n",
       "      <td>63000.0</td>\n",
       "      <td>Not Verified</td>\n",
       "      <td>...</td>\n",
       "      <td>0.0</td>\n",
       "      <td>0.0</td>\n",
       "      <td>100.0</td>\n",
       "      <td>50.0</td>\n",
       "      <td>0.0</td>\n",
       "      <td>0.0</td>\n",
       "      <td>218418.0</td>\n",
       "      <td>18696.0</td>\n",
       "      <td>6200.0</td>\n",
       "      <td>14877.0</td>\n",
       "    </tr>\n",
       "    <tr>\n",
       "      <th>4</th>\n",
       "      <td>10400.0</td>\n",
       "      <td>60 months</td>\n",
       "      <td>22.45</td>\n",
       "      <td>289.91</td>\n",
       "      <td>F</td>\n",
       "      <td>Contract Specialist</td>\n",
       "      <td>3 years</td>\n",
       "      <td>MORTGAGE</td>\n",
       "      <td>104433.0</td>\n",
       "      <td>Source Verified</td>\n",
       "      <td>...</td>\n",
       "      <td>0.0</td>\n",
       "      <td>4.0</td>\n",
       "      <td>96.6</td>\n",
       "      <td>60.0</td>\n",
       "      <td>0.0</td>\n",
       "      <td>0.0</td>\n",
       "      <td>439570.0</td>\n",
       "      <td>95768.0</td>\n",
       "      <td>20300.0</td>\n",
       "      <td>88097.0</td>\n",
       "    </tr>\n",
       "    <tr>\n",
       "      <th>5</th>\n",
       "      <td>11950.0</td>\n",
       "      <td>36 months</td>\n",
       "      <td>13.44</td>\n",
       "      <td>405.18</td>\n",
       "      <td>C</td>\n",
       "      <td>Veterinary Tecnician</td>\n",
       "      <td>4 years</td>\n",
       "      <td>RENT</td>\n",
       "      <td>34000.0</td>\n",
       "      <td>Source Verified</td>\n",
       "      <td>...</td>\n",
       "      <td>0.0</td>\n",
       "      <td>0.0</td>\n",
       "      <td>100.0</td>\n",
       "      <td>100.0</td>\n",
       "      <td>0.0</td>\n",
       "      <td>0.0</td>\n",
       "      <td>16900.0</td>\n",
       "      <td>12798.0</td>\n",
       "      <td>9400.0</td>\n",
       "      <td>4000.0</td>\n",
       "    </tr>\n",
       "    <tr>\n",
       "      <th>...</th>\n",
       "      <td>...</td>\n",
       "      <td>...</td>\n",
       "      <td>...</td>\n",
       "      <td>...</td>\n",
       "      <td>...</td>\n",
       "      <td>...</td>\n",
       "      <td>...</td>\n",
       "      <td>...</td>\n",
       "      <td>...</td>\n",
       "      <td>...</td>\n",
       "      <td>...</td>\n",
       "      <td>...</td>\n",
       "      <td>...</td>\n",
       "      <td>...</td>\n",
       "      <td>...</td>\n",
       "      <td>...</td>\n",
       "      <td>...</td>\n",
       "      <td>...</td>\n",
       "      <td>...</td>\n",
       "      <td>...</td>\n",
       "      <td>...</td>\n",
       "    </tr>\n",
       "    <tr>\n",
       "      <th>2260688</th>\n",
       "      <td>18000.0</td>\n",
       "      <td>60 months</td>\n",
       "      <td>9.49</td>\n",
       "      <td>377.95</td>\n",
       "      <td>B</td>\n",
       "      <td>NaN</td>\n",
       "      <td>5 years</td>\n",
       "      <td>OWN</td>\n",
       "      <td>130000.0</td>\n",
       "      <td>Not Verified</td>\n",
       "      <td>...</td>\n",
       "      <td>0.0</td>\n",
       "      <td>0.0</td>\n",
       "      <td>100.0</td>\n",
       "      <td>33.3</td>\n",
       "      <td>0.0</td>\n",
       "      <td>0.0</td>\n",
       "      <td>275356.0</td>\n",
       "      <td>54349.0</td>\n",
       "      <td>13100.0</td>\n",
       "      <td>77756.0</td>\n",
       "    </tr>\n",
       "    <tr>\n",
       "      <th>2260690</th>\n",
       "      <td>29400.0</td>\n",
       "      <td>60 months</td>\n",
       "      <td>13.99</td>\n",
       "      <td>683.94</td>\n",
       "      <td>C</td>\n",
       "      <td>Chief Operating Officer</td>\n",
       "      <td>9 years</td>\n",
       "      <td>MORTGAGE</td>\n",
       "      <td>180792.0</td>\n",
       "      <td>Not Verified</td>\n",
       "      <td>...</td>\n",
       "      <td>0.0</td>\n",
       "      <td>2.0</td>\n",
       "      <td>100.0</td>\n",
       "      <td>42.9</td>\n",
       "      <td>0.0</td>\n",
       "      <td>0.0</td>\n",
       "      <td>719056.0</td>\n",
       "      <td>148305.0</td>\n",
       "      <td>56500.0</td>\n",
       "      <td>95702.0</td>\n",
       "    </tr>\n",
       "    <tr>\n",
       "      <th>2260691</th>\n",
       "      <td>32000.0</td>\n",
       "      <td>60 months</td>\n",
       "      <td>14.49</td>\n",
       "      <td>752.74</td>\n",
       "      <td>C</td>\n",
       "      <td>Sales Manager</td>\n",
       "      <td>3 years</td>\n",
       "      <td>MORTGAGE</td>\n",
       "      <td>157000.0</td>\n",
       "      <td>Source Verified</td>\n",
       "      <td>...</td>\n",
       "      <td>0.0</td>\n",
       "      <td>2.0</td>\n",
       "      <td>100.0</td>\n",
       "      <td>0.0</td>\n",
       "      <td>0.0</td>\n",
       "      <td>0.0</td>\n",
       "      <td>524379.0</td>\n",
       "      <td>122872.0</td>\n",
       "      <td>15800.0</td>\n",
       "      <td>23879.0</td>\n",
       "    </tr>\n",
       "    <tr>\n",
       "      <th>2260692</th>\n",
       "      <td>16000.0</td>\n",
       "      <td>60 months</td>\n",
       "      <td>12.79</td>\n",
       "      <td>362.34</td>\n",
       "      <td>C</td>\n",
       "      <td>Manager</td>\n",
       "      <td>10+ years</td>\n",
       "      <td>RENT</td>\n",
       "      <td>150000.0</td>\n",
       "      <td>Not Verified</td>\n",
       "      <td>...</td>\n",
       "      <td>0.0</td>\n",
       "      <td>2.0</td>\n",
       "      <td>92.0</td>\n",
       "      <td>50.0</td>\n",
       "      <td>3.0</td>\n",
       "      <td>0.0</td>\n",
       "      <td>87473.0</td>\n",
       "      <td>65797.0</td>\n",
       "      <td>10100.0</td>\n",
       "      <td>73473.0</td>\n",
       "    </tr>\n",
       "    <tr>\n",
       "      <th>2260697</th>\n",
       "      <td>24000.0</td>\n",
       "      <td>60 months</td>\n",
       "      <td>14.49</td>\n",
       "      <td>564.56</td>\n",
       "      <td>C</td>\n",
       "      <td>Program Manager</td>\n",
       "      <td>6 years</td>\n",
       "      <td>RENT</td>\n",
       "      <td>110000.0</td>\n",
       "      <td>Not Verified</td>\n",
       "      <td>...</td>\n",
       "      <td>0.0</td>\n",
       "      <td>1.0</td>\n",
       "      <td>96.2</td>\n",
       "      <td>40.0</td>\n",
       "      <td>1.0</td>\n",
       "      <td>0.0</td>\n",
       "      <td>84664.0</td>\n",
       "      <td>62426.0</td>\n",
       "      <td>20700.0</td>\n",
       "      <td>58764.0</td>\n",
       "    </tr>\n",
       "  </tbody>\n",
       "</table>\n",
       "<p>1345310 rows × 64 columns</p>\n",
       "</div>"
      ],
      "text/plain": [
       "         loan_amnt        term  int_rate  installment grade  \\\n",
       "0           3600.0   36 months     13.99       123.03     C   \n",
       "1          24700.0   36 months     11.99       820.28     C   \n",
       "2          20000.0   60 months     10.78       432.66     B   \n",
       "4          10400.0   60 months     22.45       289.91     F   \n",
       "5          11950.0   36 months     13.44       405.18     C   \n",
       "...            ...         ...       ...          ...   ...   \n",
       "2260688    18000.0   60 months      9.49       377.95     B   \n",
       "2260690    29400.0   60 months     13.99       683.94     C   \n",
       "2260691    32000.0   60 months     14.49       752.74     C   \n",
       "2260692    16000.0   60 months     12.79       362.34     C   \n",
       "2260697    24000.0   60 months     14.49       564.56     C   \n",
       "\n",
       "                       emp_title emp_length home_ownership  annual_inc  \\\n",
       "0                        leadman  10+ years       MORTGAGE     55000.0   \n",
       "1                       Engineer  10+ years       MORTGAGE     65000.0   \n",
       "2                   truck driver  10+ years       MORTGAGE     63000.0   \n",
       "4            Contract Specialist    3 years       MORTGAGE    104433.0   \n",
       "5           Veterinary Tecnician    4 years           RENT     34000.0   \n",
       "...                          ...        ...            ...         ...   \n",
       "2260688                      NaN    5 years            OWN    130000.0   \n",
       "2260690  Chief Operating Officer    9 years       MORTGAGE    180792.0   \n",
       "2260691            Sales Manager    3 years       MORTGAGE    157000.0   \n",
       "2260692                  Manager  10+ years           RENT    150000.0   \n",
       "2260697          Program Manager    6 years           RENT    110000.0   \n",
       "\n",
       "        verification_status  ... num_tl_90g_dpd_24m  num_tl_op_past_12m  \\\n",
       "0              Not Verified  ...                0.0                 3.0   \n",
       "1              Not Verified  ...                0.0                 2.0   \n",
       "2              Not Verified  ...                0.0                 0.0   \n",
       "4           Source Verified  ...                0.0                 4.0   \n",
       "5           Source Verified  ...                0.0                 0.0   \n",
       "...                     ...  ...                ...                 ...   \n",
       "2260688        Not Verified  ...                0.0                 0.0   \n",
       "2260690        Not Verified  ...                0.0                 2.0   \n",
       "2260691     Source Verified  ...                0.0                 2.0   \n",
       "2260692        Not Verified  ...                0.0                 2.0   \n",
       "2260697        Not Verified  ...                0.0                 1.0   \n",
       "\n",
       "        pct_tl_nvr_dlq percent_bc_gt_75  pub_rec_bankruptcies  tax_liens  \\\n",
       "0                 76.9              0.0                   0.0        0.0   \n",
       "1                 97.4              7.7                   0.0        0.0   \n",
       "2                100.0             50.0                   0.0        0.0   \n",
       "4                 96.6             60.0                   0.0        0.0   \n",
       "5                100.0            100.0                   0.0        0.0   \n",
       "...                ...              ...                   ...        ...   \n",
       "2260688          100.0             33.3                   0.0        0.0   \n",
       "2260690          100.0             42.9                   0.0        0.0   \n",
       "2260691          100.0              0.0                   0.0        0.0   \n",
       "2260692           92.0             50.0                   3.0        0.0   \n",
       "2260697           96.2             40.0                   1.0        0.0   \n",
       "\n",
       "         tot_hi_cred_lim  total_bal_ex_mort  total_bc_limit  \\\n",
       "0               178050.0             7746.0          2400.0   \n",
       "1               314017.0            39475.0         79300.0   \n",
       "2               218418.0            18696.0          6200.0   \n",
       "4               439570.0            95768.0         20300.0   \n",
       "5                16900.0            12798.0          9400.0   \n",
       "...                  ...                ...             ...   \n",
       "2260688         275356.0            54349.0         13100.0   \n",
       "2260690         719056.0           148305.0         56500.0   \n",
       "2260691         524379.0           122872.0         15800.0   \n",
       "2260692          87473.0            65797.0         10100.0   \n",
       "2260697          84664.0            62426.0         20700.0   \n",
       "\n",
       "         total_il_high_credit_limit  \n",
       "0                           13734.0  \n",
       "1                           24667.0  \n",
       "2                           14877.0  \n",
       "4                           88097.0  \n",
       "5                            4000.0  \n",
       "...                             ...  \n",
       "2260688                     77756.0  \n",
       "2260690                     95702.0  \n",
       "2260691                     23879.0  \n",
       "2260692                     73473.0  \n",
       "2260697                     58764.0  \n",
       "\n",
       "[1345310 rows x 64 columns]"
      ]
     },
     "execution_count": 33,
     "metadata": {},
     "output_type": "execute_result"
    }
   ],
   "source": [
    "loan"
   ]
  },
  {
   "cell_type": "code",
   "execution_count": 34,
   "id": "c48ea23d-c314-4030-bd21-0166228deb63",
   "metadata": {},
   "outputs": [
    {
     "data": {
      "text/plain": [
       "0.19962610848057324"
      ]
     },
     "execution_count": 34,
     "metadata": {},
     "output_type": "execute_result"
    }
   ],
   "source": [
    "loan['loan_status'].mean()"
   ]
  },
  {
   "cell_type": "markdown",
   "id": "0623b8ae-cb9a-4015-9b94-bd684bfa5004",
   "metadata": {},
   "source": [
    "Loan grade is the specific grade assigned by Lending Club. We would want to remove this from our model since it does not meet our requirements for the feature. We want to build a model that takes in information that is known when the borrower applies and including Lending Club's rating of a loan application would only hurt our model. It would include Lending Club's own rating of a loan based on the loan information. For now we can leave it out and possibly compare it to our own model. "
   ]
  },
  {
   "cell_type": "code",
   "execution_count": 36,
   "id": "d703beba-e56a-418b-a39d-f4ef4afc0925",
   "metadata": {},
   "outputs": [
    {
     "data": {
      "text/plain": [
       "0    1020743\n",
       "1     324567\n",
       "Name: term, dtype: int64"
      ]
     },
     "execution_count": 36,
     "metadata": {},
     "output_type": "execute_result"
    }
   ],
   "source": [
    "loan.term.value_counts(dropna = False)"
   ]
  },
  {
   "cell_type": "code",
   "execution_count": 37,
   "id": "e884a4d7-deed-4648-a4e5-056ec04fd8ff",
   "metadata": {},
   "outputs": [],
   "source": [
    "#loan.drop(columns = ['emp_title'], inplace = True)"
   ]
  },
  {
   "cell_type": "code",
   "execution_count": 38,
   "id": "ac534ec2-5adb-447b-a0dc-64e0591ddb6e",
   "metadata": {},
   "outputs": [
    {
     "name": "stdout",
     "output_type": "stream",
     "text": [
      "grade\n",
      "emp_title\n",
      "emp_length\n",
      "home_ownership\n",
      "verification_status\n",
      "issue_d\n",
      "purpose\n",
      "addr_state\n",
      "last_credit_pull_d\n",
      "application_type\n"
     ]
    }
   ],
   "source": [
    "for c in loan.columns:\n",
    "    if loan[c].dtype == 'object':\n",
    "        print(c)"
   ]
  },
  {
   "cell_type": "code",
   "execution_count": 39,
   "id": "2337a767-8a19-4e12-9fad-f43d2617ace6",
   "metadata": {
    "tags": []
   },
   "outputs": [
    {
     "data": {
      "text/plain": [
       "10+ years    0.328697\n",
       "2 years      0.090494\n",
       "< 1 year     0.080324\n",
       "3 years      0.079979\n",
       "1 year       0.065780\n",
       "5 years      0.062554\n",
       "4 years      0.059879\n",
       "NaN          0.058359\n",
       "6 years      0.046631\n",
       "8 years      0.045120\n",
       "7 years      0.044320\n",
       "9 years      0.037863\n",
       "Name: emp_length, dtype: float64"
      ]
     },
     "execution_count": 39,
     "metadata": {},
     "output_type": "execute_result"
    }
   ],
   "source": [
    "loan.emp_length.value_counts(dropna = False, normalize = True)"
   ]
  },
  {
   "cell_type": "markdown",
   "id": "fa2174cd-6981-4c29-97d1-8b8a8982b50a",
   "metadata": {},
   "source": [
    "To "
   ]
  },
  {
   "cell_type": "code",
   "execution_count": 40,
   "id": "74837e82-7514-49ce-8683-5aece62b8ec3",
   "metadata": {},
   "outputs": [],
   "source": [
    "emp_length_dict = {\n",
    "    '< 1 year' : '<1 year',\n",
    "    '1 year'   : '1-5 years',\n",
    "    '2 years'  : '1-5 years',\n",
    "    '3 years'  : '1-5 years',\n",
    "    '4 years'  : '1-5 years',\n",
    "    '5 years'  : '1-5 years',\n",
    "    '6 years'  : '5-10 years',\n",
    "    '7 years'  : '5-10 years',\n",
    "    '8 years'  : '5-10 years',\n",
    "    '9 years'  : '5-10 years',\n",
    "    '10+ years': '10+ years',\n",
    "}"
   ]
  },
  {
   "cell_type": "code",
   "execution_count": 41,
   "id": "5b6e891f-f61f-489c-b64d-48d727a0ba03",
   "metadata": {},
   "outputs": [],
   "source": [
    "loan.emp_length = loan.emp_length.map(emp_length_dict)"
   ]
  },
  {
   "cell_type": "code",
   "execution_count": 42,
   "id": "981653b3-5b91-4deb-bfa1-c31e1f2f05c6",
   "metadata": {},
   "outputs": [
    {
     "data": {
      "text/plain": [
       "1-5 years     0.358686\n",
       "10+ years     0.328697\n",
       "5-10 years    0.173934\n",
       "<1 year       0.080324\n",
       "NaN           0.058359\n",
       "Name: emp_length, dtype: float64"
      ]
     },
     "execution_count": 42,
     "metadata": {},
     "output_type": "execute_result"
    }
   ],
   "source": [
    "loan.emp_length.value_counts(dropna = False, normalize = True)"
   ]
  },
  {
   "cell_type": "code",
   "execution_count": 43,
   "id": "9b9fd159-9516-4920-882e-00c4b7f708a2",
   "metadata": {},
   "outputs": [],
   "source": [
    "not_employed = len(loan[loan.emp_title.isnull()])"
   ]
  },
  {
   "cell_type": "code",
   "execution_count": 44,
   "id": "fa49808c-5c77-46a7-bc59-0d928c984fc4",
   "metadata": {},
   "outputs": [
    {
     "data": {
      "text/plain": [
       "85785"
      ]
     },
     "execution_count": 44,
     "metadata": {},
     "output_type": "execute_result"
    }
   ],
   "source": [
    "not_employed"
   ]
  },
  {
   "cell_type": "code",
   "execution_count": 45,
   "id": "3ecf3bdc-d0d6-41f7-83eb-c20af738e593",
   "metadata": {},
   "outputs": [
    {
     "data": {
      "text/plain": [
       "emp_length\n",
       "<1 year       0.012508\n",
       "5-10 years    0.016203\n",
       "1-5 years     0.028968\n",
       "10+ years     0.033934\n",
       "Name: emp_length, dtype: float64"
      ]
     },
     "execution_count": 45,
     "metadata": {},
     "output_type": "execute_result"
    }
   ],
   "source": [
    "loan[loan.emp_title.isnull()].groupby('emp_length')['emp_length'].count().sort_values() / not_employed"
   ]
  },
  {
   "cell_type": "markdown",
   "id": "139a7469-9eef-4dd9-9486-fc26cfb0cbee",
   "metadata": {},
   "source": [
    "We can see that for those that have no employment title provided also happen to be ~90% of those that reported no employment length. This may show that those with no employment length are never employed, self-employed, students or possibly retired. Due to this, we will keep these values of 'n/a' in employment length as their own category. We will be dropping the emp_title column due to the high number of unique titles (371,436)."
   ]
  },
  {
   "cell_type": "code",
   "execution_count": 46,
   "id": "9b6d9cda-3c57-4b77-aac9-595db978412b",
   "metadata": {},
   "outputs": [
    {
     "data": {
      "text/plain": [
       "378354"
      ]
     },
     "execution_count": 46,
     "metadata": {},
     "output_type": "execute_result"
    }
   ],
   "source": [
    "len(loan.emp_title.unique())"
   ]
  },
  {
   "cell_type": "code",
   "execution_count": 47,
   "id": "2c3e1008-3a4f-45c2-8327-e890da7b5fac",
   "metadata": {},
   "outputs": [
    {
     "name": "stdout",
     "output_type": "stream",
     "text": [
      "<class 'pandas.core.frame.DataFrame'>\n",
      "Int64Index: 1345310 entries, 0 to 2260697\n",
      "Data columns (total 64 columns):\n",
      " #   Column                      Non-Null Count    Dtype  \n",
      "---  ------                      --------------    -----  \n",
      " 0   loan_amnt                   1345310 non-null  float64\n",
      " 1   term                        1345310 non-null  int64  \n",
      " 2   int_rate                    1345310 non-null  float64\n",
      " 3   installment                 1345310 non-null  float64\n",
      " 4   grade                       1345310 non-null  object \n",
      " 5   emp_title                   1259525 non-null  object \n",
      " 6   emp_length                  1266799 non-null  object \n",
      " 7   home_ownership              1345310 non-null  object \n",
      " 8   annual_inc                  1345310 non-null  float64\n",
      " 9   verification_status         1345310 non-null  object \n",
      " 10  issue_d                     1345310 non-null  object \n",
      " 11  loan_status                 1345310 non-null  int64  \n",
      " 12  purpose                     1345310 non-null  object \n",
      " 13  addr_state                  1345310 non-null  object \n",
      " 14  dti                         1344936 non-null  float64\n",
      " 15  delinq_2yrs                 1345310 non-null  float64\n",
      " 16  fico_range_low              1345310 non-null  float64\n",
      " 17  fico_range_high             1345310 non-null  float64\n",
      " 18  inq_last_6mths              1345309 non-null  float64\n",
      " 19  open_acc                    1345310 non-null  float64\n",
      " 20  pub_rec                     1345310 non-null  float64\n",
      " 21  revol_bal                   1345310 non-null  float64\n",
      " 22  revol_util                  1344453 non-null  float64\n",
      " 23  total_acc                   1345310 non-null  float64\n",
      " 24  last_credit_pull_d          1345255 non-null  object \n",
      " 25  last_fico_range_high        1345310 non-null  float64\n",
      " 26  last_fico_range_low         1345310 non-null  float64\n",
      " 27  application_type            1345310 non-null  object \n",
      " 28  acc_now_delinq              1345310 non-null  float64\n",
      " 29  total_rev_hi_lim            1277783 non-null  float64\n",
      " 30  acc_open_past_24mths        1298029 non-null  float64\n",
      " 31  avg_cur_bal                 1277761 non-null  float64\n",
      " 32  bc_util                     1283398 non-null  float64\n",
      " 33  chargeoff_within_12_mths    1345254 non-null  float64\n",
      " 34  delinq_amnt                 1345310 non-null  float64\n",
      " 35  mo_sin_old_il_acct          1239735 non-null  float64\n",
      " 36  mo_sin_old_rev_tl_op        1277782 non-null  float64\n",
      " 37  mo_sin_rcnt_rev_tl_op       1277782 non-null  float64\n",
      " 38  mo_sin_rcnt_tl              1277783 non-null  float64\n",
      " 39  mort_acc                    1298029 non-null  float64\n",
      " 40  mths_since_recent_bc        1285089 non-null  float64\n",
      " 41  mths_since_recent_inq       1171239 non-null  float64\n",
      " 42  num_accts_ever_120_pd       1277783 non-null  float64\n",
      " 43  num_actv_bc_tl              1277783 non-null  float64\n",
      " 44  num_actv_rev_tl             1277783 non-null  float64\n",
      " 45  num_bc_sats                 1289469 non-null  float64\n",
      " 46  num_bc_tl                   1277783 non-null  float64\n",
      " 47  num_il_tl                   1277783 non-null  float64\n",
      " 48  num_op_rev_tl               1277783 non-null  float64\n",
      " 49  num_rev_accts               1277782 non-null  float64\n",
      " 50  num_rev_tl_bal_gt_0         1277783 non-null  float64\n",
      " 51  num_sats                    1289469 non-null  float64\n",
      " 52  num_tl_120dpd_2m            1227909 non-null  float64\n",
      " 53  num_tl_30dpd                1277783 non-null  float64\n",
      " 54  num_tl_90g_dpd_24m          1277783 non-null  float64\n",
      " 55  num_tl_op_past_12m          1277783 non-null  float64\n",
      " 56  pct_tl_nvr_dlq              1277629 non-null  float64\n",
      " 57  percent_bc_gt_75            1283755 non-null  float64\n",
      " 58  pub_rec_bankruptcies        1344613 non-null  float64\n",
      " 59  tax_liens                   1345271 non-null  float64\n",
      " 60  tot_hi_cred_lim             1277783 non-null  float64\n",
      " 61  total_bal_ex_mort           1298029 non-null  float64\n",
      " 62  total_bc_limit              1298029 non-null  float64\n",
      " 63  total_il_high_credit_limit  1277783 non-null  float64\n",
      "dtypes: float64(52), int64(2), object(10)\n",
      "memory usage: 667.2+ MB\n"
     ]
    }
   ],
   "source": [
    "loan.info()"
   ]
  },
  {
   "cell_type": "code",
   "execution_count": 48,
   "id": "53ccfe1f-ad4b-4846-8699-86ffe5414697",
   "metadata": {},
   "outputs": [
    {
     "data": {
      "text/html": [
       "<div>\n",
       "<style scoped>\n",
       "    .dataframe tbody tr th:only-of-type {\n",
       "        vertical-align: middle;\n",
       "    }\n",
       "\n",
       "    .dataframe tbody tr th {\n",
       "        vertical-align: top;\n",
       "    }\n",
       "\n",
       "    .dataframe thead th {\n",
       "        text-align: right;\n",
       "    }\n",
       "</style>\n",
       "<table border=\"1\" class=\"dataframe\">\n",
       "  <thead>\n",
       "    <tr style=\"text-align: right;\">\n",
       "      <th></th>\n",
       "      <th>fico_range_high</th>\n",
       "      <th>fico_range_low</th>\n",
       "    </tr>\n",
       "  </thead>\n",
       "  <tbody>\n",
       "    <tr>\n",
       "      <th>0</th>\n",
       "      <td>679.0</td>\n",
       "      <td>675.0</td>\n",
       "    </tr>\n",
       "    <tr>\n",
       "      <th>1</th>\n",
       "      <td>719.0</td>\n",
       "      <td>715.0</td>\n",
       "    </tr>\n",
       "    <tr>\n",
       "      <th>2</th>\n",
       "      <td>699.0</td>\n",
       "      <td>695.0</td>\n",
       "    </tr>\n",
       "    <tr>\n",
       "      <th>4</th>\n",
       "      <td>699.0</td>\n",
       "      <td>695.0</td>\n",
       "    </tr>\n",
       "    <tr>\n",
       "      <th>5</th>\n",
       "      <td>694.0</td>\n",
       "      <td>690.0</td>\n",
       "    </tr>\n",
       "    <tr>\n",
       "      <th>...</th>\n",
       "      <td>...</td>\n",
       "      <td>...</td>\n",
       "    </tr>\n",
       "    <tr>\n",
       "      <th>2260688</th>\n",
       "      <td>739.0</td>\n",
       "      <td>735.0</td>\n",
       "    </tr>\n",
       "    <tr>\n",
       "      <th>2260690</th>\n",
       "      <td>709.0</td>\n",
       "      <td>705.0</td>\n",
       "    </tr>\n",
       "    <tr>\n",
       "      <th>2260691</th>\n",
       "      <td>739.0</td>\n",
       "      <td>735.0</td>\n",
       "    </tr>\n",
       "    <tr>\n",
       "      <th>2260692</th>\n",
       "      <td>669.0</td>\n",
       "      <td>665.0</td>\n",
       "    </tr>\n",
       "    <tr>\n",
       "      <th>2260697</th>\n",
       "      <td>664.0</td>\n",
       "      <td>660.0</td>\n",
       "    </tr>\n",
       "  </tbody>\n",
       "</table>\n",
       "<p>1345310 rows × 2 columns</p>\n",
       "</div>"
      ],
      "text/plain": [
       "         fico_range_high  fico_range_low\n",
       "0                  679.0           675.0\n",
       "1                  719.0           715.0\n",
       "2                  699.0           695.0\n",
       "4                  699.0           695.0\n",
       "5                  694.0           690.0\n",
       "...                  ...             ...\n",
       "2260688            739.0           735.0\n",
       "2260690            709.0           705.0\n",
       "2260691            739.0           735.0\n",
       "2260692            669.0           665.0\n",
       "2260697            664.0           660.0\n",
       "\n",
       "[1345310 rows x 2 columns]"
      ]
     },
     "execution_count": 48,
     "metadata": {},
     "output_type": "execute_result"
    }
   ],
   "source": [
    "loan[['fico_range_high', 'fico_range_low']]"
   ]
  },
  {
   "cell_type": "code",
   "execution_count": 49,
   "id": "f36b75af-6231-45c6-a711-35b103b276ea",
   "metadata": {},
   "outputs": [
    {
     "data": {
      "text/plain": [
       "1122193    1-5 years\n",
       "1779288    1-5 years\n",
       "1779289    1-5 years\n",
       "1281332    1-5 years\n",
       "412021     1-5 years\n",
       "             ...    \n",
       "2260376          NaN\n",
       "2260380          NaN\n",
       "2260392          NaN\n",
       "2260545          NaN\n",
       "2260564          NaN\n",
       "Name: emp_length, Length: 1345310, dtype: object"
      ]
     },
     "execution_count": 49,
     "metadata": {},
     "output_type": "execute_result"
    }
   ],
   "source": [
    "loan['emp_length'].sort_values()"
   ]
  },
  {
   "cell_type": "code",
   "execution_count": 50,
   "id": "fd8be839-8293-4631-87b7-91432909daa1",
   "metadata": {},
   "outputs": [
    {
     "data": {
      "text/plain": [
       "MORTGAGE    665579\n",
       "RENT        534421\n",
       "OWN         144832\n",
       "ANY            286\n",
       "OTHER          144\n",
       "NONE            48\n",
       "Name: home_ownership, dtype: int64"
      ]
     },
     "execution_count": 50,
     "metadata": {},
     "output_type": "execute_result"
    }
   ],
   "source": [
    "loan.home_ownership.value_counts(dropna = False)"
   ]
  },
  {
   "cell_type": "code",
   "execution_count": 51,
   "id": "ed28638f-03b7-419e-8206-2ae7bb352865",
   "metadata": {},
   "outputs": [
    {
     "name": "stdout",
     "output_type": "stream",
     "text": [
      "grade\n",
      "emp_title\n",
      "emp_length\n",
      "home_ownership\n",
      "verification_status\n",
      "issue_d\n",
      "purpose\n",
      "addr_state\n",
      "last_credit_pull_d\n",
      "application_type\n"
     ]
    }
   ],
   "source": [
    "for c in loan.columns:\n",
    "    if loan[c].dtype == 'object':\n",
    "        print(c)"
   ]
  },
  {
   "cell_type": "code",
   "execution_count": 52,
   "id": "55fb5156-8894-4412-928e-1013194bda1c",
   "metadata": {},
   "outputs": [
    {
     "data": {
      "image/png": "[encoded data removed]",
      "text/plain": [
       "<Figure size 432x288 with 1 Axes>"
      ]
     },
     "metadata": {
      "needs_background": "light"
     },
     "output_type": "display_data"
    }
   ],
   "source": [
    "plt.hist(loan.loan_amnt, bins = 10)\n",
    "plt.axvline(np.mean(loan.loan_amnt), color = 'red')\n",
    "plt.xlabel('Loan Amount in USD')\n",
    "plt.ylabel('Values')\n",
    "plt.title('Distribution of Loan Amount');"
   ]
  },
  {
   "cell_type": "code",
   "execution_count": 53,
   "id": "906bb4ff-5c75-4d2a-b2c9-1422698104fd",
   "metadata": {},
   "outputs": [
    {
     "data": {
      "image/png": "[encoded data removed]",
      "text/plain": [
       "<Figure size 432x288 with 1 Axes>"
      ]
     },
     "metadata": {
      "needs_background": "light"
     },
     "output_type": "display_data"
    }
   ],
   "source": [
    "plt.hist(loan.int_rate, bins = 15)\n",
    "plt.axvline(np.mean(loan.int_rate), color = 'red')\n",
    "plt.xlabel('Interest Rate')\n",
    "plt.ylabel('Values')\n",
    "plt.title('Distribution of Interest Rate');"
   ]
  },
  {
   "cell_type": "code",
   "execution_count": 54,
   "id": "52c724dd-e391-471a-8234-1432e40a4e35",
   "metadata": {},
   "outputs": [
    {
     "data": {
      "image/png": "[encoded data removed]",
      "text/plain": [
       "<Figure size 432x288 with 1 Axes>"
      ]
     },
     "metadata": {
      "needs_background": "light"
     },
     "output_type": "display_data"
    }
   ],
   "source": [
    "plt.hist(loan.installment, bins = 15)\n",
    "plt.axvline(np.mean(loan.installment), color = 'red')\n",
    "plt.xlabel('Payment Installment Size')\n",
    "plt.title('Distribution of Installment Size');"
   ]
  },
  {
   "cell_type": "code",
   "execution_count": 55,
   "id": "2c7998e5-72a3-4ae0-9d06-f42c383d0798",
   "metadata": {},
   "outputs": [
    {
     "data": {
      "image/png": "[encoded data removed]",
      "text/plain": [
       "<Figure size 432x288 with 1 Axes>"
      ]
     },
     "metadata": {
      "needs_background": "light"
     },
     "output_type": "display_data"
    }
   ],
   "source": [
    "plt.hist(loan.annual_inc, bins = 2000)\n",
    "plt.axvline(np.mean(loan.annual_inc), color = 'red')\n",
    "plt.ticklabel_format(style='plain', axis='x',useOffset=False)\n",
    "plt.xlabel('Annual Income in USD')\n",
    "plt.ylabel('Values')\n",
    "plt.title('Distribution of Annual Income');"
   ]
  },
  {
   "cell_type": "code",
   "execution_count": 56,
   "id": "9afaaf5e-2455-4499-9090-86f874d71ac9",
   "metadata": {},
   "outputs": [
    {
     "name": "stderr",
     "output_type": "stream",
     "text": [
      "C:\\Users\\eddie\\anaconda3\\lib\\site-packages\\pandas\\core\\arraylike.py:364: RuntimeWarning: divide by zero encountered in log\n",
      "  result = getattr(ufunc, method)(*inputs, **kwargs)\n"
     ]
    }
   ],
   "source": [
    "log_annual = np.log(loan.annual_inc)"
   ]
  },
  {
   "cell_type": "code",
   "execution_count": 57,
   "id": "dc086a8d-b86b-486c-a4d9-63e515fa8f07",
   "metadata": {},
   "outputs": [
    {
     "ename": "SyntaxError",
     "evalue": "unexpected EOF while parsing (<ipython-input-57-5d88646ea4cc>, line 1)",
     "output_type": "error",
     "traceback": [
      "\u001b[1;36m  File \u001b[1;32m\"<ipython-input-57-5d88646ea4cc>\"\u001b[1;36m, line \u001b[1;32m1\u001b[0m\n\u001b[1;33m    loan[loan.annual_inc == 0.0][\u001b[0m\n\u001b[1;37m                                 ^\u001b[0m\n\u001b[1;31mSyntaxError\u001b[0m\u001b[1;31m:\u001b[0m unexpected EOF while parsing\n"
     ]
    }
   ],
   "source": [
    "loan[loan.annual_inc == 0.0]["
   ]
  },
  {
   "cell_type": "code",
   "execution_count": null,
   "id": "650700fd-aa08-4606-a850-307346a4a5b4",
   "metadata": {},
   "outputs": [],
   "source": [
    "plt.hist(log_annual)\n",
    "plt.axvline(np.log(np.mean(loan.annual_inc)), color = 'red')\n",
    "plt.ticklabel_format(style='plain', axis='x',useOffset=False)\n",
    "plt.xlabel('Annual Income in USD')\n",
    "plt.ylabel('Values')\n",
    "plt.title('Distribution of Annual Income');"
   ]
  },
  {
   "cell_type": "code",
   "execution_count": null,
   "id": "57d97dd5-76f6-47fe-a94c-dc9477afddf5",
   "metadata": {},
   "outputs": [],
   "source": [
    "sns.catplot(x = 'loan_status', kind = 'count', data = loan)\n",
    "plt.ticklabel_format(style='plain', axis='y',useOffset=False)\n",
    "plt.title('Loan Status Breakdown')\n",
    "plt.xlabel('Loan Status');"
   ]
  },
  {
   "cell_type": "markdown",
   "id": "2a041e32-0a5b-4fc3-9645-c84f038ea970",
   "metadata": {},
   "source": [
    "Large class imbalance we can see with our dependent variable. Loans that charged-off amount to 261,655 and loans that were fully paid amount to 1,041,952. In simple terms, there are ~4 times as many examples of loans that were fully paid off. Due to the class imbalance, we probably would not use our accuracy score considering if we guessed for all the loans to be fully paid off, we would be accurate at 79.93%. With that, we will use the precision-recall AUC score as it evaluates the faction of true positives among positive predictions."
   ]
  },
  {
   "cell_type": "code",
   "execution_count": null,
   "id": "40473255-5794-46db-8892-01a90cf2e651",
   "metadata": {},
   "outputs": [],
   "source": [
    "1041952/261655"
   ]
  },
  {
   "cell_type": "code",
   "execution_count": null,
   "id": "38b5bd71-d687-43d7-9d34-eba4092b6ef9",
   "metadata": {},
   "outputs": [],
   "source": [
    "loan.describe().T.head(30)"
   ]
  },
  {
   "cell_type": "markdown",
   "id": "f3daff31-6167-487b-9f70-03a29c0fe433",
   "metadata": {},
   "source": [
    "### Models:\n",
    "- Log Reg, tune for regularization\n",
    "- Random Forest Classifier, bagging, diverse set of potential trees to be built\n",
    "- KNN\n",
    "- Naive Bayes(?) - independence of features, need to deal with multicoll.\n",
    "- SVM\n",
    "- Deep Neural Network"
   ]
  },
  {
   "cell_type": "code",
   "execution_count": null,
   "id": "5ace91b4-da90-4229-9be0-4ecf6fa49dc2",
   "metadata": {},
   "outputs": [],
   "source": []
  }
 ],
 "metadata": {
  "kernelspec": {
   "display_name": "Python 3",
   "language": "python",
   "name": "python3"
  },
  "language_info": {
   "codemirror_mode": {
    "name": "ipython",
    "version": 3
   },
   "file_extension": ".py",
   "mimetype": "text/x-python",
   "name": "python",
   "nbconvert_exporter": "python",
   "pygments_lexer": "ipython3",
   "version": "3.8.11"
  }
 },
 "nbformat": 4,
 "nbformat_minor": 5
}
