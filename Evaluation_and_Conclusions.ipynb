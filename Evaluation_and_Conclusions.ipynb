{
 "cells": [
  {
   "cell_type": "markdown",
   "id": "f9e00362-00c9-4e57-a4d0-49d3b57c6260",
   "metadata": {},
   "source": [
    "## Table of Contents\n",
    "1. [Data Visualizations](#section1)\n",
    "2. [Evalution](#section2)\n",
    "3. [Conclusion and Further Improvements](#section3)"
   ]
  },
  {
   "cell_type": "markdown",
   "id": "4239face-be4c-4a8e-bacc-764fae4d9a17",
   "metadata": {},
   "source": [
    "## Data Visualizations <a class='anchor' id='section1'></a>"
   ]
  },
  {
   "cell_type": "markdown",
   "id": "4d05df7c-6705-4ecf-8c77-523338c5550a",
   "metadata": {
    "tags": []
   },
   "source": [
    "#### Imports"
   ]
  },
  {
   "cell_type": "code",
   "execution_count": 121,
   "id": "63fc4c9a-8710-45c0-bf16-e246f05b1670",
   "metadata": {},
   "outputs": [],
   "source": [
    "import pandas as pd\n",
    "import numpy as np\n",
    "import matplotlib.pyplot as plt\n",
    "import seaborn as sns\n",
    "\n",
    "from sklearn.model_selection import train_test_split\n",
    "from sklearn.metrics import precision_recall_curve, auc, roc_curve, roc_auc_score, confusion_matrix, ConfusionMatrixDisplay, precision_score, recall_score, plot_precision_recall_curve, accuracy_score\n",
    "%matplotlib inline"
   ]
  },
  {
   "cell_type": "markdown",
   "id": "24952bfc-a930-42ff-872f-9f41850bfb60",
   "metadata": {},
   "source": [
    "#### Setting up Data"
   ]
  },
  {
   "cell_type": "code",
   "execution_count": 2,
   "id": "fdb431de-e984-4f13-9a8d-7f67ba3c84f8",
   "metadata": {},
   "outputs": [],
   "source": [
    "lr = pd.read_csv('../data/lr_probs.csv')\n",
    "rf = pd.read_csv('../data/rf_probs.csv')\n",
    "knn = pd.read_csv('../data/knn_probs.csv')\n",
    "dnn = pd.read_csv('../data/deep_probs.csv')\n",
    "\n",
    "df = pd.concat([lr,rf,knn,dnn], axis = 1)\n",
    "df.drop('Unnamed: 0', inplace = True, axis = 1)"
   ]
  },
  {
   "cell_type": "code",
   "execution_count": 57,
   "id": "17fc1c21-ca62-4910-be5c-28278fae6085",
   "metadata": {},
   "outputs": [],
   "source": [
    "loan = pd.read_csv('../data/loan_rf_features.csv')"
   ]
  },
  {
   "cell_type": "code",
   "execution_count": 59,
   "id": "101b3332-6d7e-4559-a806-5cb825d33c87",
   "metadata": {},
   "outputs": [],
   "source": [
    "X = pd.get_dummies(loan.drop(columns = ['loan_status']))\n",
    "y = loan['loan_status']\n",
    "\n",
    "X_train, X_test, y_train, y_test = train_test_split(X, y,\n",
    "                                                    random_state = 42,\n",
    "                                                    stratify = y,\n",
    "                                                    test_size= 0.2)\n"
   ]
  },
  {
   "cell_type": "markdown",
   "id": "65755549-20b4-40bc-9880-531952e6e612",
   "metadata": {},
   "source": [
    "#### Creating dataframe with all scores"
   ]
  },
  {
   "cell_type": "code",
   "execution_count": 154,
   "id": "98ba13e2-bac7-4c97-a9b0-a8345973fdc3",
   "metadata": {},
   "outputs": [],
   "source": [
    "roc = []\n",
    "precs = []\n",
    "recs = []\n",
    "pr_auc = []\n",
    "accs = []\n",
    "#For loop making lists of all scores\n",
    "for c in df.columns:\n",
    "    score = roc_auc_score(y_test, df[c])\n",
    "    roc.append([c,score])\n",
    "    \n",
    "    prcs = precision_score(y_test, df[c].round())\n",
    "    precs.append([c, prcs])\n",
    "    \n",
    "    rec = recall_score(y_test, df[c].round())\n",
    "    recs.append([c, rec])\n",
    "    \n",
    "    precision, recall, _ = precision_recall_curve(y_test, df[c])\n",
    "    \n",
    "    p_r_auc = auc(recall, precision)\n",
    "    pr_auc.append([c, p_r_auc])\n",
    "    \n",
    "    acc = accuracy_score(y_test, df[c].round())\n",
    "    accs.append([c,acc])\n",
    "\n",
    "#Making dataframes and merging\n",
    "roc = pd.DataFrame(roc, columns = ['model', 'roc_score'])\n",
    "precs = pd.DataFrame(precs, columns = ['model', 'precision_score'])\n",
    "recs = pd.DataFrame(recs, columns = ['model', 'recall_score'])\n",
    "pr_auc = pd.DataFrame(pr_auc, columns = ['model', 'pr_auc'])\n",
    "accs = pd.DataFrame(accs, columns = ['model', 'accuracy_score'])\n",
    "\n",
    "scores = roc.merge(precs).merge(recs).merge(pr_auc).merge(accs)\n",
    "    \n",
    "scores['model'] = ['logistic_regression', 'random_forest', 'k_nearest', 'deep_neural_net']\n"
   ]
  },
  {
   "cell_type": "code",
   "execution_count": 155,
   "id": "858fef0e-5613-407b-9b68-95c58cd5bdcc",
   "metadata": {},
   "outputs": [
    {
     "data": {
      "text/html": [
       "<div>\n",
       "<style scoped>\n",
       "    .dataframe tbody tr th:only-of-type {\n",
       "        vertical-align: middle;\n",
       "    }\n",
       "\n",
       "    .dataframe tbody tr th {\n",
       "        vertical-align: top;\n",
       "    }\n",
       "\n",
       "    .dataframe thead th {\n",
       "        text-align: right;\n",
       "    }\n",
       "</style>\n",
       "<table border=\"1\" class=\"dataframe\">\n",
       "  <thead>\n",
       "    <tr style=\"text-align: right;\">\n",
       "      <th></th>\n",
       "      <th>model</th>\n",
       "      <th>roc_score</th>\n",
       "      <th>precision_score</th>\n",
       "      <th>recall_score</th>\n",
       "      <th>pr_auc</th>\n",
       "      <th>accuracy_score</th>\n",
       "    </tr>\n",
       "  </thead>\n",
       "  <tbody>\n",
       "    <tr>\n",
       "      <th>0</th>\n",
       "      <td>logistic_regression</td>\n",
       "      <td>0.945777</td>\n",
       "      <td>0.791151</td>\n",
       "      <td>0.685354</td>\n",
       "      <td>0.796784</td>\n",
       "      <td>0.901520</td>\n",
       "    </tr>\n",
       "    <tr>\n",
       "      <th>1</th>\n",
       "      <td>random_forest</td>\n",
       "      <td>0.950311</td>\n",
       "      <td>0.761255</td>\n",
       "      <td>0.772534</td>\n",
       "      <td>0.824863</td>\n",
       "      <td>0.906651</td>\n",
       "    </tr>\n",
       "    <tr>\n",
       "      <th>2</th>\n",
       "      <td>k_nearest</td>\n",
       "      <td>0.915068</td>\n",
       "      <td>0.786066</td>\n",
       "      <td>0.563450</td>\n",
       "      <td>0.756691</td>\n",
       "      <td>0.882775</td>\n",
       "    </tr>\n",
       "    <tr>\n",
       "      <th>3</th>\n",
       "      <td>deep_neural_net</td>\n",
       "      <td>0.950571</td>\n",
       "      <td>0.759589</td>\n",
       "      <td>0.773754</td>\n",
       "      <td>0.823277</td>\n",
       "      <td>0.906374</td>\n",
       "    </tr>\n",
       "  </tbody>\n",
       "</table>\n",
       "</div>"
      ],
      "text/plain": [
       "                 model  roc_score  precision_score  recall_score    pr_auc  \\\n",
       "0  logistic_regression   0.945777         0.791151      0.685354  0.796784   \n",
       "1        random_forest   0.950311         0.761255      0.772534  0.824863   \n",
       "2            k_nearest   0.915068         0.786066      0.563450  0.756691   \n",
       "3      deep_neural_net   0.950571         0.759589      0.773754  0.823277   \n",
       "\n",
       "   accuracy_score  \n",
       "0        0.901520  \n",
       "1        0.906651  \n",
       "2        0.882775  \n",
       "3        0.906374  "
      ]
     },
     "execution_count": 155,
     "metadata": {},
     "output_type": "execute_result"
    }
   ],
   "source": [
    "scores"
   ]
  },
  {
   "cell_type": "markdown",
   "id": "636bbc8a-0487-490d-877c-c56e6bfbdaa7",
   "metadata": {},
   "source": [
    "#### Plotting PR-ROC Curves for all models"
   ]
  },
  {
   "cell_type": "code",
   "execution_count": 153,
   "id": "db5f329c-ea05-4a3e-9992-aeb8fd03124b",
   "metadata": {},
   "outputs": [
    {
     "data": {
      "image/png": "[encoded data removed]",
      "text/plain": [
       "<Figure size 864x576 with 1 Axes>"
      ]
     },
     "metadata": {
      "needs_background": "light"
     },
     "output_type": "display_data"
    }
   ],
   "source": [
    "no_skill = len(y_test[y_test == 1]) / len(y_test)\n",
    "plt.figure(figsize = (12,8))\n",
    "plt.plot( [no_skill, no_skill], linestyle = '--', label = 'Baseline')\n",
    "\n",
    "precision, recall, _ = precision_recall_curve(y_test, df['lr_probs'])\n",
    "plt.plot(recall, precision, marker = '.', label = 'Logistic Regression', markersize = 0.01)\n",
    "\n",
    "precision, recall, _ = precision_recall_curve(y_test, df['rf_probs'])\n",
    "plt.plot(recall, precision, marker = '.', label = 'Random Forest', markersize = 0.01, color = 'black')\n",
    "\n",
    "precision, recall, _ = precision_recall_curve(y_test, df['knn_probs'])\n",
    "plt.plot(recall, precision, marker = '.', label = 'K-Nearest Neighbors', markersize = 0.01)\n",
    "\n",
    "precision, recall, _ = precision_recall_curve(y_test, df['deep_probs'])\n",
    "plt.plot(recall, precision, marker = '.', label = 'Deep Neural Network', markersize = 0.1)\n",
    "\n",
    "plt.xlabel('Recall')\n",
    "plt.ylabel('Precision')\n",
    "plt.title('Precision - Recall Curve')\n",
    "plt.legend(loc = 'lower left')\n",
    "\n",
    "plt.savefig('../images/pr_curve.png')\n",
    "plt.show();"
   ]
  },
  {
   "cell_type": "markdown",
   "id": "f77c8646-c55c-4dac-87bd-2f0121b6e8fd",
   "metadata": {},
   "source": [
    "## Evaluation <a class='anchor' id='section2'></a>"
   ]
  },
  {
   "cell_type": "markdown",
   "id": "d8a97910-be7f-4900-8811-7639490dc572",
   "metadata": {},
   "source": [
    "In the interest of minimizing the number of false negatives, we are looking to evluate our models based upon their Precision-Recall AUC score, while also taking the recall score into account. We want to minimize the number of false negatives as false negatives indicate a loan that is predicted to be paid in full, but instead ends up in default. Due to the case that our data has imbalanced classes, we cannot use our accuracy score to judge our models due to the accuracy paradox. The accuracy paradox, in short, basically conveys we cannot use accuracy as a scale of effectiveness due to the fact that choosing our majority class as a prediction for all predictions would still lead us to a high accuracy score. In this case, we could guess that all loans would be paid in full and we would be correct 80% of the time. "
   ]
  },
  {
   "cell_type": "markdown",
   "id": "a35eaeaa-fdbb-4328-af70-0279a4364559",
   "metadata": {},
   "source": [
    "In looking at our models, the Random Forest model, with GridSearchCV-tuned hyperparameters and feature selection, performed the best. It only performed slightly better than our Deep Neural Network and that is by 0.0015 in terms of the Precision-Recall AUC score. We can see this when looking at all of our models shown on the Precision-Recall Curve figure above. Random Forest and Deep Neural Network are almost identical and the Logistic Regression model falls shortly behind. In addition to being the worst model, the K-Nearest Neighbors classifier also took the longest to train due to its matrix multiplication stored in local memory. K-Nearest Neighbors models do not perform too well with large datasets such as ours, but in future models, we hope to adjust the number of neighbors more as KNN models generally do well with binary classification. The Random Forest model also had the closest precision and recall scores, but overall the Deep Neural Network had the highest recall score, but by a very very miniscule margin. Interestingly, our Deep Neural Network had a >90% recall rate when we reduced the number of neurons, but at the expense of our accuracy as well as precision. The precision score would drop to around ~60%. Despite this fact, we use the PR-AUC score to judge our models due to the fact that it summarizes the skill of our model across thresholds. Higher scores for both our precision and recall shows that our classifier returns accurate results while also returning a majority of all positive results (minority class - loan default). However, the difference between the Random Forest and DNN models is marginal and both would perform about equally in terms of accuracy as well. "
   ]
  },
  {
   "cell_type": "markdown",
   "id": "638db097-c01b-430d-920a-53196f1b5115",
   "metadata": {},
   "source": [
    "In comparison to our baseline model, the Random Forest model is a significant improvement. The recall score and precision score for our baseline model, which was calculated using a DummyClassifier, was ~20%. With a recall score of 77%, we can say that our model is effective at its job. The accuracy score for the Random Forest model was also ~90% which outperforms the baseline model by around 20% as the baseline is at ~68%. The DummyClassifier works by generating guesses on the binary prediction while taking into consideration the class distribution. Even if accuracy score was used as an evaluation metric, our model would still perform better than by simply guessing the majority class. "
   ]
  },
  {
   "cell_type": "markdown",
   "id": "f684ed06-4b80-4535-8c95-4a5f77a85448",
   "metadata": {},
   "source": [
    "## Conclusion and Further Improvements <a id='section3'></a>"
   ]
  },
  {
   "cell_type": "markdown",
   "id": "7a937bc8-da15-40da-b202-6151c219020c",
   "metadata": {},
   "source": [
    "In this study, we aimed to create and demonstrate a model that can aid in loan default prediction. We built supervised learning models that generate binary classification predictions using features that are present in a traditional loan screening. With this, we can efficientaly classify loan applicants in advance and prevent financial loss without the financial rents spent by traditional financial institutions to satisfy their risk profile. With growing demand for P2P lending as well as the integration of financial technologies into many storefronts, our study should benefit many investors as less defaults will occur in loan screening with our model. \n",
    "\n",
    "Our Random Forest classifier performed the best when observing the Precision-Recall AUC score and with our Random Forest model, we can also extract feature importance. We found that FICO scores, interest rate, debt-to-income-ratio, installment size, and average current balance were important in our models. We also examined the coefficients from our logistic regression model since it still performed well, although with a much worse recall score. In terms of accuracy, it still ranked well  with a 90.1% accuracy score, so we may derive some explanatory power. Increases in FICO score led to a huge decrease in likelihood of default (94%), while annual income also saw the same relationship albeit at 12%. Increases in debt-to-income ratio, installment, and term saw increases in likelihood of default.\n",
    "\n",
    "With this being a work in progress, we hope to improve our model by implementing several strategies with our data, modeling, and further studies. Due to the case that we have imbalanced classes, we will implement random undersampling as well as SMOTE with our minority class. Our data set is fairly large so it does not seem out of this world to undersample our majority class as we had ~1 million samples of this specified class. We would also look to implement probability tuning and threshold tuning to extract strong effectiveness out of our models in terms of our evaluation metrics (recall and precision-recall area-under-the-curve score). In addition to this, we were only able to model using 4 different algorithms, but seeing how our ensemble model (Random Forest) performed, we will also look to model using XGBoost and Extra Trees. Support Vector Machine classifiers also perform well due to the usage of kernel tricks but generally perform better on sparse data. There have been strategies created to aid in SVMs modeled on large data sets, specifically the minimum enclosing ball clustering method. We can also improve our models by reducing the complexity of our data such as removing unnecessary categorical features, as many of them were insignficant in the predictions of our models. We can also reduce the number of correlated features and deploy Recursive Feature Elimination to aid in our linear algorithms. \n",
    "\n"
   ]
  }
 ],
 "metadata": {
  "kernelspec": {
   "display_name": "Python 3",
   "language": "python",
   "name": "python3"
  },
  "language_info": {
   "codemirror_mode": {
    "name": "ipython",
    "version": 3
   },
   "file_extension": ".py",
   "mimetype": "text/x-python",
   "name": "python",
   "nbconvert_exporter": "python",
   "pygments_lexer": "ipython3",
   "version": "3.8.11"
  }
 },
 "nbformat": 4,
 "nbformat_minor": 5
}
