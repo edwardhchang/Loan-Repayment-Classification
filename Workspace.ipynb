{
 "cells": [
  {
   "cell_type": "code",
   "execution_count": 1,
   "id": "c8237a57-57f7-415e-b174-4a0b34cf9d46",
   "metadata": {},
   "outputs": [],
   "source": [
    "drop_col = ['id', 'member_id', 'funded_amnt', 'funded_amnt_inv', 'sub_grade', 'pymnt_plan', 'url', 'desc', 'title', 'zip_code',  'earliest_cr_line', 'initial_list_status',\n",
    " 'out_prncp', 'out_prncp_inv', 'total_pymnt', 'total_pymnt_inv', 'total_rec_prncp', 'total_rec_int',\n",
    "            'total_rec_late_fee', 'recoveries', 'collection_recovery_fee', 'last_pymnt_d', 'last_pymnt_amnt',\n",
    "            'next_pymnt_d', 'collections_12_mths_ex_med', 'policy_code', 'tot_coll_amt', 'tot_cur_bal',\n",
    "            'bc_open_to_buy', 'hardship_flag', 'hardship_type', 'hardship_reason', 'hardship_status', 'deferral_term', 'hardship_amount',\n",
    "            'hardship_start_date', 'hardship_end_date', 'payment_plan_start_date', 'hardship_length',\n",
    "            'hardship_dpd', 'hardship_loan_status', 'orig_projected_additional_accrued_interest', 'hardship_payoff_balance_amount',\n",
    "            'hardship_last_payment_amount', 'disbursement_method', 'debt_settlement_flag', 'debt_settlement_flag_date',\n",
    "            'settlement_status', 'settlement_date', 'settlement_amount', 'settlement_percentage', 'settlement_term', 'verification_status', 'mths_since_last_delinq', 'mths_since_last_record', 'last_credit_pull_d', 'mths_since_last_majr_derog', 'total_rev_hi_lim', 'acc_open_past_24mths', 'b_util', 'mo_sin_old_il_acct', 'mos_sin_old_rev_tl_op', 'mo_sin_rcnt_rev_tl_op', 'mo_sin_rcnt_tl', 'mort_acc', 'mths_since_recent_bc', 'mths_since_recent_inq', 'num_accts_ever_120_pd', 'num_actv_bc_tl', 'num_actv_rev_tl', 'num_bc_sats', 'num_bc_tl', 'num_il_tl', 'num_op_rev_tl', 'num_rev_accts', 'num_rev_tl_bal_gt_0', 'num_sats', 'num_tl_120dpd_2m', 'num_tl_30dpd', 'num_tl_90g_dpd_24m', 'num_tl_op_past_12m', 'pct_tl_nvr_dlq', 'percent_bc_gt_75', 'tot_hi_cred_lim', 'total_bal_ex_mort', 'total_bc_limit', 'total_il_high_credit_limit'\n",
    "]"
   ]
  },
  {
   "cell_type": "markdown",
   "id": "0ab473b5-e680-4122-8a73-cf00b115b774",
   "metadata": {},
   "source": [
    "Average of fico (due to fico range low to high), no direct or absolute value of FICO for both primary and secondary borrwoer"
   ]
  },
  {
   "cell_type": "markdown",
   "id": "8233a275-e9ce-46bd-aa20-a99ec2aba842",
   "metadata": {},
   "source": [
    "Transform features: loan amount, annual income"
   ]
  },
  {
   "cell_type": "markdown",
   "id": "899171e7-5f33-41a0-8ed4-b19b24af72aa",
   "metadata": {},
   "source": [
    "Possibly dive deeper into small_business and if there is a larger prevalence of charge-off rate in these types of loans."
   ]
  },
  {
   "cell_type": "code",
   "execution_count": null,
   "id": "57080189-dc5b-4493-9ed4-69a558fa799f",
   "metadata": {},
   "outputs": [],
   "source": [
    "DROP = ['emp_title']"
   ]
  },
  {
   "cell_type": "markdown",
   "id": "ac418d25-3d20-435d-886a-1a5b2a18885b",
   "metadata": {},
   "source": [
    "'verification_status', 'mths_since_last_delinq', 'mths_since_last_record', 'last_credit_pull_d', 'mths_since_last_majr_derog', 'total_rev_hi_lim', 'acc_open_past_24mths', 'b_util', 'mo_sin_old_il_acct', 'mos_sin_old_rev_tl_op', 'mo_sin_rcnt_rev_tl_op', 'mo_sin_rcnt_tl', 'mort_acc', 'mths_since_recent_bc', 'mths_since_recent_inq', 'num_accts_ever_120_pd', 'num_actv_bc_tl', 'num_actv_rev_tl', 'num_bc_sats', 'num_bc_tl', 'num_il_tl', 'num_op_rev_tl', 'num_rev_accts', 'num_rev_tl_bal_gt_0', 'num_sats', 'num_tl_120dpd_2m', 'num_tl_30dpd', 'num_tl_90g_dpd_24m', 'num_tl_op_past_12m', 'pct_tl_nvr_dlq', 'percent_bc_gt_75', 'tot_hi_cred_lim', 'total_bal_ex_mort', 'total_bc_limit', 'total_il_high_credit_limit'"
   ]
  },
  {
   "cell_type": "code",
   "execution_count": null,
   "id": "f92ca2ae-9711-4efb-8b49-2e3446a04782",
   "metadata": {},
   "outputs": [],
   "source": [
    "#rop_col = ['id', 'member_id', 'funded_amnt', 'funded_amnt_inv', 'sub_grade', 'pymnt_plan', 'url', 'desc', 'title', 'zip_code',  'earliest_cr_line', 'initial_list_status',\n",
    " 'out_prncp', 'out_prncp_inv', 'total_pymnt', 'total_pymnt_inv', 'total_rec_prncp', 'total_rec_int',\n",
    "            'total_rec_late_fee', 'recoveries', 'collection_recovery_fee', 'last_pymnt_d', 'last_pymnt_amnt',\n",
    "            'next_pymnt_d', 'collections_12_mths_ex_med', 'policy_code', 'tot_coll_amt', 'tot_cur_bal',\n",
    "            'bc_open_to_buy', 'hardship_flag', 'hardship_type', 'hardship_reason', 'hardship_status', 'deferral_term', 'hardship_amount',\n",
    "            'hardship_start_date', 'hardship_end_date', 'payment_plan_start_date', 'hardship_length',\n",
    "            'hardship_dpd', 'hardship_loan_status', 'orig_projected_additional_accrued_interest', 'hardship_payoff_balance_amount',\n",
    "            'hardship_last_payment_amount', 'disbursement_method', 'debt_settlement_flag', 'debt_settlement_flag_date',\n",
    "            'settlement_status', 'settlement_date', 'settlement_amount', 'settlement_percentage', 'settlement_term', 'verification_status',\n",
    "            'mths_since_last_delinq', 'mths_since_last_record', 'last_credit_pull_d', 'mths_since_last_major_derog', 'total_rev_hi_lim', \n",
    "            'acc_open_past_24mths', 'bc_util', 'mo_sin_old_il_acct', 'mo_sin_old_rev_tl_op', 'mo_sin_rcnt_rev_tl_op', 'mo_sin_rcnt_tl', \n",
    "            'mort_acc', 'mths_since_recent_bc', 'mths_since_recent_inq', 'num_accts_ever_120_pd', 'num_actv_bc_tl', 'num_actv_rev_tl', 'num_bc_sats', \n",
    "            'num_bc_tl', 'num_il_tl', 'num_op_rev_tl', 'num_rev_accts', 'num_rev_tl_bal_gt_0', 'num_sats', 'num_tl_120dpd_2m', 'num_tl_30dpd', \n",
    "            'num_tl_90g_dpd_24m', 'num_tl_op_past_12m', 'pct_tl_nvr_dlq', 'percent_bc_gt_75', 'tot_hi_cred_lim', 'total_bal_ex_mort', 'total_bc_limit', \n",
    "            'total_il_high_credit_limit'\n",
    "]"
   ]
  }
 ],
 "metadata": {
  "kernelspec": {
   "display_name": "Python 3",
   "language": "python",
   "name": "python3"
  },
  "language_info": {
   "codemirror_mode": {
    "name": "ipython",
    "version": 3
   },
   "file_extension": ".py",
   "mimetype": "text/x-python",
   "name": "python",
   "nbconvert_exporter": "python",
   "pygments_lexer": "ipython3",
   "version": "3.8.11"
  }
 },
 "nbformat": 4,
 "nbformat_minor": 5
}
