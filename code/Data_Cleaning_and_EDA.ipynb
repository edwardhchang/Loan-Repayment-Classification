{
 "cells": [
  {
   "cell_type": "markdown",
   "id": "1e57f1dd-19a4-4bf1-ac26-7794c20f3462",
   "metadata": {},
   "source": [
    "## Table of Contents\n",
    "\n",
    "1. [Data Imports and Cleaning](#dimports)\n",
    "2. [EDA](#eda)\n",
    "3. [Exporting Data](#export)"
   ]
  },
  {
   "cell_type": "markdown",
   "id": "6c2346c7-9489-4cfb-8bc9-a7fb600e4787",
   "metadata": {
    "tags": []
   },
   "source": [
    "#### Background\n",
    "\n",
    "Loans provide the opportunity to link up lenders with those in need of capital. The investors make profit due to interest tacked onto the loan. However, not all loans see their principal paid until the end, and when the loan is not paid-in-full (PIF) then the loan is charged-off. When this occurs, the lender loses money and due to the chance of charge-off when it comes to personal loans, it is imperative that the platforms providing this link between lenders and borrowers have a risk model to mitigate potential charge-off based on borrower information. This study aims to train several machine learning models to classify if a borrower will repay the loan or potentially charge-off using Lending Tree data from 2007 - 2015. The guiding metric will be the area under the ROC curve (AUC), specifically the precision-recall AUC score. \n",
    "    "
   ]
  },
  {
   "cell_type": "markdown",
   "id": "6ec6377c-671d-49ac-92c6-505ada9bdc7c",
   "metadata": {},
   "source": [
    "Possible Risks and Assumptions:\n",
    "\n",
    "- Data comes from Kaggle and is application data, there can be missing data at random\n",
    "- Both linear and non-linear relationships between variables which we can address in models\n",
    "- Multicollinearity in our dependent variables due to many of them being credit-related (card utilization, accounts present)\n",
    "- Data is coming from Lending Club which may have a certain limitation of scope, mainly personal loans capped at 40_000 which doesn't reflect all types of loans and loan amounts\n",
    "- We would assume our observations/specific loan data are independent (can check to see if there are renewal loans...perhaps shared ID)"
   ]
  },
  {
   "cell_type": "markdown",
   "id": "a22fa6b5-17a2-4d2c-a2f1-c6908e1c02b1",
   "metadata": {},
   "source": [
    "<a class='anchor' id='dimports'></a>\n",
    "## Data Imports and Cleaning "
   ]
  },
  {
   "cell_type": "code",
   "execution_count": 1,
   "id": "eae41a3b-0480-4c9a-ab63-0891d28fc483",
   "metadata": {},
   "outputs": [],
   "source": [
    "import pandas as pd\n",
    "import numpy as np\n",
    "from scipy import stats\n",
    "from sklearn.preprocessing import StandardScaler\n",
    "from sklearn.model_selection import train_test_split\n",
    "import matplotlib.pyplot as plt\n",
    "import seaborn as sns\n",
    "import datetime\n",
    "\n",
    "%matplotlib inline\n",
    "\n",
    "import warnings\n",
    "warnings.filterwarnings('ignore')"
   ]
  },
  {
   "cell_type": "code",
   "execution_count": 2,
   "id": "79db85b4-124a-45f7-8d02-481c90b39583",
   "metadata": {},
   "outputs": [
    {
     "name": "stderr",
     "output_type": "stream",
     "text": [
      "C:\\Users\\eddie\\anaconda3\\lib\\site-packages\\IPython\\core\\interactiveshell.py:3441: DtypeWarning: Columns (0,19,49,59,118,129,130,131,134,135,136,139,145,146,147) have mixed types.Specify dtype option on import or set low_memory=False.\n",
      "  exec(code_obj, self.user_global_ns, self.user_ns)\n"
     ]
    }
   ],
   "source": [
    "# Reading in our data from Kaggle, all accepted loans from 2007 to 2018 Q4\n",
    "loan = pd.read_csv('../data/accepted_2007_to_2018Q4.csv')"
   ]
  },
  {
   "cell_type": "code",
   "execution_count": 3,
   "id": "17eab86c-61e2-42fc-bcb1-d8c3f56f2b9d",
   "metadata": {},
   "outputs": [
    {
     "data": {
      "text/plain": [
       "(2260701, 151)"
      ]
     },
     "execution_count": 3,
     "metadata": {},
     "output_type": "execute_result"
    }
   ],
   "source": [
    "#Checking loan size\n",
    "loan.shape"
   ]
  },
  {
   "cell_type": "markdown",
   "id": "337aaa3f-ac40-49c0-8b69-eeb6ccdb8bbc",
   "metadata": {},
   "source": [
    "We are reducing the number of features to those that will be present to an investor when presented with a loan application. This would include information such as the loan amount, term of the loan, interest rate, debt-to-income ratio, FICO score, and basic credit history. There were multiple features in the original data set for secondary applicants as there were loans for joint applications. For this study, we will solely model using individual loans and their associated applicant information. "
   ]
  },
  {
   "cell_type": "code",
   "execution_count": 4,
   "id": "89a1ee5f-5df9-4604-9caf-d7a3c9a683d8",
   "metadata": {},
   "outputs": [],
   "source": [
    "col_list = ['loan_amnt', 'term', 'int_rate', 'installment',\n",
    "       'emp_length', 'home_ownership', 'annual_inc', 'issue_d', 'loan_status',\n",
    "       'purpose', 'dti', 'delinq_2yrs', 'fico_range_low',\n",
    "       'fico_range_high', 'inq_last_6mths', 'open_acc', 'total_acc', 'pub_rec', 'revol_bal', 'earliest_cr_line',\n",
    "       'revol_util', 'last_fico_range_high',\n",
    "       'last_fico_range_low', 'application_type', 'acc_now_delinq',\n",
    "       'avg_cur_bal', 'delinq_amnt',\n",
    "       'pub_rec_bankruptcies', 'tax_liens', 'mort_acc']"
   ]
  },
  {
   "cell_type": "code",
   "execution_count": 5,
   "id": "77f37349-684a-48b9-8e48-95cdbb9ee643",
   "metadata": {},
   "outputs": [],
   "source": [
    "#Dropping all features not listed in code above\n",
    "loan = loan[col_list]"
   ]
  },
  {
   "cell_type": "code",
   "execution_count": 6,
   "id": "835b4d52-8892-4e8a-adf4-437f3e4bf7c0",
   "metadata": {},
   "outputs": [],
   "source": [
    "#Setting issued date as date time\n",
    "loan['issue_d'] = pd.to_datetime(loan['issue_d'])"
   ]
  },
  {
   "cell_type": "markdown",
   "id": "1e61e1e4-d34f-4ede-9011-9cfe451906bf",
   "metadata": {},
   "source": [
    "Here, we see that the raw dataset has '2,260,701' loans, which we've reduced to 32 features, including our predicted value ('loan_status'). "
   ]
  },
  {
   "cell_type": "code",
   "execution_count": 7,
   "id": "42d00df3-eef7-4835-a287-93803f996c83",
   "metadata": {},
   "outputs": [],
   "source": [
    "#Creating a function that will make a dataframe with all features, datatype, unique values, and null values\n",
    "def data_summary(df):\n",
    "    features = []\n",
    "    dtypes = []\n",
    "    unique = []\n",
    "    null_values = []\n",
    "    \n",
    "    for c in df.columns:\n",
    "        features.append(c)\n",
    "        dtypes.append(df[c].dtype)\n",
    "        unique.append(df[c].nunique())\n",
    "        null_values.append(df[c].isna().sum())\n",
    "    \n",
    "    dict = {\n",
    "        'feature' : features,\n",
    "        'dtype' : dtypes,\n",
    "        'unique_val' : unique,\n",
    "        'null_values': null_values\n",
    "    }\n",
    "    \n",
    "    data = pd.DataFrame(dict)\n",
    "    return data"
   ]
  },
  {
   "cell_type": "code",
   "execution_count": 8,
   "id": "19137b46-1fd4-45ca-92af-68b4c32199bc",
   "metadata": {},
   "outputs": [
    {
     "data": {
      "text/html": [
       "<div>\n",
       "<style scoped>\n",
       "    .dataframe tbody tr th:only-of-type {\n",
       "        vertical-align: middle;\n",
       "    }\n",
       "\n",
       "    .dataframe tbody tr th {\n",
       "        vertical-align: top;\n",
       "    }\n",
       "\n",
       "    .dataframe thead th {\n",
       "        text-align: right;\n",
       "    }\n",
       "</style>\n",
       "<table border=\"1\" class=\"dataframe\">\n",
       "  <thead>\n",
       "    <tr style=\"text-align: right;\">\n",
       "      <th></th>\n",
       "      <th>feature</th>\n",
       "      <th>dtype</th>\n",
       "      <th>unique_val</th>\n",
       "      <th>null_values</th>\n",
       "    </tr>\n",
       "  </thead>\n",
       "  <tbody>\n",
       "    <tr>\n",
       "      <th>8</th>\n",
       "      <td>loan_status</td>\n",
       "      <td>object</td>\n",
       "      <td>9</td>\n",
       "      <td>33</td>\n",
       "    </tr>\n",
       "    <tr>\n",
       "      <th>5</th>\n",
       "      <td>home_ownership</td>\n",
       "      <td>object</td>\n",
       "      <td>6</td>\n",
       "      <td>33</td>\n",
       "    </tr>\n",
       "    <tr>\n",
       "      <th>1</th>\n",
       "      <td>term</td>\n",
       "      <td>object</td>\n",
       "      <td>2</td>\n",
       "      <td>33</td>\n",
       "    </tr>\n",
       "    <tr>\n",
       "      <th>23</th>\n",
       "      <td>application_type</td>\n",
       "      <td>object</td>\n",
       "      <td>2</td>\n",
       "      <td>33</td>\n",
       "    </tr>\n",
       "    <tr>\n",
       "      <th>9</th>\n",
       "      <td>purpose</td>\n",
       "      <td>object</td>\n",
       "      <td>14</td>\n",
       "      <td>33</td>\n",
       "    </tr>\n",
       "    <tr>\n",
       "      <th>19</th>\n",
       "      <td>earliest_cr_line</td>\n",
       "      <td>object</td>\n",
       "      <td>754</td>\n",
       "      <td>62</td>\n",
       "    </tr>\n",
       "    <tr>\n",
       "      <th>4</th>\n",
       "      <td>emp_length</td>\n",
       "      <td>object</td>\n",
       "      <td>11</td>\n",
       "      <td>146940</td>\n",
       "    </tr>\n",
       "    <tr>\n",
       "      <th>26</th>\n",
       "      <td>delinq_amnt</td>\n",
       "      <td>float64</td>\n",
       "      <td>2617</td>\n",
       "      <td>62</td>\n",
       "    </tr>\n",
       "    <tr>\n",
       "      <th>25</th>\n",
       "      <td>avg_cur_bal</td>\n",
       "      <td>float64</td>\n",
       "      <td>88597</td>\n",
       "      <td>70379</td>\n",
       "    </tr>\n",
       "    <tr>\n",
       "      <th>18</th>\n",
       "      <td>revol_bal</td>\n",
       "      <td>float64</td>\n",
       "      <td>102251</td>\n",
       "      <td>33</td>\n",
       "    </tr>\n",
       "    <tr>\n",
       "      <th>24</th>\n",
       "      <td>acc_now_delinq</td>\n",
       "      <td>float64</td>\n",
       "      <td>9</td>\n",
       "      <td>62</td>\n",
       "    </tr>\n",
       "    <tr>\n",
       "      <th>27</th>\n",
       "      <td>pub_rec_bankruptcies</td>\n",
       "      <td>float64</td>\n",
       "      <td>12</td>\n",
       "      <td>1398</td>\n",
       "    </tr>\n",
       "    <tr>\n",
       "      <th>22</th>\n",
       "      <td>last_fico_range_low</td>\n",
       "      <td>float64</td>\n",
       "      <td>71</td>\n",
       "      <td>33</td>\n",
       "    </tr>\n",
       "    <tr>\n",
       "      <th>21</th>\n",
       "      <td>last_fico_range_high</td>\n",
       "      <td>float64</td>\n",
       "      <td>72</td>\n",
       "      <td>33</td>\n",
       "    </tr>\n",
       "    <tr>\n",
       "      <th>20</th>\n",
       "      <td>revol_util</td>\n",
       "      <td>float64</td>\n",
       "      <td>1430</td>\n",
       "      <td>1835</td>\n",
       "    </tr>\n",
       "    <tr>\n",
       "      <th>28</th>\n",
       "      <td>tax_liens</td>\n",
       "      <td>float64</td>\n",
       "      <td>42</td>\n",
       "      <td>138</td>\n",
       "    </tr>\n",
       "    <tr>\n",
       "      <th>0</th>\n",
       "      <td>loan_amnt</td>\n",
       "      <td>float64</td>\n",
       "      <td>1572</td>\n",
       "      <td>33</td>\n",
       "    </tr>\n",
       "    <tr>\n",
       "      <th>15</th>\n",
       "      <td>open_acc</td>\n",
       "      <td>float64</td>\n",
       "      <td>91</td>\n",
       "      <td>62</td>\n",
       "    </tr>\n",
       "    <tr>\n",
       "      <th>17</th>\n",
       "      <td>pub_rec</td>\n",
       "      <td>float64</td>\n",
       "      <td>43</td>\n",
       "      <td>62</td>\n",
       "    </tr>\n",
       "    <tr>\n",
       "      <th>16</th>\n",
       "      <td>total_acc</td>\n",
       "      <td>float64</td>\n",
       "      <td>152</td>\n",
       "      <td>62</td>\n",
       "    </tr>\n",
       "    <tr>\n",
       "      <th>14</th>\n",
       "      <td>inq_last_6mths</td>\n",
       "      <td>float64</td>\n",
       "      <td>28</td>\n",
       "      <td>63</td>\n",
       "    </tr>\n",
       "    <tr>\n",
       "      <th>13</th>\n",
       "      <td>fico_range_high</td>\n",
       "      <td>float64</td>\n",
       "      <td>48</td>\n",
       "      <td>33</td>\n",
       "    </tr>\n",
       "    <tr>\n",
       "      <th>12</th>\n",
       "      <td>fico_range_low</td>\n",
       "      <td>float64</td>\n",
       "      <td>48</td>\n",
       "      <td>33</td>\n",
       "    </tr>\n",
       "    <tr>\n",
       "      <th>11</th>\n",
       "      <td>delinq_2yrs</td>\n",
       "      <td>float64</td>\n",
       "      <td>37</td>\n",
       "      <td>62</td>\n",
       "    </tr>\n",
       "    <tr>\n",
       "      <th>10</th>\n",
       "      <td>dti</td>\n",
       "      <td>float64</td>\n",
       "      <td>10845</td>\n",
       "      <td>1744</td>\n",
       "    </tr>\n",
       "    <tr>\n",
       "      <th>7</th>\n",
       "      <td>issue_d</td>\n",
       "      <td>datetime64[ns]</td>\n",
       "      <td>139</td>\n",
       "      <td>33</td>\n",
       "    </tr>\n",
       "    <tr>\n",
       "      <th>6</th>\n",
       "      <td>annual_inc</td>\n",
       "      <td>float64</td>\n",
       "      <td>89368</td>\n",
       "      <td>37</td>\n",
       "    </tr>\n",
       "    <tr>\n",
       "      <th>3</th>\n",
       "      <td>installment</td>\n",
       "      <td>float64</td>\n",
       "      <td>93301</td>\n",
       "      <td>33</td>\n",
       "    </tr>\n",
       "    <tr>\n",
       "      <th>2</th>\n",
       "      <td>int_rate</td>\n",
       "      <td>float64</td>\n",
       "      <td>673</td>\n",
       "      <td>33</td>\n",
       "    </tr>\n",
       "    <tr>\n",
       "      <th>29</th>\n",
       "      <td>mort_acc</td>\n",
       "      <td>float64</td>\n",
       "      <td>47</td>\n",
       "      <td>50063</td>\n",
       "    </tr>\n",
       "  </tbody>\n",
       "</table>\n",
       "</div>"
      ],
      "text/plain": [
       "                 feature           dtype  unique_val  null_values\n",
       "8            loan_status          object           9           33\n",
       "5         home_ownership          object           6           33\n",
       "1                   term          object           2           33\n",
       "23      application_type          object           2           33\n",
       "9                purpose          object          14           33\n",
       "19      earliest_cr_line          object         754           62\n",
       "4             emp_length          object          11       146940\n",
       "26           delinq_amnt         float64        2617           62\n",
       "25           avg_cur_bal         float64       88597        70379\n",
       "18             revol_bal         float64      102251           33\n",
       "24        acc_now_delinq         float64           9           62\n",
       "27  pub_rec_bankruptcies         float64          12         1398\n",
       "22   last_fico_range_low         float64          71           33\n",
       "21  last_fico_range_high         float64          72           33\n",
       "20            revol_util         float64        1430         1835\n",
       "28             tax_liens         float64          42          138\n",
       "0              loan_amnt         float64        1572           33\n",
       "15              open_acc         float64          91           62\n",
       "17               pub_rec         float64          43           62\n",
       "16             total_acc         float64         152           62\n",
       "14        inq_last_6mths         float64          28           63\n",
       "13       fico_range_high         float64          48           33\n",
       "12        fico_range_low         float64          48           33\n",
       "11           delinq_2yrs         float64          37           62\n",
       "10                   dti         float64       10845         1744\n",
       "7                issue_d  datetime64[ns]         139           33\n",
       "6             annual_inc         float64       89368           37\n",
       "3            installment         float64       93301           33\n",
       "2               int_rate         float64         673           33\n",
       "29              mort_acc         float64          47        50063"
      ]
     },
     "execution_count": 8,
     "metadata": {},
     "output_type": "execute_result"
    }
   ],
   "source": [
    "#Calling the function to look at our columns\n",
    "data_summary(loan).sort_values('dtype', ascending = False)"
   ]
  },
  {
   "cell_type": "markdown",
   "id": "e8aa5e7a-6e59-4680-92b0-2cf82b4fb064",
   "metadata": {},
   "source": [
    "#### Setting Up Our Predicted Value"
   ]
  },
  {
   "cell_type": "code",
   "execution_count": 9,
   "id": "2bcaddce-245b-4221-9e3e-7f5a0c13333e",
   "metadata": {},
   "outputs": [
    {
     "data": {
      "text/plain": [
       "0    1076751\n",
       "1     268559\n",
       "Name: loan_status, dtype: int64"
      ]
     },
     "execution_count": 9,
     "metadata": {},
     "output_type": "execute_result"
    }
   ],
   "source": [
    "#Slicing our dataframe so that it only contains loans which are fully paid off or charged-off\n",
    "loan = loan.loc[loan['loan_status'].isin(['Fully Paid', 'Charged Off'])]\n",
    "\n",
    "loan['loan_status'] = loan['loan_status'].map({\n",
    "    'Fully Paid': 0,\n",
    "    'Charged Off': 1\n",
    "})\n",
    "\n",
    "loan.loan_status.value_counts(dropna = False)"
   ]
  },
  {
   "cell_type": "code",
   "execution_count": 10,
   "id": "a34dbe43-b274-445a-ae27-a48bba7e4392",
   "metadata": {},
   "outputs": [
    {
     "data": {
      "text/plain": [
       "(1345310, 30)"
      ]
     },
     "execution_count": 10,
     "metadata": {},
     "output_type": "execute_result"
    }
   ],
   "source": [
    "#Shape of dataset after filtering out loan_status\n",
    "loan.shape"
   ]
  },
  {
   "cell_type": "markdown",
   "id": "7106068d-0221-47f4-97f1-949cd5711c9f",
   "metadata": {},
   "source": [
    "This has reduced the number of samples we have for our model as we originally started with 2,260,701 loans. This amounts to about ~60% of our original dataset but we are not too concerned as our sample size is still significant. "
   ]
  },
  {
   "cell_type": "markdown",
   "id": "47fa4abe-6d1a-4fe9-b863-629f1564462f",
   "metadata": {},
   "source": [
    "#### Cleaning Categorical Columns"
   ]
  },
  {
   "cell_type": "code",
   "execution_count": 11,
   "id": "ebe7d6f2-a4a4-4c28-a5cd-44a1cf1bd06d",
   "metadata": {},
   "outputs": [
    {
     "name": "stdout",
     "output_type": "stream",
     "text": [
      "Feature: term\n",
      "% of Null Values:0.0\n",
      "Value Counts:\n",
      " 36 months    1020743\n",
      " 60 months     324567\n",
      "Name: term, dtype: int64\n",
      "---------\n",
      "Feature: emp_length\n",
      "% of Null Values:0.058359039923883714\n",
      "Value Counts:\n",
      "10+ years    442199\n",
      "2 years      121743\n",
      "< 1 year     108061\n",
      "3 years      107597\n",
      "1 year        88494\n",
      "5 years       84154\n",
      "4 years       80556\n",
      "NaN           78511\n",
      "6 years       62733\n",
      "8 years       60701\n",
      "7 years       59624\n",
      "9 years       50937\n",
      "Name: emp_length, dtype: int64\n",
      "---------\n",
      "Feature: home_ownership\n",
      "% of Null Values:0.0\n",
      "Value Counts:\n",
      "MORTGAGE    665579\n",
      "RENT        534421\n",
      "OWN         144832\n",
      "ANY            286\n",
      "OTHER          144\n",
      "NONE            48\n",
      "Name: home_ownership, dtype: int64\n",
      "---------\n",
      "Feature: purpose\n",
      "% of Null Values:0.0\n",
      "Value Counts:\n",
      "debt_consolidation    780321\n",
      "credit_card           295279\n",
      "home_improvement       87504\n",
      "other                  77875\n",
      "major_purchase         29425\n",
      "medical                15554\n",
      "small_business         15416\n",
      "car                    14585\n",
      "moving                  9480\n",
      "vacation                9065\n",
      "house                   7253\n",
      "wedding                 2294\n",
      "renewable_energy         933\n",
      "educational              326\n",
      "Name: purpose, dtype: int64\n",
      "---------\n",
      "Feature: earliest_cr_line\n",
      "% of Null Values:0.0\n",
      "Value Counts:\n",
      "Aug-2001    9391\n",
      "Aug-2002    9083\n",
      "Sep-2003    9029\n",
      "Oct-2001    8855\n",
      "Sep-2004    8848\n",
      "            ... \n",
      "Aug-1955       1\n",
      "Jun-1955       1\n",
      "Sep-1953       1\n",
      "Apr-1958       1\n",
      "Dec-1951       1\n",
      "Name: earliest_cr_line, Length: 739, dtype: int64\n",
      "---------\n",
      "Feature: application_type\n",
      "% of Null Values:0.0\n",
      "Value Counts:\n",
      "Individual    1319510\n",
      "Joint App       25800\n",
      "Name: application_type, dtype: int64\n",
      "---------\n"
     ]
    }
   ],
   "source": [
    "#Print out of null values and value counts for each categorical column\n",
    "for c in loan.columns:\n",
    "    if loan[c].dtype == 'object':\n",
    "        print(f'Feature: {c}')\n",
    "        print(f'% of Null Values:{loan[c].isna().sum() / len(loan[c])}')\n",
    "        print('Value Counts:')\n",
    "        print(loan[c].value_counts(dropna = False))\n",
    "        print('---------')"
   ]
  },
  {
   "cell_type": "markdown",
   "id": "6bbacc9d-c9a2-47dd-aa21-bf66154ba0a4",
   "metadata": {},
   "source": [
    "##### Application Type"
   ]
  },
  {
   "cell_type": "code",
   "execution_count": 12,
   "id": "abca49c0-5ded-43e1-8b0f-aa649a118ab4",
   "metadata": {},
   "outputs": [
    {
     "data": {
      "text/plain": [
       "Individual    0.980822\n",
       "Joint App     0.019178\n",
       "Name: application_type, dtype: float64"
      ]
     },
     "execution_count": 12,
     "metadata": {},
     "output_type": "execute_result"
    }
   ],
   "source": [
    "loan.application_type.value_counts(normalize = True)"
   ]
  },
  {
   "cell_type": "markdown",
   "id": "f7e9ca46-76ec-47d4-9c42-b77b8177eafe",
   "metadata": {},
   "source": [
    "To start, let's remove the joint applications from our data set which we can see is a very miniscule subset of our loans. It comes out to be around 2% of all loan applications and with this major imbalance, it would benefit to remove this feature as it doesn't provide much information on joint applications. In addition to this, in terms of our initial goal, we want to build a model using only individual information to predict loan repayment."
   ]
  },
  {
   "cell_type": "code",
   "execution_count": 13,
   "id": "a4ca9067-ab7e-441d-99ac-ac76d29389e0",
   "metadata": {},
   "outputs": [],
   "source": [
    "loan = loan[loan.application_type == 'Individual']"
   ]
  },
  {
   "cell_type": "markdown",
   "id": "0df9f6b4-b819-4dc6-95e6-714a19c793e8",
   "metadata": {},
   "source": [
    "##### Term"
   ]
  },
  {
   "cell_type": "markdown",
   "id": "374dcffb-1829-4a6b-bb8c-30db6775763c",
   "metadata": {},
   "source": [
    "Seeing that the 'term' column has two unique values, we will convert it to a numerical feature to reduce the number of features we will have to dummify in the future.  "
   ]
  },
  {
   "cell_type": "code",
   "execution_count": 14,
   "id": "df10fad3-6892-4591-8114-b9562cf6e718",
   "metadata": {},
   "outputs": [],
   "source": [
    "#Mapping 0 and 1 to our two respective terms\n",
    "loan['term'] = loan['term'].map({\n",
    "    ' 36 months': 0,\n",
    "    ' 60 months': 1\n",
    "})"
   ]
  },
  {
   "cell_type": "code",
   "execution_count": 15,
   "id": "425b6260-09c8-45ae-8584-03d7ffaccfbe",
   "metadata": {},
   "outputs": [
    {
     "data": {
      "text/plain": [
       "0    0.76125\n",
       "1    0.23875\n",
       "Name: term, dtype: float64"
      ]
     },
     "execution_count": 15,
     "metadata": {},
     "output_type": "execute_result"
    }
   ],
   "source": [
    "#The division of loan terms in data set\n",
    "loan.term.value_counts(normalize = True)"
   ]
  },
  {
   "cell_type": "markdown",
   "id": "6c4e3c23-ce47-4b68-978e-fa5ac53fd36f",
   "metadata": {},
   "source": [
    "We can see that most loans are 3-years in term, accounting for more than 3/4 of the loans in our dataset. "
   ]
  },
  {
   "cell_type": "markdown",
   "id": "fe8c459c-bac2-49d0-858e-805f67365aba",
   "metadata": {},
   "source": [
    "##### Employment Length\n"
   ]
  },
  {
   "cell_type": "code",
   "execution_count": 16,
   "id": "e6b76ce9-19dd-4e4f-9851-c1722beea6b1",
   "metadata": {},
   "outputs": [
    {
     "data": {
      "text/plain": [
       "10+ years    435633\n",
       "2 years      119867\n",
       "3 years      106015\n",
       "< 1 year     102544\n",
       "1 year        87271\n",
       "5 years       82927\n",
       "4 years       79311\n",
       "NaN           74764\n",
       "6 years       61920\n",
       "8 years       60004\n",
       "7 years       58919\n",
       "9 years       50335\n",
       "Name: emp_length, dtype: int64"
      ]
     },
     "execution_count": 16,
     "metadata": {},
     "output_type": "execute_result"
    }
   ],
   "source": [
    "#Checking our value counts\n",
    "loan.emp_length.value_counts(dropna = False)"
   ]
  },
  {
   "cell_type": "code",
   "execution_count": 17,
   "id": "3eb3ce73-472e-45c7-aa5a-c3c4251d89ed",
   "metadata": {},
   "outputs": [],
   "source": [
    "emp_length_dict = {\n",
    "    '< 1 year' : '<1 year',\n",
    "    '1 year'   : '1-5 years',\n",
    "    '2 years'  : '1-5 years',\n",
    "    '3 years'  : '1-5 years',\n",
    "    '4 years'  : '1-5 years',\n",
    "    '5 years'  : '1-5 years',\n",
    "    '6 years'  : '5-10 years',\n",
    "    '7 years'  : '5-10 years',\n",
    "    '8 years'  : '5-10 years',\n",
    "    '9 years'  : '5-10 years',\n",
    "    '10+ years': '10+ years',\n",
    "    np.nan     : 'unreported'\n",
    "}\n",
    "\n",
    "loan.emp_length = loan.emp_length.map(emp_length_dict)"
   ]
  },
  {
   "cell_type": "markdown",
   "id": "35d1aee1-4535-40e7-8ff7-43bc6973996f",
   "metadata": {},
   "source": [
    "We can see that our employment length is split into individual years as well as there being null values. Further data exploration found that loans with 'NaN' for the employment length also shared 'NaN' values for employment title so we can deduce that loans with null employment length are those that are either unemployed, a student, retired, or possibly self-employed. Due to this, I will create a category for our unemployment length called 'unreported'. We will also group the years so that the number of features after one-hot encoding will not be too immense. "
   ]
  },
  {
   "cell_type": "markdown",
   "id": "027fa754-4175-4b0e-8c82-6f950efb9a7b",
   "metadata": {},
   "source": [
    "##### Home Ownership"
   ]
  },
  {
   "cell_type": "code",
   "execution_count": 19,
   "id": "0c0ad88f-4442-4e18-ae8a-da85819ef958",
   "metadata": {},
   "outputs": [
    {
     "data": {
      "text/plain": [
       "MORTGAGE    648107\n",
       "RENT        528509\n",
       "OWN         142418\n",
       "ANY            286\n",
       "OTHER          144\n",
       "NONE            46\n",
       "Name: home_ownership, dtype: int64"
      ]
     },
     "execution_count": 19,
     "metadata": {},
     "output_type": "execute_result"
    }
   ],
   "source": [
    "loan.home_ownership.value_counts(dropna = False)"
   ]
  },
  {
   "cell_type": "code",
   "execution_count": 20,
   "id": "6ea0c117-b2d3-4535-bfec-236cce3724b1",
   "metadata": {},
   "outputs": [
    {
     "data": {
      "image/png": "[encoded data removed]",
      "text/plain": [
       "<Figure size 576x432 with 1 Axes>"
      ]
     },
     "metadata": {
      "needs_background": "light"
     },
     "output_type": "display_data"
    }
   ],
   "source": [
    "#Checking our distribution of home ownership\n",
    "plt.figure(figsize = (8,6))\n",
    "loan['home_ownership'].value_counts().plot(kind = 'bar')\n",
    "plt.xlabel('Type of Home Ownership')\n",
    "plt.ylabel('Count')\n",
    "plt.xticks(rotation = 45)\n",
    "plt.title('Distribution of Home Ownership');"
   ]
  },
  {
   "cell_type": "markdown",
   "id": "72c55e4d-a942-41f4-9a97-bb182ef78a4d",
   "metadata": {},
   "source": [
    "There doesn't appear to be any null values in our loan purpose column, but it is interesting to note that the majority of loans were used for debt consolidation with small business being the runner up. "
   ]
  },
  {
   "cell_type": "markdown",
   "id": "9c3a347c-55d4-40cf-afc6-e9776f44f9ff",
   "metadata": {},
   "source": [
    "Considering the low level of 'ANY', 'OTHER', and 'NONE', we will only include the rows including 'MORTGAGE', 'RENT', 'OWN'. To include the categories with barely any values will decrease the effectiveness of our model with needlessly complex features with barely any contribution to the model. "
   ]
  },
  {
   "cell_type": "code",
   "execution_count": 21,
   "id": "5abb94c2-8eb4-4c6a-aba2-8ea9df8dc0c2",
   "metadata": {},
   "outputs": [],
   "source": [
    "loan = loan[(loan.home_ownership.isin(['MORTGAGE', 'RENT', 'OWN']))]"
   ]
  },
  {
   "cell_type": "markdown",
   "id": "65314e40-e165-4f3e-8a8a-2e158e068d4c",
   "metadata": {},
   "source": [
    "##### Earliest Credit Line - Feature Engineering"
   ]
  },
  {
   "cell_type": "markdown",
   "id": "bcaa1534-2c12-4b4a-8b2a-14e5aa0177d0",
   "metadata": {},
   "source": [
    "By using both the datetimes from earliest credit line and the issued loan date, we can engineer a feature that represents the credit files age. The credit file age will be the year the loan was issued minus the year they had their earliest credit line which usually indicates when someone started their credit history. We will then drop the datetime columns before we export for modeling. "
   ]
  },
  {
   "cell_type": "code",
   "execution_count": 22,
   "id": "7e8cda68-88fa-4690-9361-94f8ff21d4db",
   "metadata": {},
   "outputs": [],
   "source": [
    "#Using pandas to create date time columns we can use to create 'credit_file_age'\n",
    "loan['earliest_cr_line'] = pd.to_datetime(loan['earliest_cr_line'])\n",
    "loan['earliest_cr_line_year'] = loan['earliest_cr_line'].dt.year\n",
    "loan['year'] = loan['issue_d'].dt.year\n",
    "loan['credit_file_age'] = loan['year'] - loan['earliest_cr_line_year']"
   ]
  },
  {
   "cell_type": "code",
   "execution_count": 23,
   "id": "5d3225b1-2454-41cd-a9b7-4ba91ecddd8a",
   "metadata": {},
   "outputs": [],
   "source": [
    "loan.drop(columns = ['earliest_cr_line', 'application_type', 'year', 'earliest_cr_line_year'], inplace = True)"
   ]
  },
  {
   "cell_type": "markdown",
   "id": "bff2fb9c-9601-4ac0-9f5a-3fb516561d15",
   "metadata": {},
   "source": [
    "##### FICO"
   ]
  },
  {
   "cell_type": "markdown",
   "id": "35b49d17-021c-47ee-b761-dab44b98702b",
   "metadata": {},
   "source": [
    "We expect FICO to be a major part in predicting whether someone will repay their loan in full or charge-off. However, this origianl dataset provides it to us in the form of a range. We will create a new column 'FICO' using the average of these two values to just capture a singular FICO value. "
   ]
  },
  {
   "cell_type": "code",
   "execution_count": 24,
   "id": "59eb0533-2d11-412d-8899-4768e1eb9c49",
   "metadata": {},
   "outputs": [],
   "source": [
    "loan['fico'] = loan[['last_fico_range_high', 'last_fico_range_low']].mean(axis = 1)"
   ]
  },
  {
   "cell_type": "code",
   "execution_count": 25,
   "id": "336bf50e-45fe-4ddd-82a0-869877955763",
   "metadata": {},
   "outputs": [],
   "source": [
    "loan.drop(columns = ['last_fico_range_high', 'last_fico_range_low'], inplace = True)"
   ]
  },
  {
   "cell_type": "markdown",
   "id": "6dbc9710-ea94-4956-8420-9a26aa5cbab5",
   "metadata": {},
   "source": [
    "#### Missing Values"
   ]
  },
  {
   "cell_type": "markdown",
   "id": "bb874bf0-95b7-41c3-85a4-80fa4f7a14f0",
   "metadata": {},
   "source": [
    "From isolating the types of applications to 'Individual' as well as cutting down the loans in our dataset to \"Fully Paid\" or \"Charged Off\", we've reduced the number of missing values from a variety of columns. But, there still remains seven columns with missing values.\n",
    "\n",
    "Our first strategy would be to drop all null values due to the size of our dataset which is generally not the best method of dealing with null values as we are dropping all other related features associated with a loan. \n",
    "\n",
    "Our second strategy would be to impute the values with a mean, median, or mode depending on the data type of the feature. Mode would be useful for categorical features, the median for discrete numerical features, and the mean for continuous numerical features -- while also accounting for outliers. \n",
    "\n",
    "We will first see how our initial logistic regression does on two versions of our data: one where we drop our null values, and one where we impute them with respective values. \n"
   ]
  },
  {
   "cell_type": "code",
   "execution_count": 26,
   "id": "837a76db-2822-42a6-9d86-0db9e82cc7ec",
   "metadata": {},
   "outputs": [
    {
     "name": "stdout",
     "output_type": "stream",
     "text": [
      "FEATURE NAME:\n",
      "inq_last_6mths\n",
      "FEATURE TYPE:\n",
      "float64\n",
      "NULL VALUE COUNT:\n",
      "1\n",
      "PERCENT OF ALL VALUES:\n",
      "7.58130571312036e-07\n",
      "~~~~~~~~~~~~~~~~~~~\n",
      "FEATURE NAME:\n",
      "revol_util\n",
      "FEATURE TYPE:\n",
      "float64\n",
      "NULL VALUE COUNT:\n",
      "809\n",
      "PERCENT OF ALL VALUES:\n",
      "0.0006133276321914371\n",
      "~~~~~~~~~~~~~~~~~~~\n",
      "FEATURE NAME:\n",
      "avg_cur_bal\n",
      "FEATURE TYPE:\n",
      "float64\n",
      "NULL VALUE COUNT:\n",
      "67444\n",
      "PERCENT OF ALL VALUES:\n",
      "0.05113135825156895\n",
      "~~~~~~~~~~~~~~~~~~~\n",
      "FEATURE NAME:\n",
      "pub_rec_bankruptcies\n",
      "FEATURE TYPE:\n",
      "float64\n",
      "NULL VALUE COUNT:\n",
      "694\n",
      "PERCENT OF ALL VALUES:\n",
      "0.0005261426164905529\n",
      "~~~~~~~~~~~~~~~~~~~\n",
      "FEATURE NAME:\n",
      "tax_liens\n",
      "FEATURE TYPE:\n",
      "float64\n",
      "NULL VALUE COUNT:\n",
      "37\n",
      "PERCENT OF ALL VALUES:\n",
      "2.805083113854533e-05\n",
      "~~~~~~~~~~~~~~~~~~~\n",
      "FEATURE NAME:\n",
      "mort_acc\n",
      "FEATURE TYPE:\n",
      "float64\n",
      "NULL VALUE COUNT:\n",
      "47179\n",
      "PERCENT OF ALL VALUES:\n",
      "0.03576784222393054\n",
      "~~~~~~~~~~~~~~~~~~~\n"
     ]
    }
   ],
   "source": [
    "null_count = []\n",
    "for columns in loan.columns[0:100]:\n",
    "    if loan[columns].isna().sum() != 0:\n",
    "        print('FEATURE NAME:')\n",
    "        print(columns)\n",
    "        print('FEATURE TYPE:')\n",
    "        print(loan[columns].dtype)\n",
    "        print('NULL VALUE COUNT:')\n",
    "        print(loan[columns].isna().sum())\n",
    "        print('PERCENT OF ALL VALUES:')\n",
    "        print(loan[columns].isna().sum() / len(loan[columns]))\n",
    "        print('~~~~~~~~~~~~~~~~~~~')\n",
    "        null_count.append([columns, loan[columns].isna().sum(), loan[columns].isnull().mean()])\n",
    "null_values = pd.DataFrame(null_count, columns = ['Feature', 'Null Value Count', 'Percentage of Data'])"
   ]
  },
  {
   "cell_type": "code",
   "execution_count": 27,
   "id": "6497c7eb-2871-45ab-aa9b-d3717ca0d5e9",
   "metadata": {},
   "outputs": [],
   "source": [
    "#Filling columns with appropriate values (mode, median, mean)\n",
    "loan['inq_last_6mths'].fillna(stats.mode(loan['inq_last_6mths'])[0][0], inplace = True)\n",
    "loan['revol_util'].fillna(np.mean(loan['revol_util']), inplace = True)\n",
    "loan['avg_cur_bal'].fillna(stats.mode(loan['avg_cur_bal'])[0][0], inplace = True)\n",
    "loan['pub_rec_bankruptcies'].fillna(stats.mode(loan['pub_rec_bankruptcies'])[0][0], inplace = True)\n",
    "loan['tax_liens'] = loan['tax_liens'].fillna(loan['tax_liens'].median())\n",
    "loan['mort_acc'] = loan.mort_acc.fillna(loan.mort_acc.median())\n",
    "loan['dti'] = loan.dti.fillna(loan.dti.mean())"
   ]
  },
  {
   "cell_type": "code",
   "execution_count": 28,
   "id": "56da1887-14d1-4500-9a29-5507edc2f472",
   "metadata": {},
   "outputs": [
    {
     "name": "stdout",
     "output_type": "stream",
     "text": [
      "<class 'pandas.core.frame.DataFrame'>\n",
      "Int64Index: 1319034 entries, 0 to 2260697\n",
      "Data columns (total 28 columns):\n",
      " #   Column                Non-Null Count    Dtype         \n",
      "---  ------                --------------    -----         \n",
      " 0   loan_amnt             1319034 non-null  float64       \n",
      " 1   term                  1319034 non-null  int64         \n",
      " 2   int_rate              1319034 non-null  float64       \n",
      " 3   installment           1319034 non-null  float64       \n",
      " 4   emp_length            1319034 non-null  object        \n",
      " 5   home_ownership        1319034 non-null  object        \n",
      " 6   annual_inc            1319034 non-null  float64       \n",
      " 7   issue_d               1319034 non-null  datetime64[ns]\n",
      " 8   loan_status           1319034 non-null  int64         \n",
      " 9   purpose               1319034 non-null  object        \n",
      " 10  dti                   1319034 non-null  float64       \n",
      " 11  delinq_2yrs           1319034 non-null  float64       \n",
      " 12  fico_range_low        1319034 non-null  float64       \n",
      " 13  fico_range_high       1319034 non-null  float64       \n",
      " 14  inq_last_6mths        1319034 non-null  float64       \n",
      " 15  open_acc              1319034 non-null  float64       \n",
      " 16  total_acc             1319034 non-null  float64       \n",
      " 17  pub_rec               1319034 non-null  float64       \n",
      " 18  revol_bal             1319034 non-null  float64       \n",
      " 19  revol_util            1319034 non-null  float64       \n",
      " 20  acc_now_delinq        1319034 non-null  float64       \n",
      " 21  avg_cur_bal           1319034 non-null  float64       \n",
      " 22  delinq_amnt           1319034 non-null  float64       \n",
      " 23  pub_rec_bankruptcies  1319034 non-null  float64       \n",
      " 24  tax_liens             1319034 non-null  float64       \n",
      " 25  mort_acc              1319034 non-null  float64       \n",
      " 26  credit_file_age       1319034 non-null  int64         \n",
      " 27  fico                  1319034 non-null  float64       \n",
      "dtypes: datetime64[ns](1), float64(21), int64(3), object(3)\n",
      "memory usage: 291.8+ MB\n"
     ]
    }
   ],
   "source": [
    "loan.info()"
   ]
  },
  {
   "cell_type": "markdown",
   "id": "a282d3d1-c932-42e4-8e61-59b99c0994c0",
   "metadata": {},
   "source": [
    "## EDA <a class='anchor' id='eda'></a>"
   ]
  },
  {
   "cell_type": "markdown",
   "id": "02aca719-b814-44cf-bc5a-6bdf19e08843",
   "metadata": {},
   "source": [
    "##### Loan Issue Date"
   ]
  },
  {
   "cell_type": "code",
   "execution_count": 29,
   "id": "8aa6cfef-7a6b-478d-8d35-e3f50d1ec660",
   "metadata": {},
   "outputs": [],
   "source": [
    "#Creating a dataframe with loan issue date and value counts\n",
    "s = loan['issue_d'].value_counts().sort_index()"
   ]
  },
  {
   "cell_type": "code",
   "execution_count": 30,
   "id": "6684ffc4-3f5c-496d-b520-ea00d47b4c21",
   "metadata": {},
   "outputs": [
    {
     "data": {
      "image/png": "[encoded data removed]",
      "text/plain": [
       "<Figure size 576x360 with 1 Axes>"
      ]
     },
     "metadata": {
      "needs_background": "light"
     },
     "output_type": "display_data"
    }
   ],
   "source": [
    "plt.figure(figsize = (8,5))\n",
    "plt.plot(s)\n",
    "plt.title('Loans Approved Over Time')\n",
    "plt.xlabel('Date')\n",
    "plt.ylabel('Count')\n",
    "plt.savefig('./images/loan_over_time.png');\n"
   ]
  },
  {
   "cell_type": "markdown",
   "id": "86b650a9-5ae8-411a-bd78-747a6f27bdb3",
   "metadata": {},
   "source": [
    "We can see majority of loans are from 2014 - 2016. This should assuage concerns that we may have loans from around the Great Recession which may be a different reflection of loan default risk tolerance than those more recent. Further research shows that Lending Club IPO'd in 2014 which may cause the large jump. There is also an issue with an internal auditor which caused Lending Club to have negative public perception around 2016. "
   ]
  },
  {
   "cell_type": "markdown",
   "id": "88b0d280-f3cf-4d90-9bd1-d3a3e318a7ff",
   "metadata": {
    "tags": []
   },
   "source": [
    "##### FICO"
   ]
  },
  {
   "cell_type": "code",
   "execution_count": 31,
   "id": "f209160e-1133-4631-9ab2-e59490fb08d2",
   "metadata": {},
   "outputs": [
    {
     "name": "stderr",
     "output_type": "stream",
     "text": [
      "C:\\Users\\eddie\\anaconda3\\lib\\site-packages\\seaborn\\_decorators.py:36: FutureWarning: Pass the following variables as keyword args: x, y. From version 0.12, the only valid positional argument will be `data`, and passing other arguments without an explicit keyword will result in an error or misinterpretation.\n",
      "  warnings.warn(\n"
     ]
    },
    {
     "data": {
      "image/png": "[encoded data removed]",
      "text/plain": [
       "<Figure size 576x432 with 1 Axes>"
      ]
     },
     "metadata": {
      "needs_background": "light"
     },
     "output_type": "display_data"
    }
   ],
   "source": [
    "#Looking at our boxplot for FICO, according to Loan status\n",
    "plt.figure(figsize = (8,6))\n",
    "sns.boxplot(loan['loan_status'], loan['fico'])\n",
    "plt.xlabel('Loan Status', size = 12)\n",
    "plt.ylabel('FICO Score', size = 12)\n",
    "plt.title('FICO Score Boxplot')\n",
    "plt.savefig('./images/fico_boxplot.png');"
   ]
  },
  {
   "cell_type": "code",
   "execution_count": 32,
   "id": "e4e99ab6-784f-4201-a7a7-a1940a628c97",
   "metadata": {},
   "outputs": [],
   "source": [
    "#Per Forbes, the lowest credit score range is 300 to 579. We may look to only include those with appropriate FICO scores\n",
    "loan = loan[loan['fico'] > 300]"
   ]
  },
  {
   "cell_type": "code",
   "execution_count": 33,
   "id": "7164344a-d394-43f6-9371-dc4892e0387d",
   "metadata": {},
   "outputs": [
    {
     "name": "stderr",
     "output_type": "stream",
     "text": [
      "C:\\Users\\eddie\\anaconda3\\lib\\site-packages\\seaborn\\_decorators.py:36: FutureWarning: Pass the following variables as keyword args: x, y. From version 0.12, the only valid positional argument will be `data`, and passing other arguments without an explicit keyword will result in an error or misinterpretation.\n",
      "  warnings.warn(\n"
     ]
    },
    {
     "data": {
      "image/png": "[encoded data removed]",
      "text/plain": [
       "<Figure size 576x432 with 1 Axes>"
      ]
     },
     "metadata": {
      "needs_background": "light"
     },
     "output_type": "display_data"
    }
   ],
   "source": [
    "#Checking our box plot again\n",
    "plt.figure(figsize = (8,6))\n",
    "sns.boxplot(loan['loan_status'], loan['fico'])\n",
    "plt.xlabel('Loan Status', size = 12)\n",
    "plt.ylabel('FICO Score', size = 12)\n",
    "plt.title('FICO Score Boxplot')\n",
    "plt.savefig('./images/fico_boxplot.png');"
   ]
  },
  {
   "cell_type": "code",
   "execution_count": 34,
   "id": "0587024c-6c7d-40fc-9613-649e595e6ffa",
   "metadata": {},
   "outputs": [],
   "source": [
    "#Dropping unnecessary columns\n",
    "loan.drop(columns = ['issue_d', 'fico_range_low', 'fico_range_high'], inplace = True)"
   ]
  },
  {
   "cell_type": "markdown",
   "id": "84eb309f-b9c5-4841-b473-8fc72ae51c29",
   "metadata": {},
   "source": [
    "##### Annual Income"
   ]
  },
  {
   "cell_type": "code",
   "execution_count": 35,
   "id": "af84c5a5-e937-432d-8eea-8db062a03977",
   "metadata": {},
   "outputs": [
    {
     "name": "stderr",
     "output_type": "stream",
     "text": [
      "C:\\Users\\eddie\\anaconda3\\lib\\site-packages\\seaborn\\distributions.py:2619: FutureWarning: `distplot` is a deprecated function and will be removed in a future version. Please adapt your code to use either `displot` (a figure-level function with similar flexibility) or `histplot` (an axes-level function for histograms).\n",
      "  warnings.warn(msg, FutureWarning)\n"
     ]
    },
    {
     "data": {
      "text/plain": [
       "Text(0.5, 1.0, 'Distribution for Annual Income')"
      ]
     },
     "execution_count": 35,
     "metadata": {},
     "output_type": "execute_result"
    },
    {
     "data": {
      "image/png": "[encoded data removed]",
      "text/plain": [
       "<Figure size 432x288 with 1 Axes>"
      ]
     },
     "metadata": {
      "needs_background": "light"
     },
     "output_type": "display_data"
    }
   ],
   "source": [
    "#Looking at distribution of Annual Income\n",
    "sns.distplot(loan.annual_inc)\n",
    "plt.title('Distribution for Annual Income')"
   ]
  },
  {
   "cell_type": "markdown",
   "id": "29706a08-f675-4b7d-9562-b3703688876d",
   "metadata": {},
   "source": [
    "It appears to be extremely right skewed, we will perform a log transformation to aid with this. "
   ]
  },
  {
   "cell_type": "code",
   "execution_count": 36,
   "id": "2e99dec5-ccf0-4a5e-8fb0-4fbb8171ccd4",
   "metadata": {},
   "outputs": [],
   "source": [
    "#Log transform, dropped column\n",
    "loan['log_annual_inc'] = np.log(loan['annual_inc'])\n",
    "loan.drop(columns = ['annual_inc'], inplace = True)"
   ]
  },
  {
   "cell_type": "code",
   "execution_count": 38,
   "id": "2c7998e5-72a3-4ae0-9d06-f42c383d0798",
   "metadata": {},
   "outputs": [
    {
     "data": {
      "image/png": "[encoded data removed]",
      "text/plain": [
       "<Figure size 432x288 with 1 Axes>"
      ]
     },
     "metadata": {
      "needs_background": "light"
     },
     "output_type": "display_data"
    }
   ],
   "source": [
    "#Distribution more normal\n",
    "plt.hist(loan.log_annual_inc, bins = 20)\n",
    "plt.axvline(np.mean(loan.log_annual_inc), color = 'red')\n",
    "plt.ticklabel_format(style='plain', axis='x',useOffset=False)\n",
    "plt.xlabel('Annual Income in USD')\n",
    "plt.ylabel('Values')\n",
    "plt.title('Distribution of Annual Income');"
   ]
  },
  {
   "cell_type": "code",
   "execution_count": 39,
   "id": "55fb5156-8894-4412-928e-1013194bda1c",
   "metadata": {},
   "outputs": [
    {
     "data": {
      "image/png": "[encoded data removed]",
      "text/plain": [
       "<Figure size 432x288 with 1 Axes>"
      ]
     },
     "metadata": {
      "needs_background": "light"
     },
     "output_type": "display_data"
    }
   ],
   "source": [
    "#Loan Amount Distribution\n",
    "plt.hist(loan.loan_amnt, bins = 10)\n",
    "plt.axvline(np.mean(loan.loan_amnt), color = 'red')\n",
    "plt.xlabel('Loan Amount in USD')\n",
    "plt.ylabel('Values')\n",
    "plt.title('Distribution of Loan Amount');"
   ]
  },
  {
   "cell_type": "code",
   "execution_count": 40,
   "id": "906bb4ff-5c75-4d2a-b2c9-1422698104fd",
   "metadata": {},
   "outputs": [
    {
     "data": {
      "image/png": "[encoded data removed]",
      "text/plain": [
       "<Figure size 432x288 with 1 Axes>"
      ]
     },
     "metadata": {
      "needs_background": "light"
     },
     "output_type": "display_data"
    }
   ],
   "source": [
    "#Interest Rate distribution\n",
    "plt.hist(loan.int_rate, bins = 15)\n",
    "plt.axvline(np.mean(loan.int_rate), color = 'red')\n",
    "plt.xlabel('Interest Rate')\n",
    "plt.ylabel('Values')\n",
    "plt.title('Distribution of Interest Rate');"
   ]
  },
  {
   "cell_type": "code",
   "execution_count": 41,
   "id": "52c724dd-e391-471a-8234-1432e40a4e35",
   "metadata": {},
   "outputs": [
    {
     "data": {
      "image/png": "[encoded data removed]",
      "text/plain": [
       "<Figure size 432x288 with 1 Axes>"
      ]
     },
     "metadata": {
      "needs_background": "light"
     },
     "output_type": "display_data"
    }
   ],
   "source": [
    "#Installment Size Distribution\n",
    "plt.hist(loan.installment, bins = 15)\n",
    "plt.axvline(np.mean(loan.installment), color = 'red')\n",
    "plt.xlabel('Payment Installment Size')\n",
    "plt.title('Distribution of Installment Size');"
   ]
  },
  {
   "cell_type": "code",
   "execution_count": 42,
   "id": "57d97dd5-76f6-47fe-a94c-dc9477afddf5",
   "metadata": {},
   "outputs": [
    {
     "data": {
      "image/png": "[encoded data removed]",
      "text/plain": [
       "<Figure size 360x360 with 1 Axes>"
      ]
     },
     "metadata": {
      "needs_background": "light"
     },
     "output_type": "display_data"
    }
   ],
   "source": [
    "#Class Imbalance\n",
    "sns.catplot(x = 'loan_status', kind = 'count', data = loan)\n",
    "plt.ticklabel_format(style='plain', axis='y',useOffset=False)\n",
    "plt.title('Loan Status Breakdown')\n",
    "plt.xlabel('Loan Status')\n",
    "plt.savefig('./images/loan_status.png');"
   ]
  },
  {
   "cell_type": "markdown",
   "id": "2a041e32-0a5b-4fc3-9645-c84f038ea970",
   "metadata": {},
   "source": [
    "Large class imbalance we can see with our dependent variable. Loans that charged-off amount to 261,655 and loans that were fully paid amount to 1,041,952. In simple terms, there are ~4 times as many examples of loans that were fully paid off. Due to the class imbalance, we probably would not use our accuracy score considering if we guessed for all the loans to be fully paid off, we would be accurate at 79.93%. With that, we will use the precision-recall AUC score as it evaluates the faction of true positives among positive predictions."
   ]
  },
  {
   "cell_type": "markdown",
   "id": "950b29a2-dd57-4e2f-848a-4c2c78584ad4",
   "metadata": {},
   "source": [
    "## Exporting for Modeling <a class='anchor' id='export'></a>"
   ]
  },
  {
   "cell_type": "code",
   "execution_count": 43,
   "id": "62e1863b-46d8-4430-91e2-730bd886213f",
   "metadata": {},
   "outputs": [],
   "source": [
    "#Resetting Index\n",
    "loan.reset_index(drop = True, inplace = True)"
   ]
  },
  {
   "cell_type": "code",
   "execution_count": 44,
   "id": "02913c89-6646-4f22-ac40-937dcbb07f64",
   "metadata": {},
   "outputs": [],
   "source": [
    "#Exporting as 'loan_all'\n",
    "loan.to_csv('../data/loan_all.csv', index = False)"
   ]
  },
  {
   "cell_type": "code",
   "execution_count": null,
   "id": "87f0cae8-eca9-4c4d-9981-1aa4d1c403b2",
   "metadata": {},
   "outputs": [],
   "source": [
    "#pplot = sns.pairplot(loan.sample(1000), hue = 'loan_status', diag_kind = 'kde');\n",
    "#pplot.savefig('../images/pairplot.png');"
   ]
  }
 ],
 "metadata": {
  "kernelspec": {
   "display_name": "Python 3",
   "language": "python",
   "name": "python3"
  },
  "language_info": {
   "codemirror_mode": {
    "name": "ipython",
    "version": 3
   },
   "file_extension": ".py",
   "mimetype": "text/x-python",
   "name": "python",
   "nbconvert_exporter": "python",
   "pygments_lexer": "ipython3",
   "version": "3.8.11"
  }
 },
 "nbformat": 4,
 "nbformat_minor": 5
}
