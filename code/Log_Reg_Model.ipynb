{
 "cells": [
  {
   "cell_type": "markdown",
   "id": "60ce0adf-f7e9-4121-8f15-6feb66b82421",
   "metadata": {},
   "source": [
    "### Table of Contents\n",
    "\n",
    "1. [Data Preparation](#lr1)\n",
    "2. [Default Logistic Regression Model](#lr2)\n",
    "3. [Logistic Regression with cross-validated Grid Search](#lr3)\n",
    "4. [Logistic Regression with best parameters](#lr4)\n"
   ]
  },
  {
   "cell_type": "markdown",
   "id": "b978838f-8a9d-43a8-af75-0a3330a3ce23",
   "metadata": {},
   "source": [
    "### Data Preparation <a id='lr1'></a>"
   ]
  },
  {
   "cell_type": "markdown",
   "id": "1e87b93b-91e4-475e-bbab-ae1f2b5c0f50",
   "metadata": {},
   "source": [
    "#### Imports"
   ]
  },
  {
   "cell_type": "code",
   "execution_count": 1,
   "id": "1bc7c7f5-d384-4c56-ba67-bdd4e225268e",
   "metadata": {},
   "outputs": [],
   "source": [
    "import pandas as pd\n",
    "import numpy as np\n",
    "import matplotlib.pyplot as plt\n",
    "import seaborn as sns\n",
    "\n",
    "from sklearn.model_selection import train_test_split, GridSearchCV, learning_curve, validation_curve\n",
    "from sklearn.preprocessing import StandardScaler\n",
    "from sklearn.linear_model import LogisticRegression\n",
    "from sklearn.metrics import precision_recall_curve, auc, roc_curve, roc_auc_score, confusion_matrix, ConfusionMatrixDisplay, precision_score, accuracy_score, recall_score, plot_precision_recall_curve\n",
    "from sklearn.dummy import DummyClassifier\n",
    "\n",
    "%matplotlib inline\n",
    "\n",
    "import warnings\n",
    "warnings.filterwarnings('ignore')"
   ]
  },
  {
   "cell_type": "code",
   "execution_count": 83,
   "id": "04be03cc-a0cd-43c7-9372-17c5813dba5f",
   "metadata": {},
   "outputs": [],
   "source": [
    "def plot_roc_curve(test, model_probs, naive_probs):\n",
    "    fpr, tpr, _ = roc_curve(test, naive_probs)\n",
    "    plt.plot(fpr, tpr, linestyle = '--', label = 'Baseline')\n",
    "    fpr, tpr, _ = roc_curve(test, model_probs)\n",
    "    plt.plot(fpr, tpr, marker = '.', label = 'Logistic Regression', markersize = 0.1)\n",
    "    plt.xlabel('False Positive Rate')\n",
    "    plt.ylabel('True Positive Rate')\n",
    "    plt.legend()\n",
    "    plt.title('ROC Curve')\n",
    "    plt.show()\n",
    "    \n",
    "def plot_pr_curve(test, model_probs):\n",
    "    no_skill = len(test[test == 1]) / len(test)\n",
    "    \n",
    "    plt.plot( [no_skill, no_skill], linestyle = '--', label = 'Baseline')\n",
    "    \n",
    "    precision, recall, _ = precision_recall_curve(test, model_probs)\n",
    "    plt.plot(recall, precision, marker = '.', label = 'Logistic Regression', markersize = 0.1)\n",
    "    plt.xlabel('Recall')\n",
    "    plt.ylabel('Precision')\n",
    "    plt.title('Precision - Recall Curve')\n",
    "    plt.legend()\n",
    "    plt.show()"
   ]
  },
  {
   "cell_type": "markdown",
   "id": "78fff4c3-dd35-4a06-bb16-94a9bebf2091",
   "metadata": {},
   "source": [
    "#### Setting up Data"
   ]
  },
  {
   "cell_type": "code",
   "execution_count": 3,
   "id": "dac20831-f979-48ff-b815-efd64cf7d595",
   "metadata": {},
   "outputs": [],
   "source": [
    "#Reading in our data\n",
    "df = pd.read_csv('../data/loan_rf_features.csv')"
   ]
  },
  {
   "cell_type": "code",
   "execution_count": 3,
   "id": "21380a73-09c1-487d-803e-e9400b32bad9",
   "metadata": {},
   "outputs": [],
   "source": [
    "#Setting up X and y\n",
    "X = pd.get_dummies(df.drop(columns = ['loan_status']))\n",
    "y = df['loan_status']"
   ]
  },
  {
   "cell_type": "code",
   "execution_count": 4,
   "id": "a9b13550-6606-46ee-a8c9-afe795810e87",
   "metadata": {},
   "outputs": [],
   "source": [
    "#Train, test, split with scaling\n",
    "X_train, X_test, y_train, y_test = train_test_split(X, y,\n",
    "                                                    random_state = 42,\n",
    "                                                    stratify = y,\n",
    "                                                    test_size= 0.2)\n",
    "\n",
    "ss = StandardScaler()\n",
    "X_train = ss.fit_transform(X_train)\n",
    "X_test = ss.transform(X_test)"
   ]
  },
  {
   "cell_type": "code",
   "execution_count": 9,
   "id": "a472f32a-9a29-4817-8312-06f72b214a0b",
   "metadata": {},
   "outputs": [],
   "source": [
    "#Baseline Model\n",
    "dummy_model = DummyClassifier(strategy= 'stratified')\n",
    "dummy_model.fit(X_train, y_train)\n",
    "naive_preds = dummy_model.predict(X_test)\n",
    "naive_probs = dummy_model.predict_proba(X_test)[:,1]"
   ]
  },
  {
   "cell_type": "code",
   "execution_count": 6,
   "id": "b17f5c82-cc42-4fe4-8fb3-171562c40028",
   "metadata": {},
   "outputs": [
    {
     "data": {
      "text/plain": [
       "0.6817796000030314"
      ]
     },
     "execution_count": 6,
     "metadata": {},
     "output_type": "execute_result"
    }
   ],
   "source": [
    "accuracy_score(y_test, naive_preds)"
   ]
  },
  {
   "cell_type": "code",
   "execution_count": 12,
   "id": "b8f5f605-422a-4f2b-8d83-500bb279842a",
   "metadata": {},
   "outputs": [
    {
     "data": {
      "text/plain": [
       "0.19487824876532617"
      ]
     },
     "execution_count": 12,
     "metadata": {},
     "output_type": "execute_result"
    }
   ],
   "source": [
    "recall_score(y_test, naive_preds)"
   ]
  },
  {
   "cell_type": "code",
   "execution_count": 13,
   "id": "090dba3b-b962-4bc5-9b03-7752abda76b9",
   "metadata": {},
   "outputs": [
    {
     "data": {
      "text/plain": [
       "0.19537746850446386"
      ]
     },
     "execution_count": 13,
     "metadata": {},
     "output_type": "execute_result"
    }
   ],
   "source": [
    "precision_score(y_test, naive_preds)"
   ]
  },
  {
   "cell_type": "code",
   "execution_count": 10,
   "id": "8a66cbd2-5b18-4b0a-be79-f2eb593d933e",
   "metadata": {},
   "outputs": [],
   "source": [
    "precision, recall, _ = precision_recall_curve(y_test, naive_probs)"
   ]
  },
  {
   "cell_type": "code",
   "execution_count": 11,
   "id": "bccd58ab-40cb-49c2-9d46-f14351958e95",
   "metadata": {},
   "outputs": [
    {
     "data": {
      "text/plain": [
       "0.2765208047521551"
      ]
     },
     "execution_count": 11,
     "metadata": {},
     "output_type": "execute_result"
    }
   ],
   "source": [
    "auc(recall, precision)"
   ]
  },
  {
   "cell_type": "markdown",
   "id": "3f1521f0-b0be-46e7-96ff-e542dfcac5cd",
   "metadata": {
    "tags": []
   },
   "source": [
    "### Default Logistic Regression Model <a id='lr2'></a>"
   ]
  },
  {
   "cell_type": "code",
   "execution_count": 46,
   "id": "9c10406f-0ddf-46ba-a37f-a851354eb91d",
   "metadata": {},
   "outputs": [],
   "source": [
    "#Fitting and creating predictions\n",
    "lr = LogisticRegression()\n",
    "lr.fit(X_train, y_train)\n",
    "\n",
    "lr_test_probs = lr.predict_proba(X_test)[:,1]\n",
    "lr_train_probs = lr.predict_proba(X_train)[:,1]\n",
    "lr_test_preds = lr.predict(X_test)\n",
    "lr_train_preds = lr.predict(X_train)"
   ]
  },
  {
   "cell_type": "code",
   "execution_count": 21,
   "id": "f5a9d443-383a-4dff-956b-9ada44ca1dd0",
   "metadata": {},
   "outputs": [
    {
     "data": {
      "text/plain": [
       "0.9020365514471281"
      ]
     },
     "execution_count": 21,
     "metadata": {},
     "output_type": "execute_result"
    }
   ],
   "source": [
    "#Training data accuracy score\n",
    "lr.score(X_train, y_train)"
   ]
  },
  {
   "cell_type": "code",
   "execution_count": 20,
   "id": "7849560a-ade2-40f4-a8c4-83bc5f46b96e",
   "metadata": {},
   "outputs": [
    {
     "data": {
      "text/plain": [
       "0.9015202613091223"
      ]
     },
     "execution_count": 20,
     "metadata": {},
     "output_type": "execute_result"
    }
   ],
   "source": [
    "#Testing data accuracy score\n",
    "lr.score(X_test, y_test)"
   ]
  },
  {
   "cell_type": "code",
   "execution_count": 84,
   "id": "65b4e477-97a1-40ff-8113-47ad24a9f177",
   "metadata": {},
   "outputs": [
    {
     "data": {
      "image/png": "[encoded data removed]",
      "text/plain": [
       "<Figure size 432x288 with 1 Axes>"
      ]
     },
     "metadata": {
      "needs_background": "light"
     },
     "output_type": "display_data"
    },
    {
     "data": {
      "image/png": "[encoded data removed]",
      "text/plain": [
       "<Figure size 432x288 with 1 Axes>"
      ]
     },
     "metadata": {
      "needs_background": "light"
     },
     "output_type": "display_data"
    },
    {
     "name": "stdout",
     "output_type": "stream",
     "text": [
      "Training Data ROC-AUC score logistic regression (default model): 0.9470\n",
      "Testing Data ROC-AUC score logistic regression (default model): 0.9458\n",
      "Training Data PR-AUC score logistic regression (default model): 0.8016\n",
      "Testing Data PR-AUC score logistic regression (default model): 0.7968\n"
     ]
    }
   ],
   "source": [
    "#Plotting relevant curves and printing evaluation metrics\n",
    "plot_roc_curve(y_test, lr_test_probs, naive_preds)\n",
    "plot_pr_curve(y_test, lr_test_probs)\n",
    "\n",
    "print(f'Training Data ROC-AUC score logistic regression (default model): {roc_auc_score(y_train, lr_train_probs):.4f}')\n",
    "print(f'Testing Data ROC-AUC score logistic regression (default model): {roc_auc_score(y_test, lr_test_probs):.4f}')\n",
    "\n",
    "precision, recall, _ = precision_recall_curve(y_train, lr_train_probs)\n",
    "train_pr_auc = auc(recall, precision)\n",
    "print(f'Training Data PR-AUC score logistic regression (default model): {auc(recall, precision):.4f}')\n",
    "\n",
    "precision, recall, _ = precision_recall_curve(y_test, lr_test_probs)\n",
    "test_pr_auc = auc(recall, precision)\n",
    "print(f'Testing Data PR-AUC score logistic regression (default model): {auc(recall, precision):.4f}')"
   ]
  },
  {
   "cell_type": "code",
   "execution_count": 29,
   "id": "2e52c862-f05c-4124-a1f7-4674736b0102",
   "metadata": {},
   "outputs": [
    {
     "data": {
      "image/png": "[encoded data removed]",
      "text/plain": [
       "<Figure size 432x288 with 2 Axes>"
      ]
     },
     "metadata": {
      "needs_background": "light"
     },
     "output_type": "display_data"
    }
   ],
   "source": [
    "#Confusion Matrix\n",
    "lr_cm = confusion_matrix(y_test, lr_test_preds)\n",
    "lr_cm_plot = ConfusionMatrixDisplay(lr_cm, display_labels = lr.classes_)\n",
    "lr_cm_plot.plot(cmap = 'plasma');"
   ]
  },
  {
   "cell_type": "markdown",
   "id": "f1fe7f8d-0a04-414f-8810-8d9b611a3743",
   "metadata": {
    "tags": []
   },
   "source": [
    "### Logistic Regression with GridSearchCV <a id='lr3'></a>"
   ]
  },
  {
   "cell_type": "code",
   "execution_count": 74,
   "id": "d3724f0b-6a8e-4545-acb5-ed4df5858cb8",
   "metadata": {
    "collapsed": true,
    "jupyter": {
     "outputs_hidden": true
    },
    "tags": []
   },
   "outputs": [
    {
     "name": "stdout",
     "output_type": "stream",
     "text": [
      "Fitting 3 folds for each of 54 candidates, totalling 162 fits\n",
      "[CV] END ...........C=0.001, class_weight=None, max_iter=100; total time=   1.8s\n",
      "[CV] END ...........C=0.001, class_weight=None, max_iter=100; total time=   1.8s\n",
      "[CV] END ...........C=0.001, class_weight=None, max_iter=100; total time=   1.8s\n",
      "[CV] END ..........C=0.001, class_weight=None, max_iter=1000; total time=   1.8s\n",
      "[CV] END ..........C=0.001, class_weight=None, max_iter=1000; total time=   1.8s\n",
      "[CV] END ..........C=0.001, class_weight=None, max_iter=1000; total time=   1.8s\n",
      "[CV] END ..........C=0.001, class_weight=None, max_iter=4000; total time=   1.8s\n",
      "[CV] END ..........C=0.001, class_weight=None, max_iter=4000; total time=   2.0s\n",
      "[CV] END ..........C=0.001, class_weight=None, max_iter=4000; total time=   1.9s\n",
      "[CV] END .......C=0.001, class_weight=balanced, max_iter=100; total time=   2.2s\n",
      "[CV] END .......C=0.001, class_weight=balanced, max_iter=100; total time=   2.1s\n",
      "[CV] END .......C=0.001, class_weight=balanced, max_iter=100; total time=   2.2s\n",
      "[CV] END ......C=0.001, class_weight=balanced, max_iter=1000; total time=   2.2s\n",
      "[CV] END ......C=0.001, class_weight=balanced, max_iter=1000; total time=   2.1s\n",
      "[CV] END ......C=0.001, class_weight=balanced, max_iter=1000; total time=   2.2s\n",
      "[CV] END ......C=0.001, class_weight=balanced, max_iter=4000; total time=   2.2s\n",
      "[CV] END ......C=0.001, class_weight=balanced, max_iter=4000; total time=   2.1s\n",
      "[CV] END ......C=0.001, class_weight=balanced, max_iter=4000; total time=   2.2s\n",
      "[CV] END .C=0.001, class_weight={0: 20, 1: 80}, max_iter=100; total time=   2.3s\n",
      "[CV] END .C=0.001, class_weight={0: 20, 1: 80}, max_iter=100; total time=   2.2s\n",
      "[CV] END .C=0.001, class_weight={0: 20, 1: 80}, max_iter=100; total time=   2.2s\n",
      "[CV] END C=0.001, class_weight={0: 20, 1: 80}, max_iter=1000; total time=   2.6s\n",
      "[CV] END C=0.001, class_weight={0: 20, 1: 80}, max_iter=1000; total time=   2.2s\n",
      "[CV] END C=0.001, class_weight={0: 20, 1: 80}, max_iter=1000; total time=   2.2s\n",
      "[CV] END C=0.001, class_weight={0: 20, 1: 80}, max_iter=4000; total time=   2.3s\n",
      "[CV] END C=0.001, class_weight={0: 20, 1: 80}, max_iter=4000; total time=   2.2s\n",
      "[CV] END C=0.001, class_weight={0: 20, 1: 80}, max_iter=4000; total time=   2.2s\n",
      "[CV] END ............C=0.01, class_weight=None, max_iter=100; total time=   2.0s\n",
      "[CV] END ............C=0.01, class_weight=None, max_iter=100; total time=   2.1s\n",
      "[CV] END ............C=0.01, class_weight=None, max_iter=100; total time=   2.0s\n",
      "[CV] END ...........C=0.01, class_weight=None, max_iter=1000; total time=   2.0s\n",
      "[CV] END ...........C=0.01, class_weight=None, max_iter=1000; total time=   2.1s\n",
      "[CV] END ...........C=0.01, class_weight=None, max_iter=1000; total time=   2.0s\n",
      "[CV] END ...........C=0.01, class_weight=None, max_iter=4000; total time=   2.0s\n",
      "[CV] END ...........C=0.01, class_weight=None, max_iter=4000; total time=   2.1s\n",
      "[CV] END ...........C=0.01, class_weight=None, max_iter=4000; total time=   2.3s\n",
      "[CV] END ........C=0.01, class_weight=balanced, max_iter=100; total time=   2.2s\n",
      "[CV] END ........C=0.01, class_weight=balanced, max_iter=100; total time=   2.4s\n",
      "[CV] END ........C=0.01, class_weight=balanced, max_iter=100; total time=   2.2s\n",
      "[CV] END .......C=0.01, class_weight=balanced, max_iter=1000; total time=   2.1s\n",
      "[CV] END .......C=0.01, class_weight=balanced, max_iter=1000; total time=   2.4s\n",
      "[CV] END .......C=0.01, class_weight=balanced, max_iter=1000; total time=   2.2s\n",
      "[CV] END .......C=0.01, class_weight=balanced, max_iter=4000; total time=   2.2s\n",
      "[CV] END .......C=0.01, class_weight=balanced, max_iter=4000; total time=   2.4s\n",
      "[CV] END .......C=0.01, class_weight=balanced, max_iter=4000; total time=   2.2s\n",
      "[CV] END ..C=0.01, class_weight={0: 20, 1: 80}, max_iter=100; total time=   2.3s\n",
      "[CV] END ..C=0.01, class_weight={0: 20, 1: 80}, max_iter=100; total time=   2.3s\n",
      "[CV] END ..C=0.01, class_weight={0: 20, 1: 80}, max_iter=100; total time=   2.3s\n",
      "[CV] END .C=0.01, class_weight={0: 20, 1: 80}, max_iter=1000; total time=   2.3s\n",
      "[CV] END .C=0.01, class_weight={0: 20, 1: 80}, max_iter=1000; total time=   2.6s\n",
      "[CV] END .C=0.01, class_weight={0: 20, 1: 80}, max_iter=1000; total time=   2.3s\n",
      "[CV] END .C=0.01, class_weight={0: 20, 1: 80}, max_iter=4000; total time=   2.3s\n",
      "[CV] END .C=0.01, class_weight={0: 20, 1: 80}, max_iter=4000; total time=   2.3s\n",
      "[CV] END .C=0.01, class_weight={0: 20, 1: 80}, max_iter=4000; total time=   2.3s\n",
      "[CV] END .............C=0.1, class_weight=None, max_iter=100; total time=   2.1s\n",
      "[CV] END .............C=0.1, class_weight=None, max_iter=100; total time=   2.0s\n",
      "[CV] END .............C=0.1, class_weight=None, max_iter=100; total time=   2.0s\n",
      "[CV] END ............C=0.1, class_weight=None, max_iter=1000; total time=   2.1s\n",
      "[CV] END ............C=0.1, class_weight=None, max_iter=1000; total time=   2.0s\n",
      "[CV] END ............C=0.1, class_weight=None, max_iter=1000; total time=   2.0s\n",
      "[CV] END ............C=0.1, class_weight=None, max_iter=4000; total time=   2.1s\n",
      "[CV] END ............C=0.1, class_weight=None, max_iter=4000; total time=   2.0s\n",
      "[CV] END ............C=0.1, class_weight=None, max_iter=4000; total time=   2.0s\n",
      "[CV] END .........C=0.1, class_weight=balanced, max_iter=100; total time=   2.6s\n",
      "[CV] END .........C=0.1, class_weight=balanced, max_iter=100; total time=   2.1s\n",
      "[CV] END .........C=0.1, class_weight=balanced, max_iter=100; total time=   2.2s\n",
      "[CV] END ........C=0.1, class_weight=balanced, max_iter=1000; total time=   2.3s\n",
      "[CV] END ........C=0.1, class_weight=balanced, max_iter=1000; total time=   2.1s\n",
      "[CV] END ........C=0.1, class_weight=balanced, max_iter=1000; total time=   2.2s\n",
      "[CV] END ........C=0.1, class_weight=balanced, max_iter=4000; total time=   2.3s\n",
      "[CV] END ........C=0.1, class_weight=balanced, max_iter=4000; total time=   2.1s\n",
      "[CV] END ........C=0.1, class_weight=balanced, max_iter=4000; total time=   2.2s\n",
      "[CV] END ...C=0.1, class_weight={0: 20, 1: 80}, max_iter=100; total time=   2.2s\n",
      "[CV] END ...C=0.1, class_weight={0: 20, 1: 80}, max_iter=100; total time=   2.2s\n",
      "[CV] END ...C=0.1, class_weight={0: 20, 1: 80}, max_iter=100; total time=   2.3s\n",
      "[CV] END ..C=0.1, class_weight={0: 20, 1: 80}, max_iter=1000; total time=   2.2s\n",
      "[CV] END ..C=0.1, class_weight={0: 20, 1: 80}, max_iter=1000; total time=   2.2s\n",
      "[CV] END ..C=0.1, class_weight={0: 20, 1: 80}, max_iter=1000; total time=   2.6s\n",
      "[CV] END ..C=0.1, class_weight={0: 20, 1: 80}, max_iter=4000; total time=   2.2s\n",
      "[CV] END ..C=0.1, class_weight={0: 20, 1: 80}, max_iter=4000; total time=   2.2s\n",
      "[CV] END ..C=0.1, class_weight={0: 20, 1: 80}, max_iter=4000; total time=   2.3s\n",
      "[CV] END ...............C=1, class_weight=None, max_iter=100; total time=   2.0s\n",
      "[CV] END ...............C=1, class_weight=None, max_iter=100; total time=   1.9s\n",
      "[CV] END ...............C=1, class_weight=None, max_iter=100; total time=   2.1s\n",
      "[CV] END ..............C=1, class_weight=None, max_iter=1000; total time=   2.1s\n",
      "[CV] END ..............C=1, class_weight=None, max_iter=1000; total time=   1.9s\n",
      "[CV] END ..............C=1, class_weight=None, max_iter=1000; total time=   2.0s\n",
      "[CV] END ..............C=1, class_weight=None, max_iter=4000; total time=   2.1s\n",
      "[CV] END ..............C=1, class_weight=None, max_iter=4000; total time=   1.9s\n",
      "[CV] END ..............C=1, class_weight=None, max_iter=4000; total time=   2.0s\n",
      "[CV] END ...........C=1, class_weight=balanced, max_iter=100; total time=   2.3s\n",
      "[CV] END ...........C=1, class_weight=balanced, max_iter=100; total time=   2.6s\n",
      "[CV] END ...........C=1, class_weight=balanced, max_iter=100; total time=   2.2s\n",
      "[CV] END ..........C=1, class_weight=balanced, max_iter=1000; total time=   2.3s\n",
      "[CV] END ..........C=1, class_weight=balanced, max_iter=1000; total time=   2.2s\n",
      "[CV] END ..........C=1, class_weight=balanced, max_iter=1000; total time=   2.2s\n",
      "[CV] END ..........C=1, class_weight=balanced, max_iter=4000; total time=   2.3s\n",
      "[CV] END ..........C=1, class_weight=balanced, max_iter=4000; total time=   2.2s\n",
      "[CV] END ..........C=1, class_weight=balanced, max_iter=4000; total time=   2.2s\n",
      "[CV] END .....C=1, class_weight={0: 20, 1: 80}, max_iter=100; total time=   2.2s\n",
      "[CV] END .....C=1, class_weight={0: 20, 1: 80}, max_iter=100; total time=   2.2s\n",
      "[CV] END .....C=1, class_weight={0: 20, 1: 80}, max_iter=100; total time=   2.3s\n",
      "[CV] END ....C=1, class_weight={0: 20, 1: 80}, max_iter=1000; total time=   2.2s\n",
      "[CV] END ....C=1, class_weight={0: 20, 1: 80}, max_iter=1000; total time=   2.2s\n",
      "[CV] END ....C=1, class_weight={0: 20, 1: 80}, max_iter=1000; total time=   2.3s\n",
      "[CV] END ....C=1, class_weight={0: 20, 1: 80}, max_iter=4000; total time=   2.5s\n",
      "[CV] END ....C=1, class_weight={0: 20, 1: 80}, max_iter=4000; total time=   2.2s\n",
      "[CV] END ....C=1, class_weight={0: 20, 1: 80}, max_iter=4000; total time=   2.3s\n",
      "[CV] END ..............C=10, class_weight=None, max_iter=100; total time=   2.0s\n",
      "[CV] END ..............C=10, class_weight=None, max_iter=100; total time=   1.9s\n",
      "[CV] END ..............C=10, class_weight=None, max_iter=100; total time=   2.1s\n",
      "[CV] END .............C=10, class_weight=None, max_iter=1000; total time=   2.1s\n",
      "[CV] END .............C=10, class_weight=None, max_iter=1000; total time=   1.9s\n",
      "[CV] END .............C=10, class_weight=None, max_iter=1000; total time=   2.1s\n",
      "[CV] END .............C=10, class_weight=None, max_iter=4000; total time=   2.1s\n",
      "[CV] END .............C=10, class_weight=None, max_iter=4000; total time=   1.9s\n",
      "[CV] END .............C=10, class_weight=None, max_iter=4000; total time=   2.0s\n",
      "[CV] END ..........C=10, class_weight=balanced, max_iter=100; total time=   2.3s\n",
      "[CV] END ..........C=10, class_weight=balanced, max_iter=100; total time=   2.4s\n",
      "[CV] END ..........C=10, class_weight=balanced, max_iter=100; total time=   2.5s\n",
      "[CV] END .........C=10, class_weight=balanced, max_iter=1000; total time=   2.3s\n",
      "[CV] END .........C=10, class_weight=balanced, max_iter=1000; total time=   2.3s\n",
      "[CV] END .........C=10, class_weight=balanced, max_iter=1000; total time=   2.3s\n",
      "[CV] END .........C=10, class_weight=balanced, max_iter=4000; total time=   2.3s\n",
      "[CV] END .........C=10, class_weight=balanced, max_iter=4000; total time=   2.3s\n",
      "[CV] END .........C=10, class_weight=balanced, max_iter=4000; total time=   2.2s\n",
      "[CV] END ....C=10, class_weight={0: 20, 1: 80}, max_iter=100; total time=   2.2s\n",
      "[CV] END ....C=10, class_weight={0: 20, 1: 80}, max_iter=100; total time=   2.2s\n",
      "[CV] END ....C=10, class_weight={0: 20, 1: 80}, max_iter=100; total time=   2.3s\n",
      "[CV] END ...C=10, class_weight={0: 20, 1: 80}, max_iter=1000; total time=   2.2s\n",
      "[CV] END ...C=10, class_weight={0: 20, 1: 80}, max_iter=1000; total time=   2.2s\n",
      "[CV] END ...C=10, class_weight={0: 20, 1: 80}, max_iter=1000; total time=   2.3s\n",
      "[CV] END ...C=10, class_weight={0: 20, 1: 80}, max_iter=4000; total time=   2.2s\n",
      "[CV] END ...C=10, class_weight={0: 20, 1: 80}, max_iter=4000; total time=   2.5s\n",
      "[CV] END ...C=10, class_weight={0: 20, 1: 80}, max_iter=4000; total time=   2.3s\n",
      "[CV] END .............C=100, class_weight=None, max_iter=100; total time=   2.1s\n",
      "[CV] END .............C=100, class_weight=None, max_iter=100; total time=   1.9s\n",
      "[CV] END .............C=100, class_weight=None, max_iter=100; total time=   2.1s\n",
      "[CV] END ............C=100, class_weight=None, max_iter=1000; total time=   2.0s\n",
      "[CV] END ............C=100, class_weight=None, max_iter=1000; total time=   1.9s\n",
      "[CV] END ............C=100, class_weight=None, max_iter=1000; total time=   2.0s\n",
      "[CV] END ............C=100, class_weight=None, max_iter=4000; total time=   2.1s\n",
      "[CV] END ............C=100, class_weight=None, max_iter=4000; total time=   1.9s\n",
      "[CV] END ............C=100, class_weight=None, max_iter=4000; total time=   2.0s\n",
      "[CV] END .........C=100, class_weight=balanced, max_iter=100; total time=   2.3s\n",
      "[CV] END .........C=100, class_weight=balanced, max_iter=100; total time=   2.3s\n",
      "[CV] END .........C=100, class_weight=balanced, max_iter=100; total time=   2.2s\n",
      "[CV] END ........C=100, class_weight=balanced, max_iter=1000; total time=   2.6s\n",
      "[CV] END ........C=100, class_weight=balanced, max_iter=1000; total time=   2.3s\n",
      "[CV] END ........C=100, class_weight=balanced, max_iter=1000; total time=   2.2s\n",
      "[CV] END ........C=100, class_weight=balanced, max_iter=4000; total time=   2.3s\n",
      "[CV] END ........C=100, class_weight=balanced, max_iter=4000; total time=   2.3s\n",
      "[CV] END ........C=100, class_weight=balanced, max_iter=4000; total time=   2.2s\n",
      "[CV] END ...C=100, class_weight={0: 20, 1: 80}, max_iter=100; total time=   2.2s\n",
      "[CV] END ...C=100, class_weight={0: 20, 1: 80}, max_iter=100; total time=   2.2s\n",
      "[CV] END ...C=100, class_weight={0: 20, 1: 80}, max_iter=100; total time=   2.3s\n",
      "[CV] END ..C=100, class_weight={0: 20, 1: 80}, max_iter=1000; total time=   2.2s\n",
      "[CV] END ..C=100, class_weight={0: 20, 1: 80}, max_iter=1000; total time=   2.2s\n",
      "[CV] END ..C=100, class_weight={0: 20, 1: 80}, max_iter=1000; total time=   2.3s\n",
      "[CV] END ..C=100, class_weight={0: 20, 1: 80}, max_iter=4000; total time=   2.3s\n",
      "[CV] END ..C=100, class_weight={0: 20, 1: 80}, max_iter=4000; total time=   2.2s\n",
      "[CV] END ..C=100, class_weight={0: 20, 1: 80}, max_iter=4000; total time=   2.7s\n"
     ]
    },
    {
     "data": {
      "text/plain": [
       "GridSearchCV(cv=3, estimator=LogisticRegression(),\n",
       "             param_grid={'C': [0.001, 0.01, 0.1, 1, 10, 100],\n",
       "                         'class_weight': [None, 'balanced', {0: 20, 1: 80}],\n",
       "                         'max_iter': [100, 1000, 4000]},\n",
       "             verbose=2)"
      ]
     },
     "execution_count": 74,
     "metadata": {},
     "output_type": "execute_result"
    }
   ],
   "source": [
    "#Fitting model with different parameters\n",
    "lr_params = {\n",
    "    'C' : [0.001, 0.01, 0.1, 1, 10, 100],\n",
    "    'class_weight' : [None, 'balanced', {0 : 20, 1: 80}],\n",
    "    'max_iter'     : [100, 1000, 4000],\n",
    "}\n",
    "\n",
    "lr_gs = GridSearchCV(LogisticRegression(),\n",
    "                     param_grid = lr_params,\n",
    "                     cv = 3,\n",
    "                     verbose = 2)\n",
    "\n",
    "lr_gs.fit(X_train, y_train)"
   ]
  },
  {
   "cell_type": "code",
   "execution_count": 75,
   "id": "a0c60286-d1ce-4c2f-a379-18dfe7c5ce3f",
   "metadata": {},
   "outputs": [],
   "source": [
    "#Generating predictions \n",
    "gs_test_probs = lr_gs.predict_proba(X_test)[:,1]\n",
    "gs_train_probs = lr_gs.predict_proba(X_train)[:,1]\n",
    "\n",
    "gs_train_preds = lr_gs.predict(X_train)\n",
    "gs_test_preds = lr_gs.predict(X_test)"
   ]
  },
  {
   "cell_type": "code",
   "execution_count": 95,
   "id": "40674eca-fbc4-431d-905c-ac1942843e11",
   "metadata": {},
   "outputs": [
    {
     "name": "stdout",
     "output_type": "stream",
     "text": [
      "0.9020393934111905\n",
      "0.9015202613091223\n",
      "0.6853536220277253\n",
      "0.7911512216596962\n",
      "{'C': 10, 'class_weight': None, 'max_iter': 100}\n"
     ]
    }
   ],
   "source": [
    "#Printing accuracy score, recall score, and best parameters found via GridSearch\n",
    "print(f'Training data accuracy score: {lr_gs.score(X_train, y_train)}')\n",
    "print(f'Testing data accuracy score: {lr_gs.score(X_test, y_test)}')\n",
    "print(f' Testing data recall_score: {(y_test, gs_test_preds)}')\n",
    "print(f' Testing data precision_score: {(y_test, gs_test_preds)}')\n",
    "print(f' Best Parameters:\n",
    "      {lr_gs.best_params_}')"
   ]
  },
  {
   "cell_type": "code",
   "execution_count": 78,
   "id": "224db322-12cd-48e9-8ed9-6609cbb88ff8",
   "metadata": {},
   "outputs": [
    {
     "data": {
      "image/png": "[encoded data removed]",
      "text/plain": [
       "<Figure size 432x288 with 1 Axes>"
      ]
     },
     "metadata": {
      "needs_background": "light"
     },
     "output_type": "display_data"
    },
    {
     "data": {
      "image/png": "[encoded data removed]",
      "text/plain": [
       "<Figure size 432x288 with 1 Axes>"
      ]
     },
     "metadata": {
      "needs_background": "light"
     },
     "output_type": "display_data"
    },
    {
     "name": "stdout",
     "output_type": "stream",
     "text": [
      "Training Data ROC-AUC score logistic regression (default model): 0.947\n",
      "Testing Data ROC-AUC score logistic regression (default model): 0.946\n",
      "Training Data PR-AUC score logistic regression (default model): 0.802\n",
      "Testing Data PR-AUC score logistic regression (default model): 0.797\n"
     ]
    }
   ],
   "source": [
    "#Plotting relevant curves and printing evaluation metrics\n",
    "plot_roc_curve(y_test, gs_test_probs, naive_preds)\n",
    "plot_pr_curve(y_test, gs_test_probs)\n",
    "\n",
    "print(f'Training Data ROC-AUC score logistic regression (default model): {roc_auc_score(y_train, gs_train_probs):.4f}')\n",
    "print(f'Testing Data ROC-AUC score logistic regression (default model): {roc_auc_score(y_test, gs_test_probs):.4f}')\n",
    "\n",
    "precision, recall, _ = precision_recall_curve(y_train, gs_train_probs)\n",
    "print(f'Training Data PR-AUC score logistic regression (default model): {auc(recall, precision):.4f}')\n",
    "precision, recall, _ = precision_recall_curve(y_test, gs_test_probs)\n",
    "print(f'Testing Data PR-AUC score logistic regression (default model): {auc(recall, precision):.4f}')"
   ]
  },
  {
   "cell_type": "code",
   "execution_count": 63,
   "id": "79fa83af-d21f-4b65-b94f-987da82399a8",
   "metadata": {},
   "outputs": [],
   "source": [
    "#Generating values for validation curve, checking c-parameter\n",
    "c_param = [0.001, 0.01, 0.1, 1, 10, 100]\n",
    "\n",
    "train_scores, test_scores = validation_curve(\n",
    "        estimator=lr_gs.best_estimator_, X=X_train, y=y_train, param_name=\"C\", param_range=c_param,\n",
    "        cv=5, scoring=\"accuracy\", n_jobs=-1)\n",
    "\n",
    "train_scores_mean = np.mean(train_scores, axis=1)\n",
    "train_scores_std = np.std(train_scores, axis=1)\n",
    "test_scores_mean = np.mean(test_scores, axis=1)\n",
    "test_scores_std = np.std(test_scores, axis=1)\n"
   ]
  },
  {
   "cell_type": "code",
   "execution_count": 73,
   "id": "c2486842-5286-4120-9ae3-a1adeb98b503",
   "metadata": {},
   "outputs": [
    {
     "data": {
      "image/png": "[encoded data removed]",
      "text/plain": [
       "<Figure size 432x288 with 1 Axes>"
      ]
     },
     "metadata": {
      "needs_background": "light"
     },
     "output_type": "display_data"
    }
   ],
   "source": [
    "#Generating validation curve, evaluating c-value\n",
    "plt.title(\"Validation Curve with Log Reg\")\n",
    "plt.xlabel('C-Value')\n",
    "plt.ylabel(\"Score\")\n",
    "plt.ylim(0.90109, 0.9024)\n",
    "lw = 2\n",
    "plt.semilogx(c_param, train_scores_mean, label=\"Training score\",\n",
    "             color=\"darkorange\", lw=lw)\n",
    "plt.fill_between(c_param, train_scores_mean - train_scores_std,\n",
    "                 train_scores_mean + train_scores_std, alpha=0.2,\n",
    "                 color=\"darkorange\", lw=lw)\n",
    "plt.semilogx(c_param, test_scores_mean, label=\"Cross-validation score\",\n",
    "             color=\"navy\", lw=lw)\n",
    "plt.fill_between(c_param, test_scores_mean - test_scores_std,\n",
    "                 test_scores_mean + test_scores_std, alpha=0.2,\n",
    "                 color=\"navy\", lw=lw)\n",
    "plt.legend(loc=\"best\")\n",
    "plt.show()"
   ]
  },
  {
   "cell_type": "code",
   "execution_count": 100,
   "id": "250bf72f-458e-4e94-9e28-c99c8f1f9798",
   "metadata": {},
   "outputs": [
    {
     "data": {
      "image/png": "[encoded data removed]",
      "text/plain": [
       "<Figure size 432x288 with 2 Axes>"
      ]
     },
     "metadata": {
      "needs_background": "light"
     },
     "output_type": "display_data"
    }
   ],
   "source": [
    "#Confusion Matrix for Logistic Regression + GridSearchCV\n",
    "lr_gs_cm = confusion_matrix(y_test, gs_test_preds)\n",
    "lr_gs_cm_plot = ConfusionMatrixDisplay(lr_gs_cm, display_labels = lr_gs.classes_)\n",
    "lr_gs_cm_plot.plot(cmap = 'plasma');"
   ]
  },
  {
   "cell_type": "markdown",
   "id": "649bd379-135e-413f-b29a-40e4f6489c80",
   "metadata": {},
   "source": [
    "### Logistic Regression with Best Parameters <a id='lr4'></a>"
   ]
  },
  {
   "cell_type": "code",
   "execution_count": 102,
   "id": "a9527fe3-8810-4447-9173-84d230d384b6",
   "metadata": {},
   "outputs": [],
   "source": [
    "#Fitting model and generating predictions\n",
    "best_lr = LogisticRegression(C = 10, class_weight= None, max_iter = 100)\n",
    "best_lr.fit(X_train, y_train)\n",
    "\n",
    "lr_train_preds = best_lr.predict(X_train)\n",
    "lr_test_preds = best_lr.predict(X_test)\n",
    "\n",
    "lr_train_probs = best_lr.predict_proba(X_train)[:,1]\n",
    "lr_test_probs = best_lr.predict_proba(X_test)[:,1]\n"
   ]
  },
  {
   "cell_type": "code",
   "execution_count": 103,
   "id": "cd93264e-d554-4442-aeb3-6371b7eab93d",
   "metadata": {},
   "outputs": [
    {
     "name": "stdout",
     "output_type": "stream",
     "text": [
      "0.9020393934111905\n",
      "0.9015202613091223\n"
     ]
    }
   ],
   "source": [
    "#Testing and training data accuracy scores\n",
    "print(best_lr.score(X_train, y_train))\n",
    "print(best_lr.score(X_test, y_test))"
   ]
  },
  {
   "cell_type": "code",
   "execution_count": 109,
   "id": "05c8172e-575e-4ea6-95be-473f7e0cda53",
   "metadata": {},
   "outputs": [
    {
     "data": {
      "text/html": [
       "<div>\n",
       "<style scoped>\n",
       "    .dataframe tbody tr th:only-of-type {\n",
       "        vertical-align: middle;\n",
       "    }\n",
       "\n",
       "    .dataframe tbody tr th {\n",
       "        vertical-align: top;\n",
       "    }\n",
       "\n",
       "    .dataframe thead th {\n",
       "        text-align: right;\n",
       "    }\n",
       "</style>\n",
       "<table border=\"1\" class=\"dataframe\">\n",
       "  <thead>\n",
       "    <tr style=\"text-align: right;\">\n",
       "      <th></th>\n",
       "      <th>coef</th>\n",
       "    </tr>\n",
       "  </thead>\n",
       "  <tbody>\n",
       "    <tr>\n",
       "      <th>term</th>\n",
       "      <td>1.589137</td>\n",
       "    </tr>\n",
       "    <tr>\n",
       "      <th>installment</th>\n",
       "      <td>1.507263</td>\n",
       "    </tr>\n",
       "    <tr>\n",
       "      <th>dti</th>\n",
       "      <td>1.225020</td>\n",
       "    </tr>\n",
       "    <tr>\n",
       "      <th>emp_length_unreported</th>\n",
       "      <td>1.142226</td>\n",
       "    </tr>\n",
       "    <tr>\n",
       "      <th>credit_file_age</th>\n",
       "      <td>1.107341</td>\n",
       "    </tr>\n",
       "    <tr>\n",
       "      <th>total_acc</th>\n",
       "      <td>1.059719</td>\n",
       "    </tr>\n",
       "    <tr>\n",
       "      <th>purpose_small_business</th>\n",
       "      <td>1.059057</td>\n",
       "    </tr>\n",
       "    <tr>\n",
       "      <th>home_ownership_RENT</th>\n",
       "      <td>1.030793</td>\n",
       "    </tr>\n",
       "    <tr>\n",
       "      <th>inq_last_6mths</th>\n",
       "      <td>1.022393</td>\n",
       "    </tr>\n",
       "    <tr>\n",
       "      <th>purpose_medical</th>\n",
       "      <td>1.019403</td>\n",
       "    </tr>\n",
       "    <tr>\n",
       "      <th>open_acc</th>\n",
       "      <td>1.016001</td>\n",
       "    </tr>\n",
       "    <tr>\n",
       "      <th>tax_liens</th>\n",
       "      <td>1.014667</td>\n",
       "    </tr>\n",
       "    <tr>\n",
       "      <th>purpose_other</th>\n",
       "      <td>1.014387</td>\n",
       "    </tr>\n",
       "    <tr>\n",
       "      <th>int_rate</th>\n",
       "      <td>1.014139</td>\n",
       "    </tr>\n",
       "    <tr>\n",
       "      <th>emp_length_&lt;1 year</th>\n",
       "      <td>1.012446</td>\n",
       "    </tr>\n",
       "    <tr>\n",
       "      <th>purpose_moving</th>\n",
       "      <td>1.011677</td>\n",
       "    </tr>\n",
       "    <tr>\n",
       "      <th>purpose_vacation</th>\n",
       "      <td>1.008322</td>\n",
       "    </tr>\n",
       "    <tr>\n",
       "      <th>pub_rec_bankruptcies</th>\n",
       "      <td>1.007864</td>\n",
       "    </tr>\n",
       "    <tr>\n",
       "      <th>purpose_educational</th>\n",
       "      <td>1.006863</td>\n",
       "    </tr>\n",
       "    <tr>\n",
       "      <th>home_ownership_ANY</th>\n",
       "      <td>1.006757</td>\n",
       "    </tr>\n",
       "    <tr>\n",
       "      <th>home_ownership_OTHER</th>\n",
       "      <td>1.005116</td>\n",
       "    </tr>\n",
       "    <tr>\n",
       "      <th>purpose_renewable_energy</th>\n",
       "      <td>1.004805</td>\n",
       "    </tr>\n",
       "    <tr>\n",
       "      <th>purpose_home_improvement</th>\n",
       "      <td>1.002691</td>\n",
       "    </tr>\n",
       "    <tr>\n",
       "      <th>purpose_major_purchase</th>\n",
       "      <td>1.002555</td>\n",
       "    </tr>\n",
       "    <tr>\n",
       "      <th>home_ownership_OWN</th>\n",
       "      <td>1.000181</td>\n",
       "    </tr>\n",
       "    <tr>\n",
       "      <th>revol_bal</th>\n",
       "      <td>0.999694</td>\n",
       "    </tr>\n",
       "    <tr>\n",
       "      <th>home_ownership_NONE</th>\n",
       "      <td>0.999288</td>\n",
       "    </tr>\n",
       "    <tr>\n",
       "      <th>purpose_wedding</th>\n",
       "      <td>0.993773</td>\n",
       "    </tr>\n",
       "    <tr>\n",
       "      <th>purpose_house</th>\n",
       "      <td>0.993436</td>\n",
       "    </tr>\n",
       "    <tr>\n",
       "      <th>purpose_car</th>\n",
       "      <td>0.990949</td>\n",
       "    </tr>\n",
       "    <tr>\n",
       "      <th>pub_rec</th>\n",
       "      <td>0.990904</td>\n",
       "    </tr>\n",
       "    <tr>\n",
       "      <th>avg_cur_bal</th>\n",
       "      <td>0.990321</td>\n",
       "    </tr>\n",
       "    <tr>\n",
       "      <th>purpose_debt_consolidation</th>\n",
       "      <td>0.987339</td>\n",
       "    </tr>\n",
       "    <tr>\n",
       "      <th>delinq_2yrs</th>\n",
       "      <td>0.986538</td>\n",
       "    </tr>\n",
       "    <tr>\n",
       "      <th>emp_length_1-5 years</th>\n",
       "      <td>0.985603</td>\n",
       "    </tr>\n",
       "    <tr>\n",
       "      <th>purpose_credit_card</th>\n",
       "      <td>0.984528</td>\n",
       "    </tr>\n",
       "    <tr>\n",
       "      <th>emp_length_10+ years</th>\n",
       "      <td>0.970978</td>\n",
       "    </tr>\n",
       "    <tr>\n",
       "      <th>home_ownership_MORTGAGE</th>\n",
       "      <td>0.970314</td>\n",
       "    </tr>\n",
       "    <tr>\n",
       "      <th>emp_length_5-10 years</th>\n",
       "      <td>0.965712</td>\n",
       "    </tr>\n",
       "    <tr>\n",
       "      <th>mort_acc</th>\n",
       "      <td>0.952256</td>\n",
       "    </tr>\n",
       "    <tr>\n",
       "      <th>loan_amnt</th>\n",
       "      <td>0.911036</td>\n",
       "    </tr>\n",
       "    <tr>\n",
       "      <th>revol_util</th>\n",
       "      <td>0.888493</td>\n",
       "    </tr>\n",
       "    <tr>\n",
       "      <th>log_annual_inc</th>\n",
       "      <td>0.883702</td>\n",
       "    </tr>\n",
       "    <tr>\n",
       "      <th>fico</th>\n",
       "      <td>0.065378</td>\n",
       "    </tr>\n",
       "  </tbody>\n",
       "</table>\n",
       "</div>"
      ],
      "text/plain": [
       "                                coef\n",
       "term                        1.589137\n",
       "installment                 1.507263\n",
       "dti                         1.225020\n",
       "emp_length_unreported       1.142226\n",
       "credit_file_age             1.107341\n",
       "total_acc                   1.059719\n",
       "purpose_small_business      1.059057\n",
       "home_ownership_RENT         1.030793\n",
       "inq_last_6mths              1.022393\n",
       "purpose_medical             1.019403\n",
       "open_acc                    1.016001\n",
       "tax_liens                   1.014667\n",
       "purpose_other               1.014387\n",
       "int_rate                    1.014139\n",
       "emp_length_<1 year          1.012446\n",
       "purpose_moving              1.011677\n",
       "purpose_vacation            1.008322\n",
       "pub_rec_bankruptcies        1.007864\n",
       "purpose_educational         1.006863\n",
       "home_ownership_ANY          1.006757\n",
       "home_ownership_OTHER        1.005116\n",
       "purpose_renewable_energy    1.004805\n",
       "purpose_home_improvement    1.002691\n",
       "purpose_major_purchase      1.002555\n",
       "home_ownership_OWN          1.000181\n",
       "revol_bal                   0.999694\n",
       "home_ownership_NONE         0.999288\n",
       "purpose_wedding             0.993773\n",
       "purpose_house               0.993436\n",
       "purpose_car                 0.990949\n",
       "pub_rec                     0.990904\n",
       "avg_cur_bal                 0.990321\n",
       "purpose_debt_consolidation  0.987339\n",
       "delinq_2yrs                 0.986538\n",
       "emp_length_1-5 years        0.985603\n",
       "purpose_credit_card         0.984528\n",
       "emp_length_10+ years        0.970978\n",
       "home_ownership_MORTGAGE     0.970314\n",
       "emp_length_5-10 years       0.965712\n",
       "mort_acc                    0.952256\n",
       "loan_amnt                   0.911036\n",
       "revol_util                  0.888493\n",
       "log_annual_inc              0.883702\n",
       "fico                        0.065378"
      ]
     },
     "execution_count": 109,
     "metadata": {},
     "output_type": "execute_result"
    }
   ],
   "source": [
    "#Creating dataframe with log reg coefficients\n",
    "odds = np.exp(best_lr.coef_[0])\n",
    "pd.DataFrame(odds,\n",
    "             X.columns,\n",
    "             columns = ['coef']).sort_values(by = 'coef', ascending = False)"
   ]
  },
  {
   "cell_type": "code",
   "execution_count": null,
   "id": "699690fc-9bac-4d00-b59e-74330a3991c0",
   "metadata": {},
   "outputs": [],
   "source": [
    "#Exporting for evaluation\n",
    "lr_probs = pd.DataFrame(lr_test_probs, columns = ['lr_probs'])\n",
    "lr_probs.to_csv('../data/lr_probs.csv')"
   ]
  }
 ],
 "metadata": {
  "kernelspec": {
   "display_name": "Python 3",
   "language": "python",
   "name": "python3"
  },
  "language_info": {
   "codemirror_mode": {
    "name": "ipython",
    "version": 3
   },
   "file_extension": ".py",
   "mimetype": "text/x-python",
   "name": "python",
   "nbconvert_exporter": "python",
   "pygments_lexer": "ipython3",
   "version": "3.8.11"
  }
 },
 "nbformat": 4,
 "nbformat_minor": 5
}
