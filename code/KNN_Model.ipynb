{
 "cells": [
  {
   "cell_type": "markdown",
   "id": "052bb70e-312a-4dc9-b30c-9470128a2f18",
   "metadata": {},
   "source": [
    "### Table of Contents\n",
    "\n",
    "1. [Data Preparation](#knn_dataprep)\n",
    "2. [Default KNN Model](#1stmodel_knn)\n",
    "3. [KNN Model with cross-validated Grid Search - Version 1](#2ndmodel_knn)\n",
    "4. [KNN Modewl with cross-validated Grid Search - Version 2](#3rdmodel_knn)"
   ]
  },
  {
   "cell_type": "markdown",
   "id": "6a708dd3-b983-4e01-9e19-daabf28d89b0",
   "metadata": {
    "tags": []
   },
   "source": [
    "### Data Preparation <a id='knn_dataprep'></a>"
   ]
  },
  {
   "cell_type": "markdown",
   "id": "478b0990-7c9e-4db6-b82d-2b45f8b8fe3b",
   "metadata": {},
   "source": [
    "#### Imports"
   ]
  },
  {
   "cell_type": "code",
   "execution_count": 1,
   "id": "a89eac95-4e20-4b7c-a56e-63e651a8bf00",
   "metadata": {},
   "outputs": [],
   "source": [
    "import numpy as np\n",
    "import pandas as pd\n",
    "import matplotlib.pyplot as plt\n",
    "import seaborn as sns\n",
    "\n",
    "from sklearn.model_selection import train_test_split, GridSearchCV\n",
    "from sklearn.preprocessing import StandardScaler\n",
    "from sklearn.neighbors import KNeighborsClassifier\n",
    "from sklearn.pipeline import Pipeline\n",
    "from sklearn.metrics import precision_recall_curve, auc, roc_curve, roc_auc_score, confusion_matrix, ConfusionMatrixDisplay, precision_score, recall_score, accuracy_score\n",
    "from sklearn.dummy import DummyClassifier\n",
    "\n",
    "%matplotlib inline\n",
    "\n",
    "import warnings\n",
    "warnings.filterwarnings('ignore')"
   ]
  },
  {
   "cell_type": "code",
   "execution_count": 59,
   "id": "2cbff9ab-b68d-4196-b991-c119ee0b6bf3",
   "metadata": {},
   "outputs": [],
   "source": [
    "def plot_roc_curve(test, model_probs, naive_probs):\n",
    "    fpr, tpr, _ = roc_curve(test, naive_probs)\n",
    "    plt.plot(fpr, tpr, linestyle = '--', label = 'Baseline')\n",
    "    fpr, tpr, _ = roc_curve(test, model_probs)\n",
    "    plt.plot(fpr, tpr, marker = '.', label = 'KNN Model', markersize = 0.1)\n",
    "    plt.xlabel('False Positive Rate')\n",
    "    plt.ylabel('True Positive Rate')\n",
    "    plt.legend()\n",
    "    plt.title('ROC Curve')\n",
    "    plt.show()\n",
    "    \n",
    "def plot_pr_curve(test, model_probs):\n",
    "    no_skill = len(test[test == 1]) / len(test)\n",
    "    \n",
    "    plt.plot( [no_skill, no_skill], linestyle = '--', label = 'Baseline')\n",
    "    \n",
    "    precision, recall, _ = precision_recall_curve(test, model_probs)\n",
    "    plt.plot(recall, precision, marker = '.', label = 'KNN Model', markersize = 0.1)\n",
    "    plt.xlabel('Recall')\n",
    "    plt.ylabel('Precision')\n",
    "    plt.title('Precision - Recall Curve')\n",
    "    plt.legend()\n",
    "    plt.show()"
   ]
  },
  {
   "cell_type": "markdown",
   "id": "f715d4c6-5183-471e-9912-304f26585a53",
   "metadata": {},
   "source": [
    "#### Setting Up Data"
   ]
  },
  {
   "cell_type": "code",
   "execution_count": 2,
   "id": "f012645f-f368-4dcc-8c17-3d446abf2870",
   "metadata": {},
   "outputs": [],
   "source": [
    "#Reading in data with random forest selected features\n",
    "df = pd.read_csv('../data/loan_rf_features.csv')"
   ]
  },
  {
   "cell_type": "code",
   "execution_count": 10,
   "id": "8a5063af-2b17-4b99-85ff-3abc66d00879",
   "metadata": {},
   "outputs": [],
   "source": [
    "#Setting up X and y\n",
    "X = pd.get_dummies(df.drop(columns = ['loan_status']))\n",
    "y = df['loan_status']"
   ]
  },
  {
   "cell_type": "code",
   "execution_count": 11,
   "id": "99970daa-6d59-40a2-8633-9619a7414936",
   "metadata": {},
   "outputs": [
    {
     "name": "stderr",
     "output_type": "stream",
     "text": [
      "C:\\Users\\eddie\\anaconda3\\lib\\site-packages\\pandas\\core\\frame.py:3673: SettingWithCopyWarning: \n",
      "A value is trying to be set on a copy of a slice from a DataFrame.\n",
      "Try using .loc[row_indexer,col_indexer] = value instead\n",
      "\n",
      "See the caveats in the documentation: https://pandas.pydata.org/pandas-docs/stable/user_guide/indexing.html#returning-a-view-versus-a-copy\n",
      "  self[col] = igetitem(value, i)\n",
      "C:\\Users\\eddie\\anaconda3\\lib\\site-packages\\pandas\\core\\frame.py:3673: SettingWithCopyWarning: \n",
      "A value is trying to be set on a copy of a slice from a DataFrame.\n",
      "Try using .loc[row_indexer,col_indexer] = value instead\n",
      "\n",
      "See the caveats in the documentation: https://pandas.pydata.org/pandas-docs/stable/user_guide/indexing.html#returning-a-view-versus-a-copy\n",
      "  self[col] = igetitem(value, i)\n"
     ]
    }
   ],
   "source": [
    "#Train, test, split with scaling\n",
    "X_train, X_test, y_train, y_test = train_test_split(X, y,\n",
    "                                                    random_state = 42,\n",
    "                                                    stratify = y,\n",
    "                                                    test_size= 0.2)\n",
    "\n",
    "ss = StandardScaler()\n",
    "X_train = ss.fit_transform(X_train)\n",
    "X_test = ss.transform(X_test)"
   ]
  },
  {
   "cell_type": "code",
   "execution_count": 45,
   "id": "e48f15b4-6454-4492-8c19-df03785c7b05",
   "metadata": {},
   "outputs": [],
   "source": [
    "#Baseline Model\n",
    "dummy_model = DummyClassifier(strategy= 'stratified')\n",
    "dummy_model.fit(X_train, y_train)\n",
    "naive_preds = dummy_model.predict_proba(X_test)[:, 1]"
   ]
  },
  {
   "cell_type": "markdown",
   "id": "fcad3df8-d50e-4d30-a39f-e7a07cb92a59",
   "metadata": {},
   "source": [
    "### Default K-Nearest Neighbors Model <a id='1stmodel_knn'></a>"
   ]
  },
  {
   "cell_type": "code",
   "execution_count": 12,
   "id": "7442790e-e687-4db3-abe6-1a124be6e742",
   "metadata": {},
   "outputs": [],
   "source": [
    "#Instantiating and fitting model\n",
    "knn = KNeighborsClassifier()\n",
    "knn.fit(X_train, y_train)"
   ]
  },
  {
   "cell_type": "code",
   "execution_count": 14,
   "id": "d73847fe-9d5c-44e5-bb3a-e9696125eb0a",
   "metadata": {},
   "outputs": [
    {
     "data": {
      "text/plain": [
       "0.913332411273882"
      ]
     },
     "execution_count": 14,
     "metadata": {},
     "output_type": "execute_result"
    }
   ],
   "source": [
    "#Training data accuracy score\n",
    "knn.score(X_train, y_train)  "
   ]
  },
  {
   "cell_type": "code",
   "execution_count": 15,
   "id": "32e93aa3-4368-43b7-bf7e-51c61e565c15",
   "metadata": {},
   "outputs": [
    {
     "data": {
      "text/plain": [
       "0.8779319595910603"
      ]
     },
     "execution_count": 15,
     "metadata": {},
     "output_type": "execute_result"
    }
   ],
   "source": [
    "#Testing Data accuracy score\n",
    "knn.score(X_test, y_test)"
   ]
  },
  {
   "cell_type": "markdown",
   "id": "a4262c41-2a06-4aea-92d4-45323737ef25",
   "metadata": {},
   "source": [
    "### K-Nearest Neighbors with GridSearch CV - Version 1 <a id='2ndmodel_knn'></a>"
   ]
  },
  {
   "cell_type": "code",
   "execution_count": 18,
   "id": "2aa323c8-0071-42ef-b111-4c6974a38a13",
   "metadata": {
    "collapsed": true,
    "jupyter": {
     "outputs_hidden": true
    },
    "tags": []
   },
   "outputs": [
    {
     "name": "stdout",
     "output_type": "stream",
     "text": [
      "Fitting 3 folds for each of 4 candidates, totalling 12 fits\n"
     ]
    },
    {
     "name": "stderr",
     "output_type": "stream",
     "text": [
      "C:\\Users\\eddie\\anaconda3\\lib\\site-packages\\sklearn\\model_selection\\_search.py:922: UserWarning: One or more of the test scores are non-finite: [nan nan nan nan]\n",
      "  warnings.warn(\n"
     ]
    },
    {
     "data": {
      "text/plain": [
       "GridSearchCV(cv=3, estimator=KNeighborsClassifier(), n_jobs=-1,\n",
       "             param_grid={'metric': ['euclidean', 'manhattan'],\n",
       "                         'n_neighbors': [3, 10]},\n",
       "             verbose=2)"
      ]
     },
     "execution_count": 18,
     "metadata": {},
     "output_type": "execute_result"
    }
   ],
   "source": [
    "#Instantiating model and fitting using specified KNN parameters\n",
    "knn_params = {\n",
    "    'n_neighbors' : [3, 10],\n",
    "    'metric'     : ['euclidean', 'manhattan']\n",
    "}\n",
    "\n",
    "knn_gs = GridSearchCV(KNeighborsClassifier(),\n",
    "                      param_grid = knn_params,\n",
    "                      cv = 3,\n",
    "                      verbose = 2,\n",
    "                      n_jobs = -1)\n",
    "\n",
    "knn_gs.fit(X_train, y_train)"
   ]
  },
  {
   "cell_type": "code",
   "execution_count": 20,
   "id": "7840aa42-8208-4b0f-af58-fbdc62c27850",
   "metadata": {},
   "outputs": [
    {
     "data": {
      "text/plain": [
       "{'metric': 'euclidean', 'n_neighbors': 3}"
      ]
     },
     "execution_count": 20,
     "metadata": {},
     "output_type": "execute_result"
    }
   ],
   "source": [
    "#Best Parameters\n",
    "knn_gs.best_params_"
   ]
  },
  {
   "cell_type": "code",
   "execution_count": 22,
   "id": "23fe65e2-77cb-4c35-936c-96df4a4758d5",
   "metadata": {},
   "outputs": [
    {
     "data": {
      "text/plain": [
       "0.8707020030162712"
      ]
     },
     "execution_count": 22,
     "metadata": {},
     "output_type": "execute_result"
    }
   ],
   "source": [
    "#Testing data accuracy score\n",
    "knn_gs.score(X_test, y_test)"
   ]
  },
  {
   "cell_type": "code",
   "execution_count": 24,
   "id": "dc839af5-266e-417b-bd44-3437ab2cb63d",
   "metadata": {},
   "outputs": [],
   "source": [
    "#Generating predicted probabilities\n",
    "knn_test_probs = knn_gs.predict_proba(X_test)[:, 1]"
   ]
  },
  {
   "cell_type": "code",
   "execution_count": 61,
   "id": "c70fa7c0-fcf8-4733-bdfc-85ef2ae37708",
   "metadata": {},
   "outputs": [
    {
     "ename": "NameError",
     "evalue": "name 'knn_test_probns' is not defined",
     "output_type": "error",
     "traceback": [
      "\u001b[1;31m---------------------------------------------------------------------------\u001b[0m",
      "\u001b[1;31mNameError\u001b[0m                                 Traceback (most recent call last)",
      "\u001b[1;32m<ipython-input-61-9b2923e34503>\u001b[0m in \u001b[0;36m<module>\u001b[1;34m\u001b[0m\n\u001b[1;32m----> 1\u001b[1;33m \u001b[0mplot_roc_curve\u001b[0m\u001b[1;33m(\u001b[0m\u001b[0my_test\u001b[0m\u001b[1;33m,\u001b[0m \u001b[0mknn_test_probns\u001b[0m\u001b[1;33m,\u001b[0m \u001b[0mnaive_preds\u001b[0m\u001b[1;33m)\u001b[0m\u001b[1;33m\u001b[0m\u001b[1;33m\u001b[0m\u001b[0m\n\u001b[0m\u001b[0;32m      2\u001b[0m \u001b[0mplot_pr_curve\u001b[0m\u001b[1;33m(\u001b[0m\u001b[0my_test\u001b[0m\u001b[1;33m,\u001b[0m \u001b[0mknn_test_probns\u001b[0m\u001b[1;33m)\u001b[0m\u001b[1;33m\u001b[0m\u001b[1;33m\u001b[0m\u001b[0m\n\u001b[0;32m      3\u001b[0m \u001b[0mprint\u001b[0m\u001b[1;33m(\u001b[0m\u001b[1;34mf'Testing Data ROC-AUC score KNN (Best Parameters + Feature Selection): {roc_auc_score(y_test, knn_test_probns):.3f}'\u001b[0m\u001b[1;33m)\u001b[0m\u001b[1;33m\u001b[0m\u001b[1;33m\u001b[0m\u001b[0m\n\u001b[0;32m      4\u001b[0m \u001b[0mprecision\u001b[0m\u001b[1;33m,\u001b[0m \u001b[0mrecall\u001b[0m\u001b[1;33m,\u001b[0m \u001b[0m_\u001b[0m \u001b[1;33m=\u001b[0m \u001b[0mprecision_recall_curve\u001b[0m\u001b[1;33m(\u001b[0m\u001b[0my_test\u001b[0m\u001b[1;33m,\u001b[0m \u001b[0mknn_test_probns\u001b[0m\u001b[1;33m)\u001b[0m\u001b[1;33m\u001b[0m\u001b[1;33m\u001b[0m\u001b[0m\n\u001b[0;32m      5\u001b[0m \u001b[0mprint\u001b[0m\u001b[1;33m(\u001b[0m\u001b[1;34mf'Testing Data PR-AUC score KNN (GridSearch CV): {auc(recall, precision):.3f}'\u001b[0m\u001b[1;33m)\u001b[0m\u001b[1;33m\u001b[0m\u001b[1;33m\u001b[0m\u001b[0m\n",
      "\u001b[1;31mNameError\u001b[0m: name 'knn_test_probns' is not defined"
     ]
    }
   ],
   "source": [
    "#Generating relevant curves and evaluation metrics\n",
    "plot_roc_curve(y_test, knn_test_probs, naive_preds)\n",
    "plot_pr_curve(y_test, knn_test_probs)\n",
    "\n",
    "print(f'Testing Data ROC-AUC score KNN (Best Parameters + Feature Selection): {roc_auc_score(y_test, knn_test_probs):.3f}')\n",
    "\n",
    "precision, recall, _ = precision_recall_curve(y_test, knn_test_probs)\n",
    "print(f'Testing Data PR-AUC score KNN (GridSearch CV): {auc(recall, precision):.3f}')"
   ]
  },
  {
   "cell_type": "markdown",
   "id": "83815499-a571-479e-b7ac-5928a8747085",
   "metadata": {},
   "source": [
    "### K-Nearest Neighbors with GridSearch CV - Version 2 <a id='3rdmodel_knn'></a>"
   ]
  },
  {
   "cell_type": "code",
   "execution_count": 35,
   "id": "1468b51a-8945-4f95-9e8b-e5a150c2e29e",
   "metadata": {
    "collapsed": true,
    "jupyter": {
     "outputs_hidden": true
    },
    "tags": []
   },
   "outputs": [
    {
     "name": "stdout",
     "output_type": "stream",
     "text": [
      "Fitting 3 folds for each of 6 candidates, totalling 18 fits\n"
     ]
    },
    {
     "name": "stderr",
     "output_type": "stream",
     "text": [
      "C:\\Users\\eddie\\anaconda3\\lib\\site-packages\\sklearn\\model_selection\\_search.py:922: UserWarning: One or more of the test scores are non-finite: [       nan        nan        nan        nan        nan 0.88189555]\n",
      "  warnings.warn(\n"
     ]
    },
    {
     "data": {
      "text/plain": [
       "GridSearchCV(cv=3, estimator=KNeighborsClassifier(), n_jobs=-1,\n",
       "             param_grid={'n_neighbors': [2, 5, 10],\n",
       "                         'weights': ['uniform', 'distance']},\n",
       "             verbose=2)"
      ]
     },
     "execution_count": 35,
     "metadata": {},
     "output_type": "execute_result"
    }
   ],
   "source": [
    "#Instantiating model and fitting using specified KNN parameters\n",
    "knn_params = {\n",
    "    'n_neighbors' : [2, 5, 10],\n",
    "    'weights'     : ['uniform', 'distance']\n",
    "}\n",
    "\n",
    "knn_gs_2 = GridSearchCV(KNeighborsClassifier(),\n",
    "                      param_grid = knn_params,\n",
    "                      cv = 3,\n",
    "                      verbose = 2,\n",
    "                      n_jobs = -1)\n",
    "\n",
    "knn_gs_2.fit(X_train, y_train)"
   ]
  },
  {
   "cell_type": "code",
   "execution_count": 48,
   "id": "add97356-90bb-494b-b700-80f0dd2dfaf5",
   "metadata": {},
   "outputs": [
    {
     "data": {
      "text/plain": [
       "{'n_neighbors': 10, 'weights': 'distance'}"
      ]
     },
     "execution_count": 48,
     "metadata": {},
     "output_type": "execute_result"
    }
   ],
   "source": [
    "#Best parameters from second grid search\n",
    "knn_gs_2.best_params_"
   ]
  },
  {
   "cell_type": "code",
   "execution_count": 36,
   "id": "79002b06-ab0a-4243-ab79-23d69bf8148f",
   "metadata": {},
   "outputs": [],
   "source": [
    "#Generating predictions\n",
    "y_preds = knn_gs_2.predict(X_test)\n",
    "y_preds_probs= knn_gs_2.predict_proba(X_test)\n"
   ]
  },
  {
   "cell_type": "code",
   "execution_count": null,
   "id": "3d3edc38-1616-45ac-8e06-9c3f79a72464",
   "metadata": {},
   "outputs": [],
   "source": [
    "knn_probs = pd.DataFrame(y_preds_probs, columns = ['knn_probs'])\n",
    "knn_probs.to_csv('../data/knn_probs.csv')"
   ]
  },
  {
   "cell_type": "code",
   "execution_count": 52,
   "id": "c94b3839-f0a6-4f9d-9920-4fa9239e7526",
   "metadata": {},
   "outputs": [
    {
     "data": {
      "text/plain": [
       "0.563449840779513"
      ]
     },
     "execution_count": 52,
     "metadata": {},
     "output_type": "execute_result"
    }
   ],
   "source": [
    "#Recall Score for second GridSearchCV\n",
    "recall_score(y_test, y_preds)"
   ]
  },
  {
   "cell_type": "code",
   "execution_count": 53,
   "id": "b08a6ba8-8dcc-4069-ae28-f69b918c89dc",
   "metadata": {},
   "outputs": [
    {
     "data": {
      "text/plain": [
       "0.7860658136256019"
      ]
     },
     "execution_count": 53,
     "metadata": {},
     "output_type": "execute_result"
    }
   ],
   "source": [
    "#Precision Score for second GridSearchCV\n",
    "precision_score(y_test, y_preds)"
   ]
  },
  {
   "cell_type": "code",
   "execution_count": 54,
   "id": "a7597ed4-3ec3-47c8-9a21-7ec5d8b4d496",
   "metadata": {},
   "outputs": [
    {
     "data": {
      "text/plain": [
       "0.8827746663534191"
      ]
     },
     "execution_count": 54,
     "metadata": {},
     "output_type": "execute_result"
    }
   ],
   "source": [
    "#Accuracy Score for second GridSearchCV\n",
    "accuracy_score(y_test, y_preds)"
   ]
  },
  {
   "cell_type": "code",
   "execution_count": 60,
   "id": "5873793d-bee9-4844-9a83-31ea2586e401",
   "metadata": {},
   "outputs": [
    {
     "data": {
      "image/png": "[encoded data removed]",
      "text/plain": [
       "<Figure size 432x288 with 1 Axes>"
      ]
     },
     "metadata": {
      "needs_background": "light"
     },
     "output_type": "display_data"
    },
    {
     "data": {
      "image/png": "[encoded data removed]",
      "text/plain": [
       "<Figure size 432x288 with 1 Axes>"
      ]
     },
     "metadata": {
      "needs_background": "light"
     },
     "output_type": "display_data"
    },
    {
     "name": "stdout",
     "output_type": "stream",
     "text": [
      "Testing Data ROC-AUC score KNN (Best Parameters + Feature Selection): 0.915\n",
      "Testing Data PR-AUC score KNN (GridSearch CV): 0.757\n"
     ]
    }
   ],
   "source": [
    "#Generating relevant curves and evaluation metrics\n",
    "plot_roc_curve(y_test, y_preds_probs, naive_preds)\n",
    "plot_pr_curve(y_test, y_preds_probs)\n",
    "\n",
    "print(f'Testing Data ROC-AUC score KNN (Best Parameters + Feature Selection): {roc_auc_score(y_test, y_preds_probs):.3f}')\n",
    "\n",
    "precision, recall, _ = precision_recall_curve(y_test, y_preds_probs)\n",
    "print(f'Testing Data PR-AUC score KNN (GridSearch CV): {auc(recall, precision):.3f}')"
   ]
  }
 ],
 "metadata": {
  "kernelspec": {
   "display_name": "Python 3",
   "language": "python",
   "name": "python3"
  },
  "language_info": {
   "codemirror_mode": {
    "name": "ipython",
    "version": 3
   },
   "file_extension": ".py",
   "mimetype": "text/x-python",
   "name": "python",
   "nbconvert_exporter": "python",
   "pygments_lexer": "ipython3",
   "version": "3.8.11"
  }
 },
 "nbformat": 4,
 "nbformat_minor": 5
}
